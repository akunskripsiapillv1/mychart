{
 "cells": [
  {
   "cell_type": "markdown",
   "id": "aeb26b37",
   "metadata": {},
   "source": [
    "# Fungsi Krippendorff's Alpha"
   ]
  },
  {
   "cell_type": "code",
   "execution_count": 11,
   "id": "dae56a9c",
   "metadata": {},
   "outputs": [],
   "source": [
    "import pandas as pd\n",
    "import numpy as np\n",
    "import krippendorff\n",
    "\n",
    "def hitung_krippendorff_alpha(df: pd.DataFrame, kolom_annotator: list, level_of_measurement: str = 'ordinal') -> float:\n",
    "    \"\"\"\n",
    "    Menghitung Krippendorff's Alpha dari sebuah DataFrame.\n",
    "\n",
    "    Args:\n",
    "        df (pd.DataFrame): DataFrame yang berisi data anotasi.\n",
    "        kolom_annotator (list): Daftar nama kolom yang berisi data dari para anotator.\n",
    "        level_of_measurement (str): Tingkat pengukuran data. \n",
    "                                    Pilihan: 'nominal', 'ordinal', 'interval', 'ratio'. \n",
    "                                    Defaultnya adalah 'ordinal'.\n",
    "\n",
    "    Returns:\n",
    "        float: Nilai Krippendorff's Alpha.\n",
    "    \"\"\"\n",
    "    # Memilih hanya kolom anotator dari DataFrame\n",
    "    df_annotator = df[kolom_annotator]\n",
    "\n",
    "    # Library krippendorff memerlukan data dalam format list of lists,\n",
    "    # di mana setiap list internal adalah data dari satu anotator.\n",
    "    # Format DataFrame kita adalah: baris=item, kolom=anotator.\n",
    "    # Kita perlu mentransposenya (.T) agar menjadi baris=anotator, kolom=item.\n",
    "    data_untuk_alpha = df_annotator.T.values.tolist()\n",
    "\n",
    "    # Menghitung alpha menggunakan library krippendorff\n",
    "    # Fungsi ini juga secara otomatis menangani data yang kosong (missing values)\n",
    "    alpha = krippendorff.alpha(reliability_data=data_untuk_alpha,\n",
    "                               level_of_measurement=level_of_measurement)\n",
    "\n",
    "    return alpha"
   ]
  },
  {
   "cell_type": "markdown",
   "id": "9a79222d",
   "metadata": {},
   "source": [
    "## LLM Augmented Annotation"
   ]
  },
  {
   "cell_type": "code",
   "execution_count": 12,
   "id": "43ea46eb",
   "metadata": {},
   "outputs": [
    {
     "name": "stdout",
     "output_type": "stream",
     "text": [
      "DataFrame Sampel:\n",
      "         TableID_Aspect  X1  X2  X3\n",
      "0         T0131_Fluency   7   6   6\n",
      "1    T0131_Faithfulness   6   5   6\n",
      "2    T0131_Completeness   7   7   7\n",
      "3         T1084_Fluency   5   4   5\n",
      "4    T1084_Faithfulness   7   7   6\n",
      "..                  ...  ..  ..  ..\n",
      "715  T0724_Faithfulness   7   6   6\n",
      "716  T0724_Completeness   7   7   7\n",
      "717       T1115_Fluency   5   5   6\n",
      "718  T1115_Faithfulness   7   6   6\n",
      "719  T1115_Completeness   7   7   7\n",
      "\n",
      "[720 rows x 4 columns]\n",
      "------------------------------\n",
      "Nilai Krippendorff's Alpha (Ordinal): 0.4787\n"
     ]
    }
   ],
   "source": [
    "# 1. Membaca data\n",
    "df = pd.read_csv('formatted_output_parafrasa.csv')\n",
    "\n",
    "# 2. Tentukan kolom mana yang merupakan data anotator\n",
    "kolom_annotator = ['X1', 'X2', 'X3']\n",
    "\n",
    "# 3. Hitung Alpha dengan level pengukuran yang berbeda\n",
    "alpha_ordinal = hitung_krippendorff_alpha(df, kolom_annotator, level_of_measurement='ordinal')\n",
    "\n",
    "# --- Tampilan Hasil ---\n",
    "print(\"DataFrame Sampel:\")\n",
    "print(df)\n",
    "print(\"-\" * 30)\n",
    "print(f\"Nilai Krippendorff's Alpha (Ordinal): {alpha_ordinal:.4f}\")"
   ]
  },
  {
   "cell_type": "markdown",
   "id": "1a7bd5f3",
   "metadata": {},
   "source": [
    "## Human Evaluation"
   ]
  },
  {
   "cell_type": "code",
   "execution_count": 13,
   "id": "db84972d",
   "metadata": {},
   "outputs": [
    {
     "name": "stdout",
     "output_type": "stream",
     "text": [
      "DataFrame Sampel:\n",
      "                                 Annotator  X1  X2  X3\n",
      "0                Aspek Penilaian [Fluency]   4   5   5\n",
      "1    Aspek Penilaian [Factual correctness]   5   5   5\n",
      "2            Aspek Penilaian [Completness]   2   2   4\n",
      "3                Aspek Penilaian [Fluency]   3   5   3\n",
      "4    Aspek Penilaian [Factual correctness]   2   2   5\n",
      "..                                     ...  ..  ..  ..\n",
      "247  Aspek Penilaian [Factual correctness]   5   5   5\n",
      "248          Aspek Penilaian [Completness]   5   5   5\n",
      "249              Aspek Penilaian [Fluency]   5   5   5\n",
      "250  Aspek Penilaian [Factual correctness]   4   5   4\n",
      "251          Aspek Penilaian [Completness]   5   5   5\n",
      "\n",
      "[252 rows x 4 columns]\n",
      "------------------------------\n",
      "Nilai Krippendorff's Alpha (Ordinal): 0.7177\n"
     ]
    }
   ],
   "source": [
    "# 1. Membaca data\n",
    "df = pd.read_csv('human_eval_results.csv')\n",
    "\n",
    "# 2. Tentukan kolom mana yang merupakan data anotator\n",
    "kolom_annotator = ['X1', 'X2', 'X3']\n",
    "\n",
    "# 3. Hitung Alpha dengan level pengukuran yang berbeda\n",
    "alpha_ordinal = hitung_krippendorff_alpha(df, kolom_annotator, level_of_measurement='ordinal')\n",
    "\n",
    "# --- Tampilan Hasil ---\n",
    "print(\"DataFrame Sampel:\")\n",
    "print(df)\n",
    "print(\"-\" * 30)\n",
    "print(f\"Nilai Krippendorff's Alpha (Ordinal): {alpha_ordinal:.4f}\")"
   ]
  },
  {
   "cell_type": "markdown",
   "id": "a3390b33",
   "metadata": {},
   "source": [
    "## Skenario Testing"
   ]
  },
  {
   "cell_type": "code",
   "execution_count": 14,
   "id": "71e40092",
   "metadata": {},
   "outputs": [
    {
     "name": "stdout",
     "output_type": "stream",
     "text": [
      "DataFrame Sampel:\n",
      "      No                             Pertanyaan  X1  X2  X3\n",
      "0      1              Aspek Penilaian [Fluency]   3   1   3\n",
      "1      2  Aspek Penilaian [Factual Correctness]   1   1   1\n",
      "2      3         Aspek Penilaian [Completeness]   5   3   4\n",
      "3      4              Aspek Penilaian [Fluency]   4   5   4\n",
      "4      5  Aspek Penilaian [Factual Correctness]   2   1   1\n",
      "..   ...                                    ...  ..  ..  ..\n",
      "355  356  Aspek Penilaian [Factual Correctness]   1   1   1\n",
      "356  357         Aspek Penilaian [Completeness]   5   4   3\n",
      "357  358              Aspek Penilaian [Fluency]   5   5   4\n",
      "358  359  Aspek Penilaian [Factual Correctness]   1   1   2\n",
      "359  360         Aspek Penilaian [Completeness]   5   4   4\n",
      "\n",
      "[360 rows x 5 columns]\n",
      "------------------------------\n",
      "Nilai Krippendorff's Alpha (Ordinal): 0.5933\n"
     ]
    }
   ],
   "source": [
    "# 1. Membaca data\n",
    "df = pd.read_csv('skenario_testing_results.csv')\n",
    "\n",
    "# 2. Tentukan kolom mana yang merupakan data anotator\n",
    "kolom_annotator = ['X1', 'X2', 'X3']\n",
    "\n",
    "# 3. Hitung Alpha dengan level pengukuran yang berbeda\n",
    "alpha_ordinal = hitung_krippendorff_alpha(df, kolom_annotator, level_of_measurement='ordinal')\n",
    "\n",
    "# --- Tampilan Hasil ---\n",
    "print(\"DataFrame Sampel:\")\n",
    "print(df)\n",
    "print(\"-\" * 30)\n",
    "print(f\"Nilai Krippendorff's Alpha (Ordinal): {alpha_ordinal:.4f}\")"
   ]
  },
  {
   "cell_type": "markdown",
   "id": "c4b8fa07",
   "metadata": {},
   "source": [
    "# Fungsi Skor Rata-rata Tiap Aspek"
   ]
  },
  {
   "cell_type": "code",
   "execution_count": 4,
   "id": "f52a1ed7",
   "metadata": {},
   "outputs": [],
   "source": [
    "import pandas as pd\n",
    "import numpy as np\n",
    "\n",
    "def hitung_rata_rata_aspek(df: pd.DataFrame, kolom_annotator: list):\n",
    "    \"\"\"\n",
    "    Menghitung rata-rata skor untuk setiap aspek dan model evaluasi.\n",
    "\n",
    "    Args:\n",
    "        df (pd.DataFrame): DataFrame berisi skor mentah.\n",
    "        kolom_annotator (list): Daftar nama kolom anotator, cth: ['annotator_1', 'annotator_2'].\n",
    "\n",
    "    Returns:\n",
    "        pd.Series: Series yang berisi rata-rata skor, diindeks berdasarkan model dan aspek.\n",
    "    \"\"\"\n",
    "    # Salin DataFrame agar tidak mengubah data asli\n",
    "    df_copy = df.copy()\n",
    "\n",
    "    # --- Menambahkan kolom 'aspek' dan 'model' berdasarkan pola ---\n",
    "    \n",
    "    # Pola aspek berulang setiap 3 baris\n",
    "    aspek_list = ['Fluency', 'Factual Correctness', 'Completeness']\n",
    "    df_copy['aspek'] = [aspek_list[i % 3] for i in range(len(df_copy))]\n",
    "\n",
    "    # Pola model berganti setiap 3 baris (UniChart, ChartInstruct-Llama)\n",
    "    model_list = ['UniChart', 'ChartInstruct-Llama']\n",
    "    df_copy['model'] = [model_list[(i // 3) % 2] for i in range(len(df_copy))]\n",
    "    \n",
    "    # --- Kalkulasi Rata-rata ---\n",
    "\n",
    "    # 1. Hitung rata-rata skor dari semua annotator untuk setiap baris (pertanyaan)\n",
    "    df_copy['skor_rata_rata'] = df_copy[kolom_annotator].mean(axis=1)\n",
    "\n",
    "    # 2. Kelompokkan berdasarkan 'model' dan 'aspek', lalu hitung rata-rata dari 'skor_rata_rata'\n",
    "    hasil_akhir = df_copy.groupby(['model', 'aspek'])['skor_rata_rata'].mean()\n",
    "\n",
    "    return hasil_akhir"
   ]
  },
  {
   "cell_type": "markdown",
   "id": "5dbe5cf1",
   "metadata": {},
   "source": [
    "## Human Evaluation"
   ]
  },
  {
   "cell_type": "markdown",
   "id": "c3996611",
   "metadata": {},
   "source": [
    "### ALL"
   ]
  },
  {
   "cell_type": "code",
   "execution_count": 5,
   "id": "5ef4e940",
   "metadata": {},
   "outputs": [
    {
     "name": "stdout",
     "output_type": "stream",
     "text": [
      "📊 Hasil Rata-Rata Skor per Aspek dan Model:\n",
      "model                aspek              \n",
      "ChartInstruct-Llama  Completeness           3.825397\n",
      "                     Factual Correctness    3.730159\n",
      "                     Fluency                4.238095\n",
      "UniChart             Completeness           3.793651\n",
      "                     Factual Correctness    3.468254\n",
      "                     Fluency                4.190476\n",
      "Name: skor_rata_rata, dtype: float64\n"
     ]
    }
   ],
   "source": [
    "# 1. Membaca data\n",
    "df = pd.read_csv('human_eval_results.csv')\n",
    "\n",
    "# 2. Tentukan kolom mana yang merupakan data anotator\n",
    "kolom_annotator = ['X1', 'X2', 'X3']\n",
    "\n",
    "# 3. Panggil fungsi untuk mendapatkan hasilnya\n",
    "hasil_evaluasi = hitung_rata_rata_aspek(df, kolom_annotator)\n",
    "\n",
    "# 4. Tampilkan hasil\n",
    "print(\"📊 Hasil Rata-Rata Skor per Aspek dan Model:\")\n",
    "print(hasil_evaluasi)"
   ]
  },
  {
   "cell_type": "markdown",
   "id": "a02db3df",
   "metadata": {},
   "source": [
    "### PARSIAL"
   ]
  },
  {
   "cell_type": "code",
   "execution_count": 6,
   "id": "8633e1c6",
   "metadata": {},
   "outputs": [
    {
     "name": "stdout",
     "output_type": "stream",
     "text": [
      "🚀 Memproses semua subset data...\n",
      "✅ Proses selesai.\n",
      "\n",
      "========================================\n",
      "\n",
      "📊 Hasil untuk subset data: Statista\n",
      "model                aspek              \n",
      "ChartInstruct-Llama  Completeness           2.814815\n",
      "                     Factual Correctness    3.314815\n",
      "                     Fluency                3.666667\n",
      "UniChart             Completeness           2.870370\n",
      "                     Factual Correctness    2.759259\n",
      "                     Fluency                3.777778\n",
      "Name: skor_rata_rata, dtype: float64\n",
      "\n",
      "========================================\n",
      "\n",
      "📊 Hasil untuk subset data: BPS\n",
      "model                aspek              \n",
      "ChartInstruct-Llama  Completeness           4.583333\n",
      "                     Factual Correctness    4.041667\n",
      "                     Fluency                4.666667\n",
      "UniChart             Completeness           4.486111\n",
      "                     Factual Correctness    4.000000\n",
      "                     Fluency                4.500000\n",
      "Name: skor_rata_rata, dtype: float64\n",
      "\n",
      "========================================\n",
      "\n"
     ]
    }
   ],
   "source": [
    "# 1. MUAT DATA ANDA (Ganti baris ini dengan file Anda)\n",
    "df = pd.read_csv('human_eval_results.csv')\n",
    "\n",
    "# 2. DEFINISIKAN SEMUA SUBSET DATA\n",
    "kolom_annotator = ['X1', 'X2', 'X3']\n",
    "subset_data = {\n",
    "    \"Statista\": (0, 108),\n",
    "    \"BPS\": (108, 252),\n",
    "}\n",
    "\n",
    "# 3. PROSES SEMUA SUBSET DATA DALAM LOOP\n",
    "semua_hasil = {}\n",
    "print(\"🚀 Memproses semua subset data...\")\n",
    "for nama_subset, (baris_awal, baris_akhir) in subset_data.items():\n",
    "    # Slice DataFrame menggunakan .iloc untuk pemilihan baris berbasis angka\n",
    "    df_subset = df.iloc[baris_awal:baris_akhir]\n",
    "    \n",
    "    # Panggil fungsi dan simpan hasilnya\n",
    "    hasil = hitung_rata_rata_aspek(df_subset, kolom_annotator)\n",
    "    semua_hasil[nama_subset] = hasil\n",
    "print(\"✅ Proses selesai.\")\n",
    "\n",
    "# 4. TAMPILKAN HASIL AKHIR\n",
    "print(\"\\n\" + \"=\"*40 + \"\\n\")\n",
    "for nama_subset, hasil_evaluasi in semua_hasil.items():\n",
    "    print(f\"📊 Hasil untuk subset data: {nama_subset}\")\n",
    "    print(hasil_evaluasi)\n",
    "    print(\"\\n\" + \"=\"*40 + \"\\n\")"
   ]
  },
  {
   "cell_type": "markdown",
   "id": "64157b2f",
   "metadata": {},
   "source": [
    "## Skenario Testing"
   ]
  },
  {
   "cell_type": "markdown",
   "id": "45497931",
   "metadata": {},
   "source": [
    "### ALL"
   ]
  },
  {
   "cell_type": "code",
   "execution_count": 7,
   "id": "e9b9e84d",
   "metadata": {},
   "outputs": [
    {
     "name": "stdout",
     "output_type": "stream",
     "text": [
      "📊 Hasil Rata-Rata Skor per Aspek dan Model:\n",
      "model                aspek              \n",
      "ChartInstruct-Llama  Completeness           4.461111\n",
      "                     Factual Correctness    2.977778\n",
      "                     Fluency                4.477778\n",
      "UniChart             Completeness           4.283333\n",
      "                     Factual Correctness    3.200000\n",
      "                     Fluency                4.166667\n",
      "Name: skor_rata_rata, dtype: float64\n"
     ]
    }
   ],
   "source": [
    "# 1. Membaca data\n",
    "df = pd.read_csv('skenario_testing_results.csv')\n",
    "\n",
    "# 2. Tentukan kolom mana yang merupakan data anotator\n",
    "kolom_annotator = ['X1', 'X2', 'X3']\n",
    "\n",
    "# 3. Panggil fungsi untuk mendapatkan hasilnya\n",
    "hasil_evaluasi = hitung_rata_rata_aspek(df, kolom_annotator)\n",
    "\n",
    "# 4. Tampilkan hasil\n",
    "print(\"📊 Hasil Rata-Rata Skor per Aspek dan Model:\")\n",
    "print(hasil_evaluasi)"
   ]
  },
  {
   "cell_type": "markdown",
   "id": "ba02f77f",
   "metadata": {},
   "source": [
    "### PARSIAL"
   ]
  },
  {
   "cell_type": "code",
   "execution_count": 8,
   "id": "cf847a3c",
   "metadata": {},
   "outputs": [
    {
     "name": "stdout",
     "output_type": "stream",
     "text": [
      "🚀 Memproses semua skenario...\n",
      "✅ Proses selesai.\n",
      "\n",
      "========================================\n",
      "\n",
      "📊 Hasil untuk Skenario: Variasi Gaya Visual\n",
      "model                aspek              \n",
      "ChartInstruct-Llama  Completeness           4.388889\n",
      "                     Factual Correctness    2.055556\n",
      "                     Fluency                4.333333\n",
      "UniChart             Completeness           4.222222\n",
      "                     Factual Correctness    2.888889\n",
      "                     Fluency                4.027778\n",
      "Name: skor_rata_rata, dtype: float64\n",
      "\n",
      "========================================\n",
      "\n",
      "📊 Hasil untuk Skenario: 3D Charts\n",
      "model                aspek              \n",
      "ChartInstruct-Llama  Completeness           4.444444\n",
      "                     Factual Correctness    3.638889\n",
      "                     Fluency                4.500000\n",
      "UniChart             Completeness           4.472222\n",
      "                     Factual Correctness    3.805556\n",
      "                     Fluency                4.277778\n",
      "Name: skor_rata_rata, dtype: float64\n",
      "\n",
      "========================================\n",
      "\n",
      "📊 Hasil untuk Skenario: Pixel Resolutions\n",
      "model                aspek              \n",
      "ChartInstruct-Llama  Completeness           4.472222\n",
      "                     Factual Correctness    3.250000\n",
      "                     Fluency                4.416667\n",
      "UniChart             Completeness           3.972222\n",
      "                     Factual Correctness    3.166667\n",
      "                     Fluency                3.972222\n",
      "Name: skor_rata_rata, dtype: float64\n",
      "\n",
      "========================================\n",
      "\n",
      "📊 Hasil untuk Skenario: Add Noise\n",
      "model                aspek              \n",
      "ChartInstruct-Llama  Completeness           4.555556\n",
      "                     Factual Correctness    3.194444\n",
      "                     Fluency                4.611111\n",
      "UniChart             Completeness           4.472222\n",
      "                     Factual Correctness    3.305556\n",
      "                     Fluency                4.361111\n",
      "Name: skor_rata_rata, dtype: float64\n",
      "\n",
      "========================================\n",
      "\n",
      "📊 Hasil untuk Skenario: Remove Element\n",
      "model                aspek              \n",
      "ChartInstruct-Llama  Completeness           4.444444\n",
      "                     Factual Correctness    2.750000\n",
      "                     Fluency                4.527778\n",
      "UniChart             Completeness           4.277778\n",
      "                     Factual Correctness    2.833333\n",
      "                     Fluency                4.194444\n",
      "Name: skor_rata_rata, dtype: float64\n",
      "\n",
      "========================================\n",
      "\n"
     ]
    }
   ],
   "source": [
    "# 1. MUAT DATA ANDA (Ganti baris ini dengan file Anda)\n",
    "df = pd.read_csv('skenario_testing_results.csv')\n",
    "\n",
    "# 2. DEFINISIKAN SEMUA SKENARIO\n",
    "kolom_annotator = ['X1', 'X2', 'X3']\n",
    "skenarios = {\n",
    "    \"Variasi Gaya Visual\": (0, 72),\n",
    "    \"3D Charts\": (72, 144),\n",
    "    \"Pixel Resolutions\": (144, 216),\n",
    "    \"Add Noise\": (216, 288),\n",
    "    \"Remove Element\": (288, 360)\n",
    "}\n",
    "\n",
    "# 3. PROSES SEMUA SKENARIO DALAM LOOP\n",
    "semua_hasil = {}\n",
    "print(\"🚀 Memproses semua skenario...\")\n",
    "for nama_skenario, (baris_awal, baris_akhir) in skenarios.items():\n",
    "    # Slice DataFrame menggunakan .iloc untuk pemilihan baris berbasis angka\n",
    "    df_skenario = df.iloc[baris_awal:baris_akhir]\n",
    "    \n",
    "    # Panggil fungsi dan simpan hasilnya\n",
    "    hasil = hitung_rata_rata_aspek(df_skenario, kolom_annotator)\n",
    "    semua_hasil[nama_skenario] = hasil\n",
    "print(\"✅ Proses selesai.\")\n",
    "\n",
    "# 4. TAMPILKAN HASIL AKHIR\n",
    "print(\"\\n\" + \"=\"*40 + \"\\n\")\n",
    "for nama_skenario, hasil_evaluasi in semua_hasil.items():\n",
    "    print(f\"📊 Hasil untuk Skenario: {nama_skenario}\")\n",
    "    print(hasil_evaluasi)\n",
    "    print(\"\\n\" + \"=\"*40 + \"\\n\")"
   ]
  },
  {
   "cell_type": "markdown",
   "id": "afae4ea8",
   "metadata": {},
   "source": [
    "# Fungsi Korelasi Spearman"
   ]
  },
  {
   "cell_type": "code",
   "execution_count": 1,
   "id": "a328abaa",
   "metadata": {},
   "outputs": [
    {
     "name": "stdout",
     "output_type": "stream",
     "text": [
      "Requirement already satisfied: scipy in c:\\python312\\lib\\site-packages (1.14.1)\n",
      "Requirement already satisfied: numpy<2.3,>=1.23.5 in c:\\python312\\lib\\site-packages (from scipy) (2.1.0)\n"
     ]
    },
    {
     "name": "stderr",
     "output_type": "stream",
     "text": [
      "WARNING: Ignoring invalid distribution ~ (C:\\Python312\\Lib\\site-packages)\n",
      "WARNING: Ignoring invalid distribution ~ip (C:\\Python312\\Lib\\site-packages)\n",
      "WARNING: Ignoring invalid distribution ~~p (C:\\Python312\\Lib\\site-packages)\n",
      "WARNING: Ignoring invalid distribution ~ (C:\\Python312\\Lib\\site-packages)\n",
      "WARNING: Ignoring invalid distribution ~ip (C:\\Python312\\Lib\\site-packages)\n",
      "WARNING: Ignoring invalid distribution ~~p (C:\\Python312\\Lib\\site-packages)\n",
      "WARNING: Ignoring invalid distribution ~ (C:\\Python312\\Lib\\site-packages)\n",
      "WARNING: Ignoring invalid distribution ~ip (C:\\Python312\\Lib\\site-packages)\n",
      "WARNING: Ignoring invalid distribution ~~p (C:\\Python312\\Lib\\site-packages)\n",
      "\n",
      "[notice] A new release of pip is available: 25.0.1 -> 25.1.1\n",
      "[notice] To update, run: python.exe -m pip install --upgrade pip\n"
     ]
    }
   ],
   "source": [
    "!pip install scipy"
   ]
  },
  {
   "cell_type": "code",
   "execution_count": 4,
   "metadata": {},
   "outputs": [],
   "source": [
    "import pandas as pd\n",
    "from scipy.stats import spearmanr\n",
    "\n",
    "def hitung_korelasi_spearman(df: pd.DataFrame, kolom_annotator1: str, kolom_annotator2: str):\n",
    "    \"\"\"\n",
    "    Menghitung korelasi Spearman antara dua kolom anotator dalam DataFrame.\n",
    "\n",
    "    Args:\n",
    "        df (pd.DataFrame): DataFrame yang berisi data.\n",
    "        kolom_annotator1 (str): Nama kolom untuk anotator pertama.\n",
    "        kolom_annotator2 (str): Nama kolom untuk anotator kedua.\n",
    "\n",
    "    Returns:\n",
    "        tuple: Berisi (correlation_coefficient, p_value).\n",
    "    \"\"\"\n",
    "    # Mengambil data dari dua kolom yang ditentukan\n",
    "    anotator1_scores = df[kolom_annotator1]\n",
    "    anotator2_scores = df[kolom_annotator2]\n",
    "    \n",
    "    # Menghitung korelasi Spearman dan p-value\n",
    "    correlation, p_value = spearmanr(anotator1_scores, anotator2_scores)\n",
    "    \n",
    "    return correlation, p_value"
   ]
  },
  {
   "cell_type": "markdown",
   "id": "e970f5ff",
   "metadata": {},
   "source": [
    "## Human Evaluation"
   ]
  },
  {
   "cell_type": "code",
   "execution_count": 5,
   "id": "e9bb69da",
   "metadata": {},
   "outputs": [
    {
     "name": "stdout",
     "output_type": "stream",
     "text": [
      "Korelasi antara Anotator 1 dan Anotator 2:\n",
      "  Spearman's correlation (rs): 0.7541\n",
      "  P-value: 0.0000\n",
      "\n",
      "Korelasi antara Anotator 1 dan Anotator 3:\n",
      "  Spearman's correlation (rs): 0.6972\n",
      "  P-value: 0.0000\n",
      "\n",
      "Korelasi antara Anotator 2 dan Anotator 3:\n",
      "  Spearman's correlation (rs): 0.7283\n",
      "  P-value: 0.0000\n"
     ]
    }
   ],
   "source": [
    "# 1. Membaca data\n",
    "df = pd.read_csv('human_eval_results.csv')\n",
    "\n",
    "# 2. Hitung korelasi antara annotator_1 dan annotator_2\n",
    "corr_12, pval_12 = hitung_korelasi_spearman(df, 'X1', 'X2')\n",
    "\n",
    "# 3. Hitung korelasi antara annotator_1 dan annotator_3\n",
    "corr_13, pval_13 = hitung_korelasi_spearman(df, 'X1', 'X3')\n",
    "\n",
    "# 4. Hitung korelasi antara annotator_2 dan annotator_3\n",
    "corr_23, pval_23 = hitung_korelasi_spearman(df, 'X2', 'X3')\n",
    "\n",
    "# 5. Tampilkan hasil\n",
    "print(\"Korelasi antara Anotator 1 dan Anotator 2:\")\n",
    "print(f\"  Spearman's correlation (rs): {corr_12:.4f}\")\n",
    "print(f\"  P-value: {pval_12:.4f}\\n\")\n",
    "\n",
    "print(\"Korelasi antara Anotator 1 dan Anotator 3:\")\n",
    "print(f\"  Spearman's correlation (rs): {corr_13:.4f}\")\n",
    "print(f\"  P-value: {pval_13:.4f}\\n\")\n",
    "\n",
    "print(\"Korelasi antara Anotator 2 dan Anotator 3:\")\n",
    "print(f\"  Spearman's correlation (rs): {corr_23:.4f}\")\n",
    "print(f\"  P-value: {pval_23:.4f}\")"
   ]
  },
  {
   "cell_type": "markdown",
   "id": "214774ea",
   "metadata": {},
   "source": [
    "## Skenario Testing"
   ]
  },
  {
   "cell_type": "code",
   "execution_count": 6,
   "id": "c67fdcee",
   "metadata": {},
   "outputs": [
    {
     "name": "stdout",
     "output_type": "stream",
     "text": [
      "Korelasi antara Anotator 1 dan Anotator 2:\n",
      "  Spearman's correlation (rs): 0.5714\n",
      "  P-value: 0.0000\n",
      "\n",
      "Korelasi antara Anotator 1 dan Anotator 3:\n",
      "  Spearman's correlation (rs): 0.6886\n",
      "  P-value: 0.0000\n",
      "\n",
      "Korelasi antara Anotator 2 dan Anotator 3:\n",
      "  Spearman's correlation (rs): 0.5696\n",
      "  P-value: 0.0000\n"
     ]
    }
   ],
   "source": [
    "# 1. Membaca data\n",
    "df = pd.read_csv('skenario_testing_results.csv')\n",
    "\n",
    "# 2. Hitung korelasi antara annotator_1 dan annotator_2\n",
    "corr_12, pval_12 = hitung_korelasi_spearman(df, 'X1', 'X2')\n",
    "\n",
    "# 3. Hitung korelasi antara annotator_1 dan annotator_3\n",
    "corr_13, pval_13 = hitung_korelasi_spearman(df, 'X1', 'X3')\n",
    "\n",
    "# 4. Hitung korelasi antara annotator_2 dan annotator_3\n",
    "corr_23, pval_23 = hitung_korelasi_spearman(df, 'X2', 'X3')\n",
    "\n",
    "# 5. Tampilkan hasil\n",
    "print(\"Korelasi antara Anotator 1 dan Anotator 2:\")\n",
    "print(f\"  Spearman's correlation (rs): {corr_12:.4f}\")\n",
    "print(f\"  P-value: {pval_12:.4f}\\n\")\n",
    "\n",
    "print(\"Korelasi antara Anotator 1 dan Anotator 3:\")\n",
    "print(f\"  Spearman's correlation (rs): {corr_13:.4f}\")\n",
    "print(f\"  P-value: {pval_13:.4f}\\n\")\n",
    "\n",
    "print(\"Korelasi antara Anotator 2 dan Anotator 3:\")\n",
    "print(f\"  Spearman's correlation (rs): {corr_23:.4f}\")\n",
    "print(f\"  P-value: {pval_23:.4f}\")"
   ]
  }
 ],
 "metadata": {
  "kernelspec": {
   "display_name": "Python 3",
   "language": "python",
   "name": "python3"
  },
  "language_info": {
   "codemirror_mode": {
    "name": "ipython",
    "version": 3
   },
   "file_extension": ".py",
   "mimetype": "text/x-python",
   "name": "python",
   "nbconvert_exporter": "python",
   "pygments_lexer": "ipython3",
   "version": "3.12.4"
  }
 },
 "nbformat": 4,
 "nbformat_minor": 5
}
