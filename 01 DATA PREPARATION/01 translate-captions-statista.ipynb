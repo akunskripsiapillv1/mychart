{
 "cells": [
  {
   "cell_type": "code",
   "execution_count": 1,
   "id": "b3d5b299",
   "metadata": {
    "execution": {
     "iopub.execute_input": "2025-02-19T04:34:11.328796Z",
     "iopub.status.busy": "2025-02-19T04:34:11.328386Z",
     "iopub.status.idle": "2025-02-19T04:34:17.302332Z",
     "shell.execute_reply": "2025-02-19T04:34:17.300810Z"
    },
    "papermill": {
     "duration": 5.979579,
     "end_time": "2025-02-19T04:34:17.304339",
     "exception": false,
     "start_time": "2025-02-19T04:34:11.324760",
     "status": "completed"
    },
    "tags": []
   },
   "outputs": [
    {
     "name": "stdout",
     "output_type": "stream",
     "text": [
      "\u001b[2K   \u001b[90m━━━━━━━━━━━━━━━━━━━━━━━━━━━━━━━━━━━━━━━━\u001b[0m \u001b[32m42.3/42.3 kB\u001b[0m \u001b[31m2.2 MB/s\u001b[0m eta \u001b[36m0:00:00\u001b[0m\r\n",
      "\u001b[?25hNote: you may need to restart the kernel to use updated packages.\n"
     ]
    }
   ],
   "source": [
    "pip install -q deep-translator"
   ]
  },
  {
   "cell_type": "code",
   "execution_count": 2,
   "id": "30aefdba",
   "metadata": {
    "_cell_guid": "b1076dfc-b9ad-4769-8c92-a6c4dae69d19",
    "_uuid": "8f2839f25d086af736a60e9eeb907d3b93b6e0e5",
    "execution": {
     "iopub.execute_input": "2025-02-19T04:34:17.310238Z",
     "iopub.status.busy": "2025-02-19T04:34:17.309856Z",
     "iopub.status.idle": "2025-02-19T11:13:01.756328Z",
     "shell.execute_reply": "2025-02-19T11:13:01.754802Z"
    },
    "papermill": {
     "duration": 23924.484457,
     "end_time": "2025-02-19T11:13:01.791293",
     "exception": false,
     "start_time": "2025-02-19T04:34:17.306836",
     "status": "completed"
    },
    "tags": []
   },
   "outputs": [
    {
     "name": "stdout",
     "output_type": "stream",
     "text": [
      "Total Batches: 250\n"
     ]
    },
    {
     "name": "stderr",
     "output_type": "stream",
     "text": [
      "Translating Batches:   0%|          | 1/250 [01:32<6:24:30, 92.65s/it]"
     ]
    },
    {
     "name": "stdout",
     "output_type": "stream",
     "text": [
      "Batch 1 selesai: 100 file diterjemahkan dalam 92.65 detik.\n"
     ]
    },
    {
     "name": "stderr",
     "output_type": "stream",
     "text": [
      "Translating Batches:   1%|          | 2/250 [03:08<6:31:07, 94.63s/it]"
     ]
    },
    {
     "name": "stdout",
     "output_type": "stream",
     "text": [
      "Batch 2 selesai: 100 file diterjemahkan dalam 96.01 detik.\n"
     ]
    },
    {
     "name": "stderr",
     "output_type": "stream",
     "text": [
      "Translating Batches:   1%|          | 3/250 [04:45<6:33:52, 95.68s/it]"
     ]
    },
    {
     "name": "stdout",
     "output_type": "stream",
     "text": [
      "Batch 3 selesai: 100 file diterjemahkan dalam 96.93 detik.\n"
     ]
    },
    {
     "name": "stderr",
     "output_type": "stream",
     "text": [
      "Translating Batches:   2%|▏         | 4/250 [06:17<6:25:51, 94.11s/it]"
     ]
    },
    {
     "name": "stdout",
     "output_type": "stream",
     "text": [
      "Batch 4 selesai: 100 file diterjemahkan dalam 91.71 detik.\n"
     ]
    },
    {
     "name": "stderr",
     "output_type": "stream",
     "text": [
      "Translating Batches:   2%|▏         | 5/250 [07:44<6:13:38, 91.50s/it]"
     ]
    },
    {
     "name": "stdout",
     "output_type": "stream",
     "text": [
      "Batch 5 selesai: 100 file diterjemahkan dalam 86.88 detik.\n"
     ]
    },
    {
     "name": "stderr",
     "output_type": "stream",
     "text": [
      "Translating Batches:   2%|▏         | 6/250 [09:19<6:17:09, 92.74s/it]"
     ]
    },
    {
     "name": "stdout",
     "output_type": "stream",
     "text": [
      "Batch 6 selesai: 100 file diterjemahkan dalam 95.15 detik.\n"
     ]
    },
    {
     "name": "stderr",
     "output_type": "stream",
     "text": [
      "Translating Batches:   3%|▎         | 7/250 [10:46<6:07:50, 90.82s/it]"
     ]
    },
    {
     "name": "stdout",
     "output_type": "stream",
     "text": [
      "Batch 7 selesai: 100 file diterjemahkan dalam 86.87 detik.\n"
     ]
    },
    {
     "name": "stderr",
     "output_type": "stream",
     "text": [
      "Translating Batches:   3%|▎         | 8/250 [12:05<5:51:18, 87.10s/it]"
     ]
    },
    {
     "name": "stdout",
     "output_type": "stream",
     "text": [
      "Batch 8 selesai: 100 file diterjemahkan dalam 79.13 detik.\n"
     ]
    },
    {
     "name": "stderr",
     "output_type": "stream",
     "text": [
      "Translating Batches:   4%|▎         | 9/250 [14:00<6:24:55, 95.83s/it]"
     ]
    },
    {
     "name": "stdout",
     "output_type": "stream",
     "text": [
      "Batch 9 selesai: 100 file diterjemahkan dalam 115.03 detik.\n"
     ]
    },
    {
     "name": "stderr",
     "output_type": "stream",
     "text": [
      "Translating Batches:   4%|▍         | 10/250 [15:55<6:47:22, 101.85s/it]"
     ]
    },
    {
     "name": "stdout",
     "output_type": "stream",
     "text": [
      "Batch 10 selesai: 100 file diterjemahkan dalam 115.31 detik.\n"
     ]
    },
    {
     "name": "stderr",
     "output_type": "stream",
     "text": [
      "Translating Batches:   4%|▍         | 11/250 [17:46<6:56:31, 104.57s/it]"
     ]
    },
    {
     "name": "stdout",
     "output_type": "stream",
     "text": [
      "Batch 11 selesai: 100 file diterjemahkan dalam 110.74 detik.\n"
     ]
    },
    {
     "name": "stderr",
     "output_type": "stream",
     "text": [
      "Translating Batches:   5%|▍         | 12/250 [19:27<6:50:14, 103.42s/it]"
     ]
    },
    {
     "name": "stdout",
     "output_type": "stream",
     "text": [
      "Batch 12 selesai: 100 file diterjemahkan dalam 100.80 detik.\n"
     ]
    },
    {
     "name": "stderr",
     "output_type": "stream",
     "text": [
      "Translating Batches:   5%|▌         | 13/250 [21:15<6:53:50, 104.77s/it]"
     ]
    },
    {
     "name": "stdout",
     "output_type": "stream",
     "text": [
      "Batch 13 selesai: 100 file diterjemahkan dalam 107.87 detik.\n"
     ]
    },
    {
     "name": "stderr",
     "output_type": "stream",
     "text": [
      "Translating Batches:   6%|▌         | 14/250 [23:04<6:57:24, 106.12s/it]"
     ]
    },
    {
     "name": "stdout",
     "output_type": "stream",
     "text": [
      "Batch 14 selesai: 100 file diterjemahkan dalam 109.25 detik.\n"
     ]
    },
    {
     "name": "stderr",
     "output_type": "stream",
     "text": [
      "Translating Batches:   6%|▌         | 15/250 [24:47<6:52:11, 105.24s/it]"
     ]
    },
    {
     "name": "stdout",
     "output_type": "stream",
     "text": [
      "Batch 15 selesai: 100 file diterjemahkan dalam 103.20 detik.\n"
     ]
    },
    {
     "name": "stderr",
     "output_type": "stream",
     "text": [
      "Translating Batches:   6%|▋         | 16/250 [26:18<6:33:28, 100.89s/it]"
     ]
    },
    {
     "name": "stdout",
     "output_type": "stream",
     "text": [
      "Batch 16 selesai: 100 file diterjemahkan dalam 90.79 detik.\n"
     ]
    },
    {
     "name": "stderr",
     "output_type": "stream",
     "text": [
      "Translating Batches:   7%|▋         | 17/250 [27:50<6:22:00, 98.37s/it] "
     ]
    },
    {
     "name": "stdout",
     "output_type": "stream",
     "text": [
      "Batch 17 selesai: 100 file diterjemahkan dalam 92.51 detik.\n"
     ]
    },
    {
     "name": "stderr",
     "output_type": "stream",
     "text": [
      "Translating Batches:   7%|▋         | 18/250 [29:17<6:06:53, 94.89s/it]"
     ]
    },
    {
     "name": "stdout",
     "output_type": "stream",
     "text": [
      "Batch 18 selesai: 100 file diterjemahkan dalam 86.77 detik.\n"
     ]
    },
    {
     "name": "stderr",
     "output_type": "stream",
     "text": [
      "Translating Batches:   8%|▊         | 19/250 [31:00<6:15:00, 97.41s/it]"
     ]
    },
    {
     "name": "stdout",
     "output_type": "stream",
     "text": [
      "Batch 19 selesai: 100 file diterjemahkan dalam 103.27 detik.\n"
     ]
    },
    {
     "name": "stderr",
     "output_type": "stream",
     "text": [
      "Translating Batches:   8%|▊         | 20/250 [32:35<6:09:45, 96.46s/it]"
     ]
    },
    {
     "name": "stdout",
     "output_type": "stream",
     "text": [
      "Batch 20 selesai: 100 file diterjemahkan dalam 94.25 detik.\n"
     ]
    },
    {
     "name": "stderr",
     "output_type": "stream",
     "text": [
      "Translating Batches:   8%|▊         | 21/250 [34:19<6:17:43, 98.97s/it]"
     ]
    },
    {
     "name": "stdout",
     "output_type": "stream",
     "text": [
      "Batch 21 selesai: 100 file diterjemahkan dalam 104.81 detik.\n"
     ]
    },
    {
     "name": "stderr",
     "output_type": "stream",
     "text": [
      "Translating Batches:   9%|▉         | 22/250 [36:11<6:30:35, 102.79s/it]"
     ]
    },
    {
     "name": "stdout",
     "output_type": "stream",
     "text": [
      "Batch 22 selesai: 100 file diterjemahkan dalam 111.70 detik.\n"
     ]
    },
    {
     "name": "stderr",
     "output_type": "stream",
     "text": [
      "Translating Batches:   9%|▉         | 23/250 [38:10<6:47:11, 107.63s/it]"
     ]
    },
    {
     "name": "stdout",
     "output_type": "stream",
     "text": [
      "Batch 23 selesai: 100 file diterjemahkan dalam 118.92 detik.\n"
     ]
    },
    {
     "name": "stderr",
     "output_type": "stream",
     "text": [
      "Translating Batches:  10%|▉         | 24/250 [40:06<6:55:11, 110.23s/it]"
     ]
    },
    {
     "name": "stdout",
     "output_type": "stream",
     "text": [
      "Batch 24 selesai: 100 file diterjemahkan dalam 116.28 detik.\n"
     ]
    },
    {
     "name": "stderr",
     "output_type": "stream",
     "text": [
      "Translating Batches:  10%|█         | 25/250 [41:38<6:32:46, 104.74s/it]"
     ]
    },
    {
     "name": "stdout",
     "output_type": "stream",
     "text": [
      "Batch 25 selesai: 100 file diterjemahkan dalam 91.94 detik.\n"
     ]
    },
    {
     "name": "stderr",
     "output_type": "stream",
     "text": [
      "Translating Batches:  10%|█         | 26/250 [43:04<6:09:36, 99.00s/it] "
     ]
    },
    {
     "name": "stdout",
     "output_type": "stream",
     "text": [
      "Batch 26 selesai: 100 file diterjemahkan dalam 85.61 detik.\n"
     ]
    },
    {
     "name": "stderr",
     "output_type": "stream",
     "text": [
      "Translating Batches:  11%|█         | 27/250 [44:40<6:05:12, 98.26s/it]"
     ]
    },
    {
     "name": "stdout",
     "output_type": "stream",
     "text": [
      "Batch 27 selesai: 100 file diterjemahkan dalam 96.54 detik.\n"
     ]
    },
    {
     "name": "stderr",
     "output_type": "stream",
     "text": [
      "Translating Batches:  11%|█         | 28/250 [46:05<5:48:31, 94.20s/it]"
     ]
    },
    {
     "name": "stdout",
     "output_type": "stream",
     "text": [
      "Batch 28 selesai: 100 file diterjemahkan dalam 84.71 detik.\n"
     ]
    },
    {
     "name": "stderr",
     "output_type": "stream",
     "text": [
      "Translating Batches:  12%|█▏        | 29/250 [47:36<5:43:43, 93.32s/it]"
     ]
    },
    {
     "name": "stdout",
     "output_type": "stream",
     "text": [
      "Batch 29 selesai: 100 file diterjemahkan dalam 91.27 detik.\n"
     ]
    },
    {
     "name": "stderr",
     "output_type": "stream",
     "text": [
      "Translating Batches:  12%|█▏        | 30/250 [49:01<5:32:53, 90.79s/it]"
     ]
    },
    {
     "name": "stdout",
     "output_type": "stream",
     "text": [
      "Batch 30 selesai: 100 file diterjemahkan dalam 84.88 detik.\n"
     ]
    },
    {
     "name": "stderr",
     "output_type": "stream",
     "text": [
      "Translating Batches:  12%|█▏        | 31/250 [50:27<5:25:31, 89.19s/it]"
     ]
    },
    {
     "name": "stdout",
     "output_type": "stream",
     "text": [
      "Batch 31 selesai: 100 file diterjemahkan dalam 85.45 detik.\n"
     ]
    },
    {
     "name": "stderr",
     "output_type": "stream",
     "text": [
      "Translating Batches:  13%|█▎        | 32/250 [51:56<5:24:23, 89.28s/it]"
     ]
    },
    {
     "name": "stdout",
     "output_type": "stream",
     "text": [
      "Batch 32 selesai: 100 file diterjemahkan dalam 89.50 detik.\n"
     ]
    },
    {
     "name": "stderr",
     "output_type": "stream",
     "text": [
      "Translating Batches:  13%|█▎        | 33/250 [53:37<5:35:34, 92.78s/it]"
     ]
    },
    {
     "name": "stdout",
     "output_type": "stream",
     "text": [
      "Batch 33 selesai: 100 file diterjemahkan dalam 100.95 detik.\n"
     ]
    },
    {
     "name": "stderr",
     "output_type": "stream",
     "text": [
      "Translating Batches:  14%|█▎        | 34/250 [55:19<5:44:02, 95.57s/it]"
     ]
    },
    {
     "name": "stdout",
     "output_type": "stream",
     "text": [
      "Batch 34 selesai: 100 file diterjemahkan dalam 102.06 detik.\n"
     ]
    },
    {
     "name": "stderr",
     "output_type": "stream",
     "text": [
      "Translating Batches:  14%|█▍        | 35/250 [57:11<5:59:32, 100.34s/it]"
     ]
    },
    {
     "name": "stdout",
     "output_type": "stream",
     "text": [
      "Batch 35 selesai: 100 file diterjemahkan dalam 111.47 detik.\n"
     ]
    },
    {
     "name": "stderr",
     "output_type": "stream",
     "text": [
      "Translating Batches:  14%|█▍        | 36/250 [59:04<6:12:02, 104.31s/it]"
     ]
    },
    {
     "name": "stdout",
     "output_type": "stream",
     "text": [
      "Batch 36 selesai: 100 file diterjemahkan dalam 113.58 detik.\n"
     ]
    },
    {
     "name": "stderr",
     "output_type": "stream",
     "text": [
      "Translating Batches:  15%|█▍        | 37/250 [1:00:58<6:20:26, 107.17s/it]"
     ]
    },
    {
     "name": "stdout",
     "output_type": "stream",
     "text": [
      "Batch 37 selesai: 100 file diterjemahkan dalam 113.83 detik.\n"
     ]
    },
    {
     "name": "stderr",
     "output_type": "stream",
     "text": [
      "Translating Batches:  15%|█▌        | 38/250 [1:02:37<6:09:33, 104.59s/it]"
     ]
    },
    {
     "name": "stdout",
     "output_type": "stream",
     "text": [
      "Batch 38 selesai: 100 file diterjemahkan dalam 98.59 detik.\n"
     ]
    },
    {
     "name": "stderr",
     "output_type": "stream",
     "text": [
      "Translating Batches:  16%|█▌        | 39/250 [1:04:16<6:02:33, 103.10s/it]"
     ]
    },
    {
     "name": "stdout",
     "output_type": "stream",
     "text": [
      "Batch 39 selesai: 100 file diterjemahkan dalam 99.60 detik.\n"
     ]
    },
    {
     "name": "stderr",
     "output_type": "stream",
     "text": [
      "Translating Batches:  16%|█▌        | 40/250 [1:06:08<6:10:15, 105.79s/it]"
     ]
    },
    {
     "name": "stdout",
     "output_type": "stream",
     "text": [
      "Batch 40 selesai: 100 file diterjemahkan dalam 112.07 detik.\n"
     ]
    },
    {
     "name": "stderr",
     "output_type": "stream",
     "text": [
      "Translating Batches:  16%|█▋        | 41/250 [1:07:58<6:12:39, 106.98s/it]"
     ]
    },
    {
     "name": "stdout",
     "output_type": "stream",
     "text": [
      "Batch 41 selesai: 100 file diterjemahkan dalam 109.76 detik.\n"
     ]
    },
    {
     "name": "stderr",
     "output_type": "stream",
     "text": [
      "Translating Batches:  17%|█▋        | 42/250 [1:09:35<6:00:38, 104.03s/it]"
     ]
    },
    {
     "name": "stdout",
     "output_type": "stream",
     "text": [
      "Batch 42 selesai: 100 file diterjemahkan dalam 97.14 detik.\n"
     ]
    },
    {
     "name": "stderr",
     "output_type": "stream",
     "text": [
      "Translating Batches:  17%|█▋        | 43/250 [1:11:01<5:39:33, 98.42s/it] "
     ]
    },
    {
     "name": "stdout",
     "output_type": "stream",
     "text": [
      "Batch 43 selesai: 100 file diterjemahkan dalam 85.33 detik.\n"
     ]
    },
    {
     "name": "stderr",
     "output_type": "stream",
     "text": [
      "Translating Batches:  18%|█▊        | 44/250 [1:12:30<5:28:23, 95.65s/it]"
     ]
    },
    {
     "name": "stdout",
     "output_type": "stream",
     "text": [
      "Batch 44 selesai: 100 file diterjemahkan dalam 89.17 detik.\n"
     ]
    },
    {
     "name": "stderr",
     "output_type": "stream",
     "text": [
      "Translating Batches:  18%|█▊        | 45/250 [1:14:03<5:24:40, 95.03s/it]"
     ]
    },
    {
     "name": "stdout",
     "output_type": "stream",
     "text": [
      "Batch 45 selesai: 100 file diterjemahkan dalam 93.58 detik.\n"
     ]
    },
    {
     "name": "stderr",
     "output_type": "stream",
     "text": [
      "Translating Batches:  18%|█▊        | 46/250 [1:15:21<5:05:20, 89.81s/it]"
     ]
    },
    {
     "name": "stdout",
     "output_type": "stream",
     "text": [
      "Batch 46 selesai: 100 file diterjemahkan dalam 77.63 detik.\n"
     ]
    },
    {
     "name": "stderr",
     "output_type": "stream",
     "text": [
      "Translating Batches:  19%|█▉        | 47/250 [1:17:16<5:29:23, 97.36s/it]"
     ]
    },
    {
     "name": "stdout",
     "output_type": "stream",
     "text": [
      "Batch 47 selesai: 100 file diterjemahkan dalam 114.97 detik.\n"
     ]
    },
    {
     "name": "stderr",
     "output_type": "stream",
     "text": [
      "Translating Batches:  19%|█▉        | 48/250 [1:19:12<5:46:06, 102.81s/it]"
     ]
    },
    {
     "name": "stdout",
     "output_type": "stream",
     "text": [
      "Batch 48 selesai: 100 file diterjemahkan dalam 115.52 detik.\n"
     ]
    },
    {
     "name": "stderr",
     "output_type": "stream",
     "text": [
      "Translating Batches:  20%|█▉        | 49/250 [1:21:09<5:59:05, 107.19s/it]"
     ]
    },
    {
     "name": "stdout",
     "output_type": "stream",
     "text": [
      "Batch 49 selesai: 100 file diterjemahkan dalam 117.43 detik.\n"
     ]
    },
    {
     "name": "stderr",
     "output_type": "stream",
     "text": [
      "Translating Batches:  20%|██        | 50/250 [1:22:51<5:52:36, 105.78s/it]"
     ]
    },
    {
     "name": "stdout",
     "output_type": "stream",
     "text": [
      "Batch 50 selesai: 100 file diterjemahkan dalam 102.48 detik.\n"
     ]
    },
    {
     "name": "stderr",
     "output_type": "stream",
     "text": [
      "Translating Batches:  20%|██        | 51/250 [1:24:33<5:47:00, 104.63s/it]"
     ]
    },
    {
     "name": "stdout",
     "output_type": "stream",
     "text": [
      "Batch 51 selesai: 100 file diterjemahkan dalam 101.94 detik.\n"
     ]
    },
    {
     "name": "stderr",
     "output_type": "stream",
     "text": [
      "Translating Batches:  21%|██        | 52/250 [1:26:18<5:44:49, 104.49s/it]"
     ]
    },
    {
     "name": "stdout",
     "output_type": "stream",
     "text": [
      "Batch 52 selesai: 100 file diterjemahkan dalam 104.18 detik.\n"
     ]
    },
    {
     "name": "stderr",
     "output_type": "stream",
     "text": [
      "Translating Batches:  21%|██        | 53/250 [1:27:58<5:38:53, 103.21s/it]"
     ]
    },
    {
     "name": "stdout",
     "output_type": "stream",
     "text": [
      "Batch 53 selesai: 100 file diterjemahkan dalam 100.22 detik.\n"
     ]
    },
    {
     "name": "stderr",
     "output_type": "stream",
     "text": [
      "Translating Batches:  22%|██▏       | 54/250 [1:29:34<5:30:02, 101.03s/it]"
     ]
    },
    {
     "name": "stdout",
     "output_type": "stream",
     "text": [
      "Batch 54 selesai: 100 file diterjemahkan dalam 95.94 detik.\n"
     ]
    },
    {
     "name": "stderr",
     "output_type": "stream",
     "text": [
      "Translating Batches:  22%|██▏       | 55/250 [1:30:59<5:12:36, 96.19s/it] "
     ]
    },
    {
     "name": "stdout",
     "output_type": "stream",
     "text": [
      "Batch 55 selesai: 100 file diterjemahkan dalam 84.88 detik.\n"
     ]
    },
    {
     "name": "stderr",
     "output_type": "stream",
     "text": [
      "Translating Batches:  22%|██▏       | 56/250 [1:32:28<5:04:40, 94.23s/it]"
     ]
    },
    {
     "name": "stdout",
     "output_type": "stream",
     "text": [
      "Batch 56 selesai: 100 file diterjemahkan dalam 89.65 detik.\n"
     ]
    },
    {
     "name": "stderr",
     "output_type": "stream",
     "text": [
      "Translating Batches:  23%|██▎       | 57/250 [1:33:45<4:46:39, 89.12s/it]"
     ]
    },
    {
     "name": "stdout",
     "output_type": "stream",
     "text": [
      "Batch 57 selesai: 100 file diterjemahkan dalam 77.19 detik.\n"
     ]
    },
    {
     "name": "stderr",
     "output_type": "stream",
     "text": [
      "Translating Batches:  23%|██▎       | 58/250 [1:35:12<4:42:50, 88.39s/it]"
     ]
    },
    {
     "name": "stdout",
     "output_type": "stream",
     "text": [
      "Batch 58 selesai: 100 file diterjemahkan dalam 86.69 detik.\n"
     ]
    },
    {
     "name": "stderr",
     "output_type": "stream",
     "text": [
      "Translating Batches:  24%|██▎       | 59/250 [1:36:31<4:32:16, 85.53s/it]"
     ]
    },
    {
     "name": "stdout",
     "output_type": "stream",
     "text": [
      "Batch 59 selesai: 100 file diterjemahkan dalam 78.87 detik.\n"
     ]
    },
    {
     "name": "stderr",
     "output_type": "stream",
     "text": [
      "Translating Batches:  24%|██▍       | 60/250 [1:38:24<4:56:31, 93.64s/it]"
     ]
    },
    {
     "name": "stdout",
     "output_type": "stream",
     "text": [
      "Batch 60 selesai: 100 file diterjemahkan dalam 112.55 detik.\n"
     ]
    },
    {
     "name": "stderr",
     "output_type": "stream",
     "text": [
      "Translating Batches:  24%|██▍       | 61/250 [1:40:15<5:11:51, 99.00s/it]"
     ]
    },
    {
     "name": "stdout",
     "output_type": "stream",
     "text": [
      "Batch 61 selesai: 100 file diterjemahkan dalam 111.52 detik.\n"
     ]
    },
    {
     "name": "stderr",
     "output_type": "stream",
     "text": [
      "Translating Batches:  25%|██▍       | 62/250 [1:42:11<5:26:04, 104.06s/it]"
     ]
    },
    {
     "name": "stdout",
     "output_type": "stream",
     "text": [
      "Batch 62 selesai: 100 file diterjemahkan dalam 115.87 detik.\n"
     ]
    },
    {
     "name": "stderr",
     "output_type": "stream",
     "text": [
      "Translating Batches:  25%|██▌       | 63/250 [1:43:58<5:26:45, 104.84s/it]"
     ]
    },
    {
     "name": "stdout",
     "output_type": "stream",
     "text": [
      "Batch 63 selesai: 100 file diterjemahkan dalam 106.66 detik.\n"
     ]
    },
    {
     "name": "stderr",
     "output_type": "stream",
     "text": [
      "Translating Batches:  26%|██▌       | 64/250 [1:45:39<5:22:08, 103.91s/it]"
     ]
    },
    {
     "name": "stdout",
     "output_type": "stream",
     "text": [
      "Batch 64 selesai: 100 file diterjemahkan dalam 101.74 detik.\n"
     ]
    },
    {
     "name": "stderr",
     "output_type": "stream",
     "text": [
      "Translating Batches:  26%|██▌       | 65/250 [1:47:22<5:19:23, 103.58s/it]"
     ]
    },
    {
     "name": "stdout",
     "output_type": "stream",
     "text": [
      "Batch 65 selesai: 100 file diterjemahkan dalam 102.81 detik.\n"
     ]
    },
    {
     "name": "stderr",
     "output_type": "stream",
     "text": [
      "Translating Batches:  26%|██▋       | 66/250 [1:49:10<5:21:46, 104.93s/it]"
     ]
    },
    {
     "name": "stdout",
     "output_type": "stream",
     "text": [
      "Batch 66 selesai: 100 file diterjemahkan dalam 108.05 detik.\n"
     ]
    },
    {
     "name": "stderr",
     "output_type": "stream",
     "text": [
      "Translating Batches:  27%|██▋       | 67/250 [1:50:41<5:06:55, 100.63s/it]"
     ]
    },
    {
     "name": "stdout",
     "output_type": "stream",
     "text": [
      "Batch 67 selesai: 100 file diterjemahkan dalam 90.62 detik.\n"
     ]
    },
    {
     "name": "stderr",
     "output_type": "stream",
     "text": [
      "Translating Batches:  27%|██▋       | 68/250 [1:52:01<4:46:31, 94.46s/it] "
     ]
    },
    {
     "name": "stdout",
     "output_type": "stream",
     "text": [
      "Batch 68 selesai: 100 file diterjemahkan dalam 80.06 detik.\n"
     ]
    },
    {
     "name": "stderr",
     "output_type": "stream",
     "text": [
      "Translating Batches:  28%|██▊       | 69/250 [1:53:25<4:35:14, 91.24s/it]"
     ]
    },
    {
     "name": "stdout",
     "output_type": "stream",
     "text": [
      "Batch 69 selesai: 100 file diterjemahkan dalam 83.72 detik.\n"
     ]
    },
    {
     "name": "stderr",
     "output_type": "stream",
     "text": [
      "Translating Batches:  28%|██▊       | 70/250 [1:54:46<4:25:05, 88.36s/it]"
     ]
    },
    {
     "name": "stdout",
     "output_type": "stream",
     "text": [
      "Batch 70 selesai: 100 file diterjemahkan dalam 81.65 detik.\n"
     ]
    },
    {
     "name": "stderr",
     "output_type": "stream",
     "text": [
      "Translating Batches:  28%|██▊       | 71/250 [1:56:16<4:24:53, 88.79s/it]"
     ]
    },
    {
     "name": "stdout",
     "output_type": "stream",
     "text": [
      "Batch 71 selesai: 100 file diterjemahkan dalam 89.78 detik.\n"
     ]
    },
    {
     "name": "stderr",
     "output_type": "stream",
     "text": [
      "Translating Batches:  29%|██▉       | 72/250 [1:57:37<4:16:20, 86.41s/it]"
     ]
    },
    {
     "name": "stdout",
     "output_type": "stream",
     "text": [
      "Batch 72 selesai: 100 file diterjemahkan dalam 80.85 detik.\n"
     ]
    },
    {
     "name": "stderr",
     "output_type": "stream",
     "text": [
      "Translating Batches:  29%|██▉       | 73/250 [1:59:22<4:31:28, 92.02s/it]"
     ]
    },
    {
     "name": "stdout",
     "output_type": "stream",
     "text": [
      "Batch 73 selesai: 100 file diterjemahkan dalam 105.13 detik.\n"
     ]
    },
    {
     "name": "stderr",
     "output_type": "stream",
     "text": [
      "Translating Batches:  30%|██▉       | 74/250 [2:01:15<4:48:27, 98.34s/it]"
     ]
    },
    {
     "name": "stdout",
     "output_type": "stream",
     "text": [
      "Batch 74 selesai: 100 file diterjemahkan dalam 113.08 detik.\n"
     ]
    },
    {
     "name": "stderr",
     "output_type": "stream",
     "text": [
      "Translating Batches:  30%|███       | 75/250 [2:03:08<4:59:40, 102.75s/it]"
     ]
    },
    {
     "name": "stdout",
     "output_type": "stream",
     "text": [
      "Batch 75 selesai: 100 file diterjemahkan dalam 113.03 detik.\n"
     ]
    },
    {
     "name": "stderr",
     "output_type": "stream",
     "text": [
      "Translating Batches:  30%|███       | 76/250 [2:04:57<5:03:32, 104.67s/it]"
     ]
    },
    {
     "name": "stdout",
     "output_type": "stream",
     "text": [
      "Batch 76 selesai: 100 file diterjemahkan dalam 109.15 detik.\n"
     ]
    },
    {
     "name": "stderr",
     "output_type": "stream",
     "text": [
      "Translating Batches:  31%|███       | 77/250 [2:06:25<4:47:16, 99.63s/it] "
     ]
    },
    {
     "name": "stdout",
     "output_type": "stream",
     "text": [
      "Batch 77 selesai: 100 file diterjemahkan dalam 87.88 detik.\n"
     ]
    },
    {
     "name": "stderr",
     "output_type": "stream",
     "text": [
      "Translating Batches:  31%|███       | 78/250 [2:07:46<4:29:35, 94.04s/it]"
     ]
    },
    {
     "name": "stdout",
     "output_type": "stream",
     "text": [
      "Batch 78 selesai: 100 file diterjemahkan dalam 81.00 detik.\n"
     ]
    },
    {
     "name": "stderr",
     "output_type": "stream",
     "text": [
      "Translating Batches:  32%|███▏      | 79/250 [2:09:07<4:16:57, 90.16s/it]"
     ]
    },
    {
     "name": "stdout",
     "output_type": "stream",
     "text": [
      "Batch 79 selesai: 100 file diterjemahkan dalam 81.10 detik.\n"
     ]
    },
    {
     "name": "stderr",
     "output_type": "stream",
     "text": [
      "Translating Batches:  32%|███▏      | 80/250 [2:10:34<4:12:09, 88.99s/it]"
     ]
    },
    {
     "name": "stdout",
     "output_type": "stream",
     "text": [
      "Batch 80 selesai: 100 file diterjemahkan dalam 86.27 detik.\n"
     ]
    },
    {
     "name": "stderr",
     "output_type": "stream",
     "text": [
      "Translating Batches:  32%|███▏      | 81/250 [2:11:56<4:04:44, 86.89s/it]"
     ]
    },
    {
     "name": "stdout",
     "output_type": "stream",
     "text": [
      "Batch 81 selesai: 100 file diterjemahkan dalam 81.98 detik.\n"
     ]
    },
    {
     "name": "stderr",
     "output_type": "stream",
     "text": [
      "Translating Batches:  33%|███▎      | 82/250 [2:13:09<3:51:39, 82.74s/it]"
     ]
    },
    {
     "name": "stdout",
     "output_type": "stream",
     "text": [
      "Batch 82 selesai: 100 file diterjemahkan dalam 73.05 detik.\n"
     ]
    },
    {
     "name": "stderr",
     "output_type": "stream",
     "text": [
      "Translating Batches:  33%|███▎      | 83/250 [2:14:31<3:50:16, 82.74s/it]"
     ]
    },
    {
     "name": "stdout",
     "output_type": "stream",
     "text": [
      "Batch 83 selesai: 100 file diterjemahkan dalam 82.73 detik.\n"
     ]
    },
    {
     "name": "stderr",
     "output_type": "stream",
     "text": [
      "Translating Batches:  34%|███▎      | 84/250 [2:15:52<3:47:34, 82.25s/it]"
     ]
    },
    {
     "name": "stdout",
     "output_type": "stream",
     "text": [
      "Batch 84 selesai: 100 file diterjemahkan dalam 81.13 detik.\n"
     ]
    },
    {
     "name": "stderr",
     "output_type": "stream",
     "text": [
      "Translating Batches:  34%|███▍      | 85/250 [2:17:19<3:49:40, 83.52s/it]"
     ]
    },
    {
     "name": "stdout",
     "output_type": "stream",
     "text": [
      "Batch 85 selesai: 100 file diterjemahkan dalam 86.47 detik.\n"
     ]
    },
    {
     "name": "stderr",
     "output_type": "stream",
     "text": [
      "Translating Batches:  34%|███▍      | 86/250 [2:18:36<3:43:00, 81.59s/it]"
     ]
    },
    {
     "name": "stdout",
     "output_type": "stream",
     "text": [
      "Batch 86 selesai: 100 file diterjemahkan dalam 77.09 detik.\n"
     ]
    },
    {
     "name": "stderr",
     "output_type": "stream",
     "text": [
      "Translating Batches:  35%|███▍      | 87/250 [2:19:55<3:39:26, 80.78s/it]"
     ]
    },
    {
     "name": "stdout",
     "output_type": "stream",
     "text": [
      "Batch 87 selesai: 100 file diterjemahkan dalam 78.88 detik.\n"
     ]
    },
    {
     "name": "stderr",
     "output_type": "stream",
     "text": [
      "Translating Batches:  35%|███▌      | 88/250 [2:21:11<3:34:35, 79.48s/it]"
     ]
    },
    {
     "name": "stdout",
     "output_type": "stream",
     "text": [
      "Batch 88 selesai: 100 file diterjemahkan dalam 76.44 detik.\n"
     ]
    },
    {
     "name": "stderr",
     "output_type": "stream",
     "text": [
      "Translating Batches:  36%|███▌      | 89/250 [2:22:24<3:27:28, 77.32s/it]"
     ]
    },
    {
     "name": "stdout",
     "output_type": "stream",
     "text": [
      "Batch 89 selesai: 100 file diterjemahkan dalam 72.29 detik.\n"
     ]
    },
    {
     "name": "stderr",
     "output_type": "stream",
     "text": [
      "Translating Batches:  36%|███▌      | 90/250 [2:23:40<3:25:15, 76.97s/it]"
     ]
    },
    {
     "name": "stdout",
     "output_type": "stream",
     "text": [
      "Batch 90 selesai: 100 file diterjemahkan dalam 76.16 detik.\n"
     ]
    },
    {
     "name": "stderr",
     "output_type": "stream",
     "text": [
      "Translating Batches:  36%|███▋      | 91/250 [2:25:04<3:29:28, 79.05s/it]"
     ]
    },
    {
     "name": "stdout",
     "output_type": "stream",
     "text": [
      "Batch 91 selesai: 100 file diterjemahkan dalam 83.89 detik.\n"
     ]
    },
    {
     "name": "stderr",
     "output_type": "stream",
     "text": [
      "Translating Batches:  37%|███▋      | 92/250 [2:26:21<3:27:02, 78.62s/it]"
     ]
    },
    {
     "name": "stdout",
     "output_type": "stream",
     "text": [
      "Batch 92 selesai: 100 file diterjemahkan dalam 77.62 detik.\n"
     ]
    },
    {
     "name": "stderr",
     "output_type": "stream",
     "text": [
      "Translating Batches:  37%|███▋      | 93/250 [2:27:36<3:22:16, 77.30s/it]"
     ]
    },
    {
     "name": "stdout",
     "output_type": "stream",
     "text": [
      "Batch 93 selesai: 100 file diterjemahkan dalam 74.22 detik.\n"
     ]
    },
    {
     "name": "stderr",
     "output_type": "stream",
     "text": [
      "Translating Batches:  38%|███▊      | 94/250 [2:29:03<3:28:57, 80.37s/it]"
     ]
    },
    {
     "name": "stdout",
     "output_type": "stream",
     "text": [
      "Batch 94 selesai: 100 file diterjemahkan dalam 87.53 detik.\n"
     ]
    },
    {
     "name": "stderr",
     "output_type": "stream",
     "text": [
      "Translating Batches:  38%|███▊      | 95/250 [2:30:39<3:39:33, 84.99s/it]"
     ]
    },
    {
     "name": "stdout",
     "output_type": "stream",
     "text": [
      "Batch 95 selesai: 100 file diterjemahkan dalam 95.76 detik.\n"
     ]
    },
    {
     "name": "stderr",
     "output_type": "stream",
     "text": [
      "Translating Batches:  38%|███▊      | 96/250 [2:32:19<3:49:40, 89.48s/it]"
     ]
    },
    {
     "name": "stdout",
     "output_type": "stream",
     "text": [
      "Batch 96 selesai: 100 file diterjemahkan dalam 99.97 detik.\n"
     ]
    },
    {
     "name": "stderr",
     "output_type": "stream",
     "text": [
      "Translating Batches:  39%|███▉      | 97/250 [2:34:08<4:03:36, 95.53s/it]"
     ]
    },
    {
     "name": "stdout",
     "output_type": "stream",
     "text": [
      "Batch 97 selesai: 100 file diterjemahkan dalam 109.65 detik.\n"
     ]
    },
    {
     "name": "stderr",
     "output_type": "stream",
     "text": [
      "Translating Batches:  39%|███▉      | 98/250 [2:36:00<4:14:07, 100.31s/it]"
     ]
    },
    {
     "name": "stdout",
     "output_type": "stream",
     "text": [
      "Batch 98 selesai: 100 file diterjemahkan dalam 111.46 detik.\n"
     ]
    },
    {
     "name": "stderr",
     "output_type": "stream",
     "text": [
      "Translating Batches:  40%|███▉      | 99/250 [2:37:48<4:18:28, 102.71s/it]"
     ]
    },
    {
     "name": "stdout",
     "output_type": "stream",
     "text": [
      "Batch 99 selesai: 100 file diterjemahkan dalam 108.29 detik.\n"
     ]
    },
    {
     "name": "stderr",
     "output_type": "stream",
     "text": [
      "Translating Batches:  40%|████      | 100/250 [2:39:24<4:11:46, 100.71s/it]"
     ]
    },
    {
     "name": "stdout",
     "output_type": "stream",
     "text": [
      "Batch 100 selesai: 100 file diterjemahkan dalam 96.05 detik.\n"
     ]
    },
    {
     "name": "stderr",
     "output_type": "stream",
     "text": [
      "Translating Batches:  40%|████      | 101/250 [2:40:53<4:01:03, 97.07s/it] "
     ]
    },
    {
     "name": "stdout",
     "output_type": "stream",
     "text": [
      "Batch 101 selesai: 100 file diterjemahkan dalam 88.58 detik.\n"
     ]
    },
    {
     "name": "stderr",
     "output_type": "stream",
     "text": [
      "Translating Batches:  41%|████      | 102/250 [2:42:19<3:51:11, 93.73s/it]"
     ]
    },
    {
     "name": "stdout",
     "output_type": "stream",
     "text": [
      "Batch 102 selesai: 100 file diterjemahkan dalam 85.92 detik.\n"
     ]
    },
    {
     "name": "stderr",
     "output_type": "stream",
     "text": [
      "Translating Batches:  41%|████      | 103/250 [2:43:40<3:40:29, 90.00s/it]"
     ]
    },
    {
     "name": "stdout",
     "output_type": "stream",
     "text": [
      "Batch 103 selesai: 100 file diterjemahkan dalam 81.29 detik.\n"
     ]
    },
    {
     "name": "stderr",
     "output_type": "stream",
     "text": [
      "Translating Batches:  42%|████▏     | 104/250 [2:45:13<3:41:25, 91.00s/it]"
     ]
    },
    {
     "name": "stdout",
     "output_type": "stream",
     "text": [
      "Batch 104 selesai: 100 file diterjemahkan dalam 93.33 detik.\n"
     ]
    },
    {
     "name": "stderr",
     "output_type": "stream",
     "text": [
      "Translating Batches:  42%|████▏     | 105/250 [2:46:55<3:47:43, 94.23s/it]"
     ]
    },
    {
     "name": "stdout",
     "output_type": "stream",
     "text": [
      "Batch 105 selesai: 100 file diterjemahkan dalam 101.77 detik.\n"
     ]
    },
    {
     "name": "stderr",
     "output_type": "stream",
     "text": [
      "Translating Batches:  42%|████▏     | 106/250 [2:48:31<3:47:04, 94.61s/it]"
     ]
    },
    {
     "name": "stdout",
     "output_type": "stream",
     "text": [
      "Batch 106 selesai: 100 file diterjemahkan dalam 95.50 detik.\n"
     ]
    },
    {
     "name": "stderr",
     "output_type": "stream",
     "text": [
      "Translating Batches:  43%|████▎     | 107/250 [2:50:13<3:50:48, 96.84s/it]"
     ]
    },
    {
     "name": "stdout",
     "output_type": "stream",
     "text": [
      "Batch 107 selesai: 100 file diterjemahkan dalam 102.04 detik.\n"
     ]
    },
    {
     "name": "stderr",
     "output_type": "stream",
     "text": [
      "Translating Batches:  43%|████▎     | 108/250 [2:52:06<4:00:38, 101.68s/it]"
     ]
    },
    {
     "name": "stdout",
     "output_type": "stream",
     "text": [
      "Batch 108 selesai: 100 file diterjemahkan dalam 112.97 detik.\n"
     ]
    },
    {
     "name": "stderr",
     "output_type": "stream",
     "text": [
      "Translating Batches:  44%|████▎     | 109/250 [2:53:38<3:52:16, 98.84s/it] "
     ]
    },
    {
     "name": "stdout",
     "output_type": "stream",
     "text": [
      "Batch 109 selesai: 100 file diterjemahkan dalam 92.21 detik.\n"
     ]
    },
    {
     "name": "stderr",
     "output_type": "stream",
     "text": [
      "Translating Batches:  44%|████▍     | 110/250 [2:55:32<4:01:28, 103.49s/it]"
     ]
    },
    {
     "name": "stdout",
     "output_type": "stream",
     "text": [
      "Batch 110 selesai: 100 file diterjemahkan dalam 114.33 detik.\n"
     ]
    },
    {
     "name": "stderr",
     "output_type": "stream",
     "text": [
      "Translating Batches:  44%|████▍     | 111/250 [2:57:22<4:04:00, 105.33s/it]"
     ]
    },
    {
     "name": "stdout",
     "output_type": "stream",
     "text": [
      "Batch 111 selesai: 100 file diterjemahkan dalam 109.63 detik.\n"
     ]
    },
    {
     "name": "stderr",
     "output_type": "stream",
     "text": [
      "Translating Batches:  45%|████▍     | 112/250 [2:59:13<4:06:15, 107.07s/it]"
     ]
    },
    {
     "name": "stdout",
     "output_type": "stream",
     "text": [
      "Batch 112 selesai: 100 file diterjemahkan dalam 111.13 detik.\n"
     ]
    },
    {
     "name": "stderr",
     "output_type": "stream",
     "text": [
      "Translating Batches:  45%|████▌     | 113/250 [3:00:38<3:49:34, 100.54s/it]"
     ]
    },
    {
     "name": "stdout",
     "output_type": "stream",
     "text": [
      "Batch 113 selesai: 100 file diterjemahkan dalam 85.31 detik.\n"
     ]
    },
    {
     "name": "stderr",
     "output_type": "stream",
     "text": [
      "Translating Batches:  46%|████▌     | 114/250 [3:02:16<3:46:04, 99.74s/it] "
     ]
    },
    {
     "name": "stdout",
     "output_type": "stream",
     "text": [
      "Batch 114 selesai: 100 file diterjemahkan dalam 97.85 detik.\n"
     ]
    },
    {
     "name": "stderr",
     "output_type": "stream",
     "text": [
      "Translating Batches:  46%|████▌     | 115/250 [3:03:45<3:37:22, 96.61s/it]"
     ]
    },
    {
     "name": "stdout",
     "output_type": "stream",
     "text": [
      "Batch 115 selesai: 100 file diterjemahkan dalam 89.31 detik.\n"
     ]
    },
    {
     "name": "stderr",
     "output_type": "stream",
     "text": [
      "Translating Batches:  46%|████▋     | 116/250 [3:05:14<3:30:09, 94.10s/it]"
     ]
    },
    {
     "name": "stdout",
     "output_type": "stream",
     "text": [
      "Batch 116 selesai: 100 file diterjemahkan dalam 88.26 detik.\n"
     ]
    },
    {
     "name": "stderr",
     "output_type": "stream",
     "text": [
      "Translating Batches:  47%|████▋     | 117/250 [3:06:33<3:18:39, 89.62s/it]"
     ]
    },
    {
     "name": "stdout",
     "output_type": "stream",
     "text": [
      "Batch 117 selesai: 100 file diterjemahkan dalam 79.15 detik.\n"
     ]
    },
    {
     "name": "stderr",
     "output_type": "stream",
     "text": [
      "Translating Batches:  47%|████▋     | 118/250 [3:08:11<3:22:35, 92.09s/it]"
     ]
    },
    {
     "name": "stdout",
     "output_type": "stream",
     "text": [
      "Batch 118 selesai: 100 file diterjemahkan dalam 97.85 detik.\n"
     ]
    },
    {
     "name": "stderr",
     "output_type": "stream",
     "text": [
      "Translating Batches:  48%|████▊     | 119/250 [3:09:38<3:17:37, 90.51s/it]"
     ]
    },
    {
     "name": "stdout",
     "output_type": "stream",
     "text": [
      "Batch 119 selesai: 100 file diterjemahkan dalam 86.83 detik.\n"
     ]
    },
    {
     "name": "stderr",
     "output_type": "stream",
     "text": [
      "Translating Batches:  48%|████▊     | 120/250 [3:11:17<3:21:39, 93.07s/it]"
     ]
    },
    {
     "name": "stdout",
     "output_type": "stream",
     "text": [
      "Batch 120 selesai: 100 file diterjemahkan dalam 99.04 detik.\n"
     ]
    },
    {
     "name": "stderr",
     "output_type": "stream",
     "text": [
      "Translating Batches:  48%|████▊     | 121/250 [3:12:53<3:22:12, 94.05s/it]"
     ]
    },
    {
     "name": "stdout",
     "output_type": "stream",
     "text": [
      "Batch 121 selesai: 100 file diterjemahkan dalam 96.34 detik.\n"
     ]
    },
    {
     "name": "stderr",
     "output_type": "stream",
     "text": [
      "Translating Batches:  49%|████▉     | 122/250 [3:14:47<3:33:27, 100.06s/it]"
     ]
    },
    {
     "name": "stdout",
     "output_type": "stream",
     "text": [
      "Batch 122 selesai: 100 file diterjemahkan dalam 114.07 detik.\n"
     ]
    },
    {
     "name": "stderr",
     "output_type": "stream",
     "text": [
      "Translating Batches:  49%|████▉     | 123/250 [3:16:44<3:42:33, 105.15s/it]"
     ]
    },
    {
     "name": "stdout",
     "output_type": "stream",
     "text": [
      "Batch 123 selesai: 100 file diterjemahkan dalam 117.02 detik.\n"
     ]
    },
    {
     "name": "stderr",
     "output_type": "stream",
     "text": [
      "Translating Batches:  50%|████▉     | 124/250 [3:18:42<3:48:50, 108.97s/it]"
     ]
    },
    {
     "name": "stdout",
     "output_type": "stream",
     "text": [
      "Batch 124 selesai: 100 file diterjemahkan dalam 117.89 detik.\n"
     ]
    },
    {
     "name": "stderr",
     "output_type": "stream",
     "text": [
      "Translating Batches:  50%|█████     | 125/250 [3:20:19<3:39:26, 105.33s/it]"
     ]
    },
    {
     "name": "stdout",
     "output_type": "stream",
     "text": [
      "Batch 125 selesai: 100 file diterjemahkan dalam 96.84 detik.\n"
     ]
    },
    {
     "name": "stderr",
     "output_type": "stream",
     "text": [
      "Translating Batches:  50%|█████     | 126/250 [3:22:03<3:36:46, 104.89s/it]"
     ]
    },
    {
     "name": "stdout",
     "output_type": "stream",
     "text": [
      "Batch 126 selesai: 100 file diterjemahkan dalam 103.86 detik.\n"
     ]
    },
    {
     "name": "stderr",
     "output_type": "stream",
     "text": [
      "Translating Batches:  51%|█████     | 127/250 [3:23:47<3:34:50, 104.80s/it]"
     ]
    },
    {
     "name": "stdout",
     "output_type": "stream",
     "text": [
      "Batch 127 selesai: 100 file diterjemahkan dalam 104.60 detik.\n"
     ]
    },
    {
     "name": "stderr",
     "output_type": "stream",
     "text": [
      "Translating Batches:  51%|█████     | 128/250 [3:25:27<3:29:50, 103.20s/it]"
     ]
    },
    {
     "name": "stdout",
     "output_type": "stream",
     "text": [
      "Batch 128 selesai: 100 file diterjemahkan dalam 99.47 detik.\n"
     ]
    },
    {
     "name": "stderr",
     "output_type": "stream",
     "text": [
      "Translating Batches:  52%|█████▏    | 129/250 [3:27:02<3:23:36, 100.96s/it]"
     ]
    },
    {
     "name": "stdout",
     "output_type": "stream",
     "text": [
      "Batch 129 selesai: 100 file diterjemahkan dalam 95.72 detik.\n"
     ]
    },
    {
     "name": "stderr",
     "output_type": "stream",
     "text": [
      "Translating Batches:  52%|█████▏    | 130/250 [3:28:45<3:23:07, 101.56s/it]"
     ]
    },
    {
     "name": "stdout",
     "output_type": "stream",
     "text": [
      "Batch 130 selesai: 100 file diterjemahkan dalam 102.96 detik.\n"
     ]
    },
    {
     "name": "stderr",
     "output_type": "stream",
     "text": [
      "Translating Batches:  52%|█████▏    | 131/250 [3:30:20<3:17:12, 99.43s/it] "
     ]
    },
    {
     "name": "stdout",
     "output_type": "stream",
     "text": [
      "Batch 131 selesai: 100 file diterjemahkan dalam 94.46 detik.\n"
     ]
    },
    {
     "name": "stderr",
     "output_type": "stream",
     "text": [
      "Translating Batches:  53%|█████▎    | 132/250 [3:31:51<3:10:22, 96.80s/it]"
     ]
    },
    {
     "name": "stdout",
     "output_type": "stream",
     "text": [
      "Batch 132 selesai: 100 file diterjemahkan dalam 90.67 detik.\n"
     ]
    },
    {
     "name": "stderr",
     "output_type": "stream",
     "text": [
      "Translating Batches:  53%|█████▎    | 133/250 [3:33:15<3:01:50, 93.25s/it]"
     ]
    },
    {
     "name": "stdout",
     "output_type": "stream",
     "text": [
      "Batch 133 selesai: 100 file diterjemahkan dalam 84.96 detik.\n"
     ]
    },
    {
     "name": "stderr",
     "output_type": "stream",
     "text": [
      "Translating Batches:  54%|█████▎    | 134/250 [3:34:52<3:01:57, 94.12s/it]"
     ]
    },
    {
     "name": "stdout",
     "output_type": "stream",
     "text": [
      "Batch 134 selesai: 100 file diterjemahkan dalam 96.13 detik.\n"
     ]
    },
    {
     "name": "stderr",
     "output_type": "stream",
     "text": [
      "Translating Batches:  54%|█████▍    | 135/250 [3:36:46<3:12:11, 100.28s/it]"
     ]
    },
    {
     "name": "stdout",
     "output_type": "stream",
     "text": [
      "Batch 135 selesai: 100 file diterjemahkan dalam 114.65 detik.\n"
     ]
    },
    {
     "name": "stderr",
     "output_type": "stream",
     "text": [
      "Translating Batches:  54%|█████▍    | 136/250 [3:38:31<3:13:17, 101.73s/it]"
     ]
    },
    {
     "name": "stdout",
     "output_type": "stream",
     "text": [
      "Batch 136 selesai: 100 file diterjemahkan dalam 105.11 detik.\n"
     ]
    },
    {
     "name": "stderr",
     "output_type": "stream",
     "text": [
      "Translating Batches:  55%|█████▍    | 137/250 [3:40:14<3:12:04, 101.98s/it]"
     ]
    },
    {
     "name": "stdout",
     "output_type": "stream",
     "text": [
      "Batch 137 selesai: 100 file diterjemahkan dalam 102.57 detik.\n"
     ]
    },
    {
     "name": "stderr",
     "output_type": "stream",
     "text": [
      "Translating Batches:  55%|█████▌    | 138/250 [3:41:43<3:02:56, 98.00s/it] "
     ]
    },
    {
     "name": "stdout",
     "output_type": "stream",
     "text": [
      "Batch 138 selesai: 100 file diterjemahkan dalam 88.71 detik.\n"
     ]
    },
    {
     "name": "stderr",
     "output_type": "stream",
     "text": [
      "Translating Batches:  56%|█████▌    | 139/250 [3:43:14<2:57:35, 95.99s/it]"
     ]
    },
    {
     "name": "stdout",
     "output_type": "stream",
     "text": [
      "Batch 139 selesai: 100 file diterjemahkan dalam 91.31 detik.\n"
     ]
    },
    {
     "name": "stderr",
     "output_type": "stream",
     "text": [
      "Translating Batches:  56%|█████▌    | 140/250 [3:44:40<2:50:21, 92.92s/it]"
     ]
    },
    {
     "name": "stdout",
     "output_type": "stream",
     "text": [
      "Batch 140 selesai: 100 file diterjemahkan dalam 85.75 detik.\n"
     ]
    },
    {
     "name": "stderr",
     "output_type": "stream",
     "text": [
      "Translating Batches:  56%|█████▋    | 141/250 [3:46:02<2:42:43, 89.58s/it]"
     ]
    },
    {
     "name": "stdout",
     "output_type": "stream",
     "text": [
      "Batch 141 selesai: 100 file diterjemahkan dalam 81.76 detik.\n"
     ]
    },
    {
     "name": "stderr",
     "output_type": "stream",
     "text": [
      "Translating Batches:  57%|█████▋    | 142/250 [3:47:33<2:42:04, 90.04s/it]"
     ]
    },
    {
     "name": "stdout",
     "output_type": "stream",
     "text": [
      "Batch 142 selesai: 100 file diterjemahkan dalam 91.12 detik.\n"
     ]
    },
    {
     "name": "stderr",
     "output_type": "stream",
     "text": [
      "Translating Batches:  57%|█████▋    | 143/250 [3:49:09<2:43:46, 91.84s/it]"
     ]
    },
    {
     "name": "stdout",
     "output_type": "stream",
     "text": [
      "Batch 143 selesai: 100 file diterjemahkan dalam 96.03 detik.\n"
     ]
    },
    {
     "name": "stderr",
     "output_type": "stream",
     "text": [
      "Translating Batches:  58%|█████▊    | 144/250 [3:50:36<2:39:42, 90.40s/it]"
     ]
    },
    {
     "name": "stdout",
     "output_type": "stream",
     "text": [
      "Batch 144 selesai: 100 file diterjemahkan dalam 87.03 detik.\n"
     ]
    },
    {
     "name": "stderr",
     "output_type": "stream",
     "text": [
      "Translating Batches:  58%|█████▊    | 145/250 [3:52:05<2:37:32, 90.02s/it]"
     ]
    },
    {
     "name": "stdout",
     "output_type": "stream",
     "text": [
      "Batch 145 selesai: 100 file diterjemahkan dalam 89.15 detik.\n"
     ]
    },
    {
     "name": "stderr",
     "output_type": "stream",
     "text": [
      "Translating Batches:  58%|█████▊    | 146/250 [3:53:33<2:35:12, 89.55s/it]"
     ]
    },
    {
     "name": "stdout",
     "output_type": "stream",
     "text": [
      "Batch 146 selesai: 100 file diterjemahkan dalam 88.44 detik.\n"
     ]
    },
    {
     "name": "stderr",
     "output_type": "stream",
     "text": [
      "Translating Batches:  59%|█████▉    | 147/250 [3:55:07<2:35:52, 90.80s/it]"
     ]
    },
    {
     "name": "stdout",
     "output_type": "stream",
     "text": [
      "Batch 147 selesai: 100 file diterjemahkan dalam 93.71 detik.\n"
     ]
    },
    {
     "name": "stderr",
     "output_type": "stream",
     "text": [
      "Translating Batches:  59%|█████▉    | 148/250 [3:56:46<2:38:30, 93.24s/it]"
     ]
    },
    {
     "name": "stdout",
     "output_type": "stream",
     "text": [
      "Batch 148 selesai: 100 file diterjemahkan dalam 98.94 detik.\n"
     ]
    },
    {
     "name": "stderr",
     "output_type": "stream",
     "text": [
      "Translating Batches:  60%|█████▉    | 149/250 [3:58:28<2:41:36, 96.00s/it]"
     ]
    },
    {
     "name": "stdout",
     "output_type": "stream",
     "text": [
      "Batch 149 selesai: 100 file diterjemahkan dalam 102.44 detik.\n"
     ]
    },
    {
     "name": "stderr",
     "output_type": "stream",
     "text": [
      "Translating Batches:  60%|██████    | 150/250 [4:00:17<2:46:07, 99.68s/it]"
     ]
    },
    {
     "name": "stdout",
     "output_type": "stream",
     "text": [
      "Batch 150 selesai: 100 file diterjemahkan dalam 108.25 detik.\n"
     ]
    },
    {
     "name": "stderr",
     "output_type": "stream",
     "text": [
      "Translating Batches:  60%|██████    | 151/250 [4:01:53<2:42:56, 98.75s/it]"
     ]
    },
    {
     "name": "stdout",
     "output_type": "stream",
     "text": [
      "Batch 151 selesai: 100 file diterjemahkan dalam 96.60 detik.\n"
     ]
    },
    {
     "name": "stderr",
     "output_type": "stream",
     "text": [
      "Translating Batches:  61%|██████    | 152/250 [4:03:27<2:38:43, 97.18s/it]"
     ]
    },
    {
     "name": "stdout",
     "output_type": "stream",
     "text": [
      "Batch 152 selesai: 100 file diterjemahkan dalam 93.49 detik.\n"
     ]
    },
    {
     "name": "stderr",
     "output_type": "stream",
     "text": [
      "Translating Batches:  61%|██████    | 153/250 [4:05:00<2:35:10, 95.99s/it]"
     ]
    },
    {
     "name": "stdout",
     "output_type": "stream",
     "text": [
      "Batch 153 selesai: 100 file diterjemahkan dalam 93.21 detik.\n"
     ]
    },
    {
     "name": "stderr",
     "output_type": "stream",
     "text": [
      "Translating Batches:  62%|██████▏   | 154/250 [4:06:41<2:36:08, 97.59s/it]"
     ]
    },
    {
     "name": "stdout",
     "output_type": "stream",
     "text": [
      "Batch 154 selesai: 100 file diterjemahkan dalam 101.34 detik.\n"
     ]
    },
    {
     "name": "stderr",
     "output_type": "stream",
     "text": [
      "Translating Batches:  62%|██████▏   | 155/250 [4:08:23<2:36:30, 98.84s/it]"
     ]
    },
    {
     "name": "stdout",
     "output_type": "stream",
     "text": [
      "Batch 155 selesai: 100 file diterjemahkan dalam 101.76 detik.\n"
     ]
    },
    {
     "name": "stderr",
     "output_type": "stream",
     "text": [
      "Translating Batches:  62%|██████▏   | 156/250 [4:09:55<2:31:23, 96.63s/it]"
     ]
    },
    {
     "name": "stdout",
     "output_type": "stream",
     "text": [
      "Batch 156 selesai: 100 file diterjemahkan dalam 91.46 detik.\n"
     ]
    },
    {
     "name": "stderr",
     "output_type": "stream",
     "text": [
      "Translating Batches:  63%|██████▎   | 157/250 [4:11:33<2:30:48, 97.30s/it]"
     ]
    },
    {
     "name": "stdout",
     "output_type": "stream",
     "text": [
      "Batch 157 selesai: 100 file diterjemahkan dalam 98.87 detik.\n"
     ]
    },
    {
     "name": "stderr",
     "output_type": "stream",
     "text": [
      "Translating Batches:  63%|██████▎   | 158/250 [4:13:12<2:29:48, 97.70s/it]"
     ]
    },
    {
     "name": "stdout",
     "output_type": "stream",
     "text": [
      "Batch 158 selesai: 100 file diterjemahkan dalam 98.63 detik.\n"
     ]
    },
    {
     "name": "stderr",
     "output_type": "stream",
     "text": [
      "Translating Batches:  64%|██████▎   | 159/250 [4:14:30<2:19:23, 91.91s/it]"
     ]
    },
    {
     "name": "stdout",
     "output_type": "stream",
     "text": [
      "Batch 159 selesai: 100 file diterjemahkan dalam 78.40 detik.\n"
     ]
    },
    {
     "name": "stderr",
     "output_type": "stream",
     "text": [
      "Translating Batches:  64%|██████▍   | 160/250 [4:16:07<2:20:06, 93.41s/it]"
     ]
    },
    {
     "name": "stdout",
     "output_type": "stream",
     "text": [
      "Batch 160 selesai: 100 file diterjemahkan dalam 96.91 detik.\n"
     ]
    },
    {
     "name": "stderr",
     "output_type": "stream",
     "text": [
      "Translating Batches:  64%|██████▍   | 161/250 [4:17:30<2:13:42, 90.14s/it]"
     ]
    },
    {
     "name": "stdout",
     "output_type": "stream",
     "text": [
      "Batch 161 selesai: 100 file diterjemahkan dalam 82.50 detik.\n"
     ]
    },
    {
     "name": "stderr",
     "output_type": "stream",
     "text": [
      "Translating Batches:  65%|██████▍   | 162/250 [4:18:51<2:08:06, 87.35s/it]"
     ]
    },
    {
     "name": "stdout",
     "output_type": "stream",
     "text": [
      "Batch 162 selesai: 100 file diterjemahkan dalam 80.85 detik.\n"
     ]
    },
    {
     "name": "stderr",
     "output_type": "stream",
     "text": [
      "Translating Batches:  65%|██████▌   | 163/250 [4:19:54<1:56:11, 80.13s/it]"
     ]
    },
    {
     "name": "stdout",
     "output_type": "stream",
     "text": [
      "Batch 163 selesai: 100 file diterjemahkan dalam 63.30 detik.\n"
     ]
    },
    {
     "name": "stderr",
     "output_type": "stream",
     "text": [
      "Translating Batches:  66%|██████▌   | 164/250 [4:21:15<1:55:16, 80.43s/it]"
     ]
    },
    {
     "name": "stdout",
     "output_type": "stream",
     "text": [
      "Batch 164 selesai: 100 file diterjemahkan dalam 81.11 detik.\n"
     ]
    },
    {
     "name": "stderr",
     "output_type": "stream",
     "text": [
      "Translating Batches:  66%|██████▌   | 165/250 [4:22:46<1:58:32, 83.68s/it]"
     ]
    },
    {
     "name": "stdout",
     "output_type": "stream",
     "text": [
      "Batch 165 selesai: 100 file diterjemahkan dalam 91.27 detik.\n"
     ]
    },
    {
     "name": "stderr",
     "output_type": "stream",
     "text": [
      "Translating Batches:  66%|██████▋   | 166/250 [4:24:11<1:57:27, 83.90s/it]"
     ]
    },
    {
     "name": "stdout",
     "output_type": "stream",
     "text": [
      "Batch 166 selesai: 100 file diterjemahkan dalam 84.43 detik.\n"
     ]
    },
    {
     "name": "stderr",
     "output_type": "stream",
     "text": [
      "Translating Batches:  67%|██████▋   | 167/250 [4:25:20<1:49:49, 79.39s/it]"
     ]
    },
    {
     "name": "stdout",
     "output_type": "stream",
     "text": [
      "Batch 167 selesai: 100 file diterjemahkan dalam 68.87 detik.\n"
     ]
    },
    {
     "name": "stderr",
     "output_type": "stream",
     "text": [
      "Translating Batches:  67%|██████▋   | 168/250 [4:27:08<2:00:29, 88.16s/it]"
     ]
    },
    {
     "name": "stdout",
     "output_type": "stream",
     "text": [
      "Batch 168 selesai: 100 file diterjemahkan dalam 108.63 detik.\n"
     ]
    },
    {
     "name": "stderr",
     "output_type": "stream",
     "text": [
      "Translating Batches:  68%|██████▊   | 169/250 [4:28:50<2:04:20, 92.10s/it]"
     ]
    },
    {
     "name": "stdout",
     "output_type": "stream",
     "text": [
      "Batch 169 selesai: 100 file diterjemahkan dalam 101.29 detik.\n"
     ]
    },
    {
     "name": "stderr",
     "output_type": "stream",
     "text": [
      "Translating Batches:  68%|██████▊   | 170/250 [4:30:28<2:05:24, 94.06s/it]"
     ]
    },
    {
     "name": "stdout",
     "output_type": "stream",
     "text": [
      "Batch 170 selesai: 100 file diterjemahkan dalam 98.62 detik.\n"
     ]
    },
    {
     "name": "stderr",
     "output_type": "stream",
     "text": [
      "Translating Batches:  68%|██████▊   | 171/250 [4:31:55<2:01:06, 91.98s/it]"
     ]
    },
    {
     "name": "stdout",
     "output_type": "stream",
     "text": [
      "Batch 171 selesai: 100 file diterjemahkan dalam 87.14 detik.\n"
     ]
    },
    {
     "name": "stderr",
     "output_type": "stream",
     "text": [
      "Translating Batches:  69%|██████▉   | 172/250 [4:33:34<2:02:20, 94.11s/it]"
     ]
    },
    {
     "name": "stdout",
     "output_type": "stream",
     "text": [
      "Batch 172 selesai: 100 file diterjemahkan dalam 99.06 detik.\n"
     ]
    },
    {
     "name": "stderr",
     "output_type": "stream",
     "text": [
      "Translating Batches:  69%|██████▉   | 173/250 [4:35:10<2:01:13, 94.46s/it]"
     ]
    },
    {
     "name": "stdout",
     "output_type": "stream",
     "text": [
      "Batch 173 selesai: 100 file diterjemahkan dalam 95.28 detik.\n"
     ]
    },
    {
     "name": "stderr",
     "output_type": "stream",
     "text": [
      "Translating Batches:  70%|██████▉   | 174/250 [4:36:46<2:00:14, 94.93s/it]"
     ]
    },
    {
     "name": "stdout",
     "output_type": "stream",
     "text": [
      "Batch 174 selesai: 100 file diterjemahkan dalam 96.01 detik.\n"
     ]
    },
    {
     "name": "stderr",
     "output_type": "stream",
     "text": [
      "Translating Batches:  70%|███████   | 175/250 [4:38:23<1:59:32, 95.63s/it]"
     ]
    },
    {
     "name": "stdout",
     "output_type": "stream",
     "text": [
      "Batch 175 selesai: 100 file diterjemahkan dalam 97.27 detik.\n"
     ]
    },
    {
     "name": "stderr",
     "output_type": "stream",
     "text": [
      "Translating Batches:  70%|███████   | 176/250 [4:40:02<1:59:03, 96.53s/it]"
     ]
    },
    {
     "name": "stdout",
     "output_type": "stream",
     "text": [
      "Batch 176 selesai: 100 file diterjemahkan dalam 98.64 detik.\n"
     ]
    },
    {
     "name": "stderr",
     "output_type": "stream",
     "text": [
      "Translating Batches:  71%|███████   | 177/250 [4:41:41<1:58:32, 97.43s/it]"
     ]
    },
    {
     "name": "stdout",
     "output_type": "stream",
     "text": [
      "Batch 177 selesai: 100 file diterjemahkan dalam 99.53 detik.\n"
     ]
    },
    {
     "name": "stderr",
     "output_type": "stream",
     "text": [
      "Translating Batches:  71%|███████   | 178/250 [4:43:17<1:56:20, 96.96s/it]"
     ]
    },
    {
     "name": "stdout",
     "output_type": "stream",
     "text": [
      "Batch 178 selesai: 100 file diterjemahkan dalam 95.85 detik.\n"
     ]
    },
    {
     "name": "stderr",
     "output_type": "stream",
     "text": [
      "Translating Batches:  72%|███████▏  | 179/250 [4:44:39<1:49:17, 92.35s/it]"
     ]
    },
    {
     "name": "stdout",
     "output_type": "stream",
     "text": [
      "Batch 179 selesai: 100 file diterjemahkan dalam 81.61 detik.\n"
     ]
    },
    {
     "name": "stderr",
     "output_type": "stream",
     "text": [
      "Translating Batches:  72%|███████▏  | 180/250 [4:45:54<1:41:57, 87.39s/it]"
     ]
    },
    {
     "name": "stdout",
     "output_type": "stream",
     "text": [
      "Batch 180 selesai: 100 file diterjemahkan dalam 75.80 detik.\n"
     ]
    },
    {
     "name": "stderr",
     "output_type": "stream",
     "text": [
      "Translating Batches:  72%|███████▏  | 181/250 [4:47:28<1:42:34, 89.20s/it]"
     ]
    },
    {
     "name": "stdout",
     "output_type": "stream",
     "text": [
      "Batch 181 selesai: 100 file diterjemahkan dalam 93.43 detik.\n"
     ]
    },
    {
     "name": "stderr",
     "output_type": "stream",
     "text": [
      "Translating Batches:  73%|███████▎  | 182/250 [4:49:00<1:42:12, 90.18s/it]"
     ]
    },
    {
     "name": "stdout",
     "output_type": "stream",
     "text": [
      "Batch 182 selesai: 100 file diterjemahkan dalam 92.48 detik.\n"
     ]
    },
    {
     "name": "stderr",
     "output_type": "stream",
     "text": [
      "Translating Batches:  73%|███████▎  | 183/250 [4:50:40<1:43:54, 93.05s/it]"
     ]
    },
    {
     "name": "stdout",
     "output_type": "stream",
     "text": [
      "Batch 183 selesai: 100 file diterjemahkan dalam 99.73 detik.\n"
     ]
    },
    {
     "name": "stderr",
     "output_type": "stream",
     "text": [
      "Translating Batches:  74%|███████▎  | 184/250 [4:52:19<1:44:15, 94.78s/it]"
     ]
    },
    {
     "name": "stdout",
     "output_type": "stream",
     "text": [
      "Batch 184 selesai: 100 file diterjemahkan dalam 98.81 detik.\n"
     ]
    },
    {
     "name": "stderr",
     "output_type": "stream",
     "text": [
      "Translating Batches:  74%|███████▍  | 185/250 [4:54:10<1:48:08, 99.82s/it]"
     ]
    },
    {
     "name": "stdout",
     "output_type": "stream",
     "text": [
      "Batch 185 selesai: 100 file diterjemahkan dalam 111.57 detik.\n"
     ]
    },
    {
     "name": "stderr",
     "output_type": "stream",
     "text": [
      "Translating Batches:  74%|███████▍  | 186/250 [4:56:00<1:49:30, 102.66s/it]"
     ]
    },
    {
     "name": "stdout",
     "output_type": "stream",
     "text": [
      "Batch 186 selesai: 100 file diterjemahkan dalam 109.30 detik.\n"
     ]
    },
    {
     "name": "stderr",
     "output_type": "stream",
     "text": [
      "Translating Batches:  75%|███████▍  | 187/250 [4:57:48<1:49:25, 104.21s/it]"
     ]
    },
    {
     "name": "stdout",
     "output_type": "stream",
     "text": [
      "Batch 187 selesai: 100 file diterjemahkan dalam 107.82 detik.\n"
     ]
    },
    {
     "name": "stderr",
     "output_type": "stream",
     "text": [
      "Translating Batches:  75%|███████▌  | 188/250 [4:59:14<1:42:16, 98.97s/it] "
     ]
    },
    {
     "name": "stdout",
     "output_type": "stream",
     "text": [
      "Batch 188 selesai: 100 file diterjemahkan dalam 86.75 detik.\n"
     ]
    },
    {
     "name": "stderr",
     "output_type": "stream",
     "text": [
      "Translating Batches:  76%|███████▌  | 189/250 [5:00:46<1:38:29, 96.87s/it]"
     ]
    },
    {
     "name": "stdout",
     "output_type": "stream",
     "text": [
      "Batch 189 selesai: 100 file diterjemahkan dalam 91.97 detik.\n"
     ]
    },
    {
     "name": "stderr",
     "output_type": "stream",
     "text": [
      "Translating Batches:  76%|███████▌  | 190/250 [5:02:27<1:38:07, 98.13s/it]"
     ]
    },
    {
     "name": "stdout",
     "output_type": "stream",
     "text": [
      "Batch 190 selesai: 100 file diterjemahkan dalam 101.06 detik.\n"
     ]
    },
    {
     "name": "stderr",
     "output_type": "stream",
     "text": [
      "Translating Batches:  76%|███████▋  | 191/250 [5:04:05<1:36:27, 98.10s/it]"
     ]
    },
    {
     "name": "stdout",
     "output_type": "stream",
     "text": [
      "Batch 191 selesai: 100 file diterjemahkan dalam 98.02 detik.\n"
     ]
    },
    {
     "name": "stderr",
     "output_type": "stream",
     "text": [
      "Translating Batches:  77%|███████▋  | 192/250 [5:05:37<1:32:54, 96.11s/it]"
     ]
    },
    {
     "name": "stdout",
     "output_type": "stream",
     "text": [
      "Batch 192 selesai: 100 file diterjemahkan dalam 91.48 detik.\n"
     ]
    },
    {
     "name": "stderr",
     "output_type": "stream",
     "text": [
      "Translating Batches:  77%|███████▋  | 193/250 [5:07:10<1:30:25, 95.19s/it]"
     ]
    },
    {
     "name": "stdout",
     "output_type": "stream",
     "text": [
      "Batch 193 selesai: 100 file diterjemahkan dalam 93.04 detik.\n"
     ]
    },
    {
     "name": "stderr",
     "output_type": "stream",
     "text": [
      "Translating Batches:  78%|███████▊  | 194/250 [5:08:51<1:30:36, 97.07s/it]"
     ]
    },
    {
     "name": "stdout",
     "output_type": "stream",
     "text": [
      "Batch 194 selesai: 100 file diterjemahkan dalam 101.46 detik.\n"
     ]
    },
    {
     "name": "stderr",
     "output_type": "stream",
     "text": [
      "Translating Batches:  78%|███████▊  | 195/250 [5:10:35<1:30:43, 98.97s/it]"
     ]
    },
    {
     "name": "stdout",
     "output_type": "stream",
     "text": [
      "Batch 195 selesai: 100 file diterjemahkan dalam 103.40 detik.\n"
     ]
    },
    {
     "name": "stderr",
     "output_type": "stream",
     "text": [
      "Translating Batches:  78%|███████▊  | 196/250 [5:12:08<1:27:27, 97.17s/it]"
     ]
    },
    {
     "name": "stdout",
     "output_type": "stream",
     "text": [
      "Batch 196 selesai: 100 file diterjemahkan dalam 92.96 detik.\n"
     ]
    },
    {
     "name": "stderr",
     "output_type": "stream",
     "text": [
      "Translating Batches:  79%|███████▉  | 197/250 [5:13:58<1:29:23, 101.19s/it]"
     ]
    },
    {
     "name": "stdout",
     "output_type": "stream",
     "text": [
      "Batch 197 selesai: 100 file diterjemahkan dalam 110.58 detik.\n"
     ]
    },
    {
     "name": "stderr",
     "output_type": "stream",
     "text": [
      "Translating Batches:  79%|███████▉  | 198/250 [5:15:51<1:30:37, 104.57s/it]"
     ]
    },
    {
     "name": "stdout",
     "output_type": "stream",
     "text": [
      "Batch 198 selesai: 100 file diterjemahkan dalam 112.46 detik.\n"
     ]
    },
    {
     "name": "stderr",
     "output_type": "stream",
     "text": [
      "Translating Batches:  80%|███████▉  | 199/250 [5:17:43<1:30:45, 106.76s/it]"
     ]
    },
    {
     "name": "stdout",
     "output_type": "stream",
     "text": [
      "Batch 199 selesai: 100 file diterjemahkan dalam 111.88 detik.\n"
     ]
    },
    {
     "name": "stderr",
     "output_type": "stream",
     "text": [
      "Translating Batches:  80%|████████  | 200/250 [5:19:22<1:27:11, 104.63s/it]"
     ]
    },
    {
     "name": "stdout",
     "output_type": "stream",
     "text": [
      "Batch 200 selesai: 100 file diterjemahkan dalam 99.64 detik.\n"
     ]
    },
    {
     "name": "stderr",
     "output_type": "stream",
     "text": [
      "Translating Batches:  80%|████████  | 201/250 [5:20:56<1:22:46, 101.36s/it]"
     ]
    },
    {
     "name": "stdout",
     "output_type": "stream",
     "text": [
      "Batch 201 selesai: 100 file diterjemahkan dalam 93.73 detik.\n"
     ]
    },
    {
     "name": "stderr",
     "output_type": "stream",
     "text": [
      "Translating Batches:  81%|████████  | 202/250 [5:22:22<1:17:19, 96.66s/it] "
     ]
    },
    {
     "name": "stdout",
     "output_type": "stream",
     "text": [
      "Batch 202 selesai: 100 file diterjemahkan dalam 85.68 detik.\n"
     ]
    },
    {
     "name": "stderr",
     "output_type": "stream",
     "text": [
      "Translating Batches:  81%|████████  | 203/250 [5:24:05<1:17:14, 98.62s/it]"
     ]
    },
    {
     "name": "stdout",
     "output_type": "stream",
     "text": [
      "Batch 203 selesai: 100 file diterjemahkan dalam 103.19 detik.\n"
     ]
    },
    {
     "name": "stderr",
     "output_type": "stream",
     "text": [
      "Translating Batches:  82%|████████▏ | 204/250 [5:25:35<1:13:43, 96.15s/it]"
     ]
    },
    {
     "name": "stdout",
     "output_type": "stream",
     "text": [
      "Batch 204 selesai: 100 file diterjemahkan dalam 90.40 detik.\n"
     ]
    },
    {
     "name": "stderr",
     "output_type": "stream",
     "text": [
      "Translating Batches:  82%|████████▏ | 205/250 [5:27:01<1:09:50, 93.13s/it]"
     ]
    },
    {
     "name": "stdout",
     "output_type": "stream",
     "text": [
      "Batch 205 selesai: 100 file diterjemahkan dalam 86.08 detik.\n"
     ]
    },
    {
     "name": "stderr",
     "output_type": "stream",
     "text": [
      "Translating Batches:  82%|████████▏ | 206/250 [5:28:24<1:05:54, 89.88s/it]"
     ]
    },
    {
     "name": "stdout",
     "output_type": "stream",
     "text": [
      "Batch 206 selesai: 100 file diterjemahkan dalam 82.30 detik.\n"
     ]
    },
    {
     "name": "stderr",
     "output_type": "stream",
     "text": [
      "Translating Batches:  83%|████████▎ | 207/250 [5:29:56<1:04:57, 90.63s/it]"
     ]
    },
    {
     "name": "stdout",
     "output_type": "stream",
     "text": [
      "Batch 207 selesai: 100 file diterjemahkan dalam 92.38 detik.\n"
     ]
    },
    {
     "name": "stderr",
     "output_type": "stream",
     "text": [
      "Translating Batches:  83%|████████▎ | 208/250 [5:31:28<1:03:40, 90.98s/it]"
     ]
    },
    {
     "name": "stdout",
     "output_type": "stream",
     "text": [
      "Batch 208 selesai: 100 file diterjemahkan dalam 91.77 detik.\n"
     ]
    },
    {
     "name": "stderr",
     "output_type": "stream",
     "text": [
      "Translating Batches:  84%|████████▎ | 209/250 [5:33:03<1:03:06, 92.35s/it]"
     ]
    },
    {
     "name": "stdout",
     "output_type": "stream",
     "text": [
      "Batch 209 selesai: 100 file diterjemahkan dalam 95.56 detik.\n"
     ]
    },
    {
     "name": "stderr",
     "output_type": "stream",
     "text": [
      "Translating Batches:  84%|████████▍ | 210/250 [5:34:53<1:05:01, 97.53s/it]"
     ]
    },
    {
     "name": "stdout",
     "output_type": "stream",
     "text": [
      "Batch 210 selesai: 100 file diterjemahkan dalam 109.62 detik.\n"
     ]
    },
    {
     "name": "stderr",
     "output_type": "stream",
     "text": [
      "Translating Batches:  84%|████████▍ | 211/250 [5:36:47<1:06:40, 102.58s/it]"
     ]
    },
    {
     "name": "stdout",
     "output_type": "stream",
     "text": [
      "Batch 211 selesai: 100 file diterjemahkan dalam 114.35 detik.\n"
     ]
    },
    {
     "name": "stderr",
     "output_type": "stream",
     "text": [
      "Translating Batches:  85%|████████▍ | 212/250 [5:38:37<1:06:23, 104.84s/it]"
     ]
    },
    {
     "name": "stdout",
     "output_type": "stream",
     "text": [
      "Batch 212 selesai: 100 file diterjemahkan dalam 110.11 detik.\n"
     ]
    },
    {
     "name": "stderr",
     "output_type": "stream",
     "text": [
      "Translating Batches:  85%|████████▌ | 213/250 [5:40:22<1:04:33, 104.69s/it]"
     ]
    },
    {
     "name": "stdout",
     "output_type": "stream",
     "text": [
      "Batch 213 selesai: 100 file diterjemahkan dalam 104.35 detik.\n"
     ]
    },
    {
     "name": "stderr",
     "output_type": "stream",
     "text": [
      "Translating Batches:  86%|████████▌ | 214/250 [5:41:56<1:00:59, 101.66s/it]"
     ]
    },
    {
     "name": "stdout",
     "output_type": "stream",
     "text": [
      "Batch 214 selesai: 100 file diterjemahkan dalam 94.59 detik.\n"
     ]
    },
    {
     "name": "stderr",
     "output_type": "stream",
     "text": [
      "Translating Batches:  86%|████████▌ | 215/250 [5:43:29<57:40, 98.86s/it]   "
     ]
    },
    {
     "name": "stdout",
     "output_type": "stream",
     "text": [
      "Batch 215 selesai: 100 file diterjemahkan dalam 92.33 detik.\n"
     ]
    },
    {
     "name": "stderr",
     "output_type": "stream",
     "text": [
      "Translating Batches:  86%|████████▋ | 216/250 [5:44:57<54:13, 95.70s/it]"
     ]
    },
    {
     "name": "stdout",
     "output_type": "stream",
     "text": [
      "Batch 216 selesai: 100 file diterjemahkan dalam 88.32 detik.\n"
     ]
    },
    {
     "name": "stderr",
     "output_type": "stream",
     "text": [
      "Translating Batches:  87%|████████▋ | 217/250 [5:46:25<51:20, 93.35s/it]"
     ]
    },
    {
     "name": "stdout",
     "output_type": "stream",
     "text": [
      "Batch 217 selesai: 100 file diterjemahkan dalam 87.88 detik.\n"
     ]
    },
    {
     "name": "stderr",
     "output_type": "stream",
     "text": [
      "Translating Batches:  87%|████████▋ | 218/250 [5:47:47<47:58, 89.96s/it]"
     ]
    },
    {
     "name": "stdout",
     "output_type": "stream",
     "text": [
      "Batch 218 selesai: 100 file diterjemahkan dalam 82.03 detik.\n"
     ]
    },
    {
     "name": "stderr",
     "output_type": "stream",
     "text": [
      "Translating Batches:  88%|████████▊ | 219/250 [5:49:23<47:29, 91.91s/it]"
     ]
    },
    {
     "name": "stdout",
     "output_type": "stream",
     "text": [
      "Batch 219 selesai: 100 file diterjemahkan dalam 96.47 detik.\n"
     ]
    },
    {
     "name": "stderr",
     "output_type": "stream",
     "text": [
      "Translating Batches:  88%|████████▊ | 220/250 [5:50:58<46:23, 92.77s/it]"
     ]
    },
    {
     "name": "stdout",
     "output_type": "stream",
     "text": [
      "Batch 220 selesai: 100 file diterjemahkan dalam 94.79 detik.\n"
     ]
    },
    {
     "name": "stderr",
     "output_type": "stream",
     "text": [
      "Translating Batches:  88%|████████▊ | 221/250 [5:52:40<46:13, 95.62s/it]"
     ]
    },
    {
     "name": "stdout",
     "output_type": "stream",
     "text": [
      "Batch 221 selesai: 100 file diterjemahkan dalam 102.27 detik.\n"
     ]
    },
    {
     "name": "stderr",
     "output_type": "stream",
     "text": [
      "Translating Batches:  89%|████████▉ | 222/250 [5:54:12<44:00, 94.31s/it]"
     ]
    },
    {
     "name": "stdout",
     "output_type": "stream",
     "text": [
      "Batch 222 selesai: 100 file diterjemahkan dalam 91.24 detik.\n"
     ]
    },
    {
     "name": "stderr",
     "output_type": "stream",
     "text": [
      "Translating Batches:  89%|████████▉ | 223/250 [5:55:47<42:37, 94.73s/it]"
     ]
    },
    {
     "name": "stdout",
     "output_type": "stream",
     "text": [
      "Batch 223 selesai: 100 file diterjemahkan dalam 95.70 detik.\n"
     ]
    },
    {
     "name": "stderr",
     "output_type": "stream",
     "text": [
      "Translating Batches:  90%|████████▉ | 224/250 [5:57:26<41:33, 95.89s/it]"
     ]
    },
    {
     "name": "stdout",
     "output_type": "stream",
     "text": [
      "Batch 224 selesai: 100 file diterjemahkan dalam 98.60 detik.\n"
     ]
    },
    {
     "name": "stderr",
     "output_type": "stream",
     "text": [
      "Translating Batches:  90%|█████████ | 225/250 [5:58:58<39:26, 94.65s/it]"
     ]
    },
    {
     "name": "stdout",
     "output_type": "stream",
     "text": [
      "Batch 225 selesai: 100 file diterjemahkan dalam 91.76 detik.\n"
     ]
    },
    {
     "name": "stderr",
     "output_type": "stream",
     "text": [
      "Translating Batches:  90%|█████████ | 226/250 [6:00:36<38:16, 95.70s/it]"
     ]
    },
    {
     "name": "stdout",
     "output_type": "stream",
     "text": [
      "Batch 226 selesai: 100 file diterjemahkan dalam 98.14 detik.\n"
     ]
    },
    {
     "name": "stderr",
     "output_type": "stream",
     "text": [
      "Translating Batches:  91%|█████████ | 227/250 [6:02:11<36:38, 95.59s/it]"
     ]
    },
    {
     "name": "stdout",
     "output_type": "stream",
     "text": [
      "Batch 227 selesai: 100 file diterjemahkan dalam 95.33 detik.\n"
     ]
    },
    {
     "name": "stderr",
     "output_type": "stream",
     "text": [
      "Translating Batches:  91%|█████████ | 228/250 [6:03:40<34:19, 93.63s/it]"
     ]
    },
    {
     "name": "stdout",
     "output_type": "stream",
     "text": [
      "Batch 228 selesai: 100 file diterjemahkan dalam 89.07 detik.\n"
     ]
    },
    {
     "name": "stderr",
     "output_type": "stream",
     "text": [
      "Translating Batches:  92%|█████████▏| 229/250 [6:05:09<32:17, 92.27s/it]"
     ]
    },
    {
     "name": "stdout",
     "output_type": "stream",
     "text": [
      "Batch 229 selesai: 100 file diterjemahkan dalam 89.08 detik.\n"
     ]
    },
    {
     "name": "stderr",
     "output_type": "stream",
     "text": [
      "Translating Batches:  92%|█████████▏| 230/250 [6:06:41<30:40, 92.02s/it]"
     ]
    },
    {
     "name": "stdout",
     "output_type": "stream",
     "text": [
      "Batch 230 selesai: 100 file diterjemahkan dalam 91.45 detik.\n"
     ]
    },
    {
     "name": "stderr",
     "output_type": "stream",
     "text": [
      "Translating Batches:  92%|█████████▏| 231/250 [6:08:08<28:43, 90.69s/it]"
     ]
    },
    {
     "name": "stdout",
     "output_type": "stream",
     "text": [
      "Batch 231 selesai: 100 file diterjemahkan dalam 87.57 detik.\n"
     ]
    },
    {
     "name": "stderr",
     "output_type": "stream",
     "text": [
      "Translating Batches:  93%|█████████▎| 232/250 [6:09:37<27:01, 90.08s/it]"
     ]
    },
    {
     "name": "stdout",
     "output_type": "stream",
     "text": [
      "Batch 232 selesai: 100 file diterjemahkan dalam 88.66 detik.\n"
     ]
    },
    {
     "name": "stderr",
     "output_type": "stream",
     "text": [
      "Translating Batches:  93%|█████████▎| 233/250 [6:11:08<25:34, 90.27s/it]"
     ]
    },
    {
     "name": "stdout",
     "output_type": "stream",
     "text": [
      "Batch 233 selesai: 100 file diterjemahkan dalam 90.71 detik.\n"
     ]
    },
    {
     "name": "stderr",
     "output_type": "stream",
     "text": [
      "Translating Batches:  94%|█████████▎| 234/250 [6:12:48<24:51, 93.19s/it]"
     ]
    },
    {
     "name": "stdout",
     "output_type": "stream",
     "text": [
      "Batch 234 selesai: 100 file diterjemahkan dalam 100.01 detik.\n"
     ]
    },
    {
     "name": "stderr",
     "output_type": "stream",
     "text": [
      "Translating Batches:  94%|█████████▍| 235/250 [6:14:27<23:43, 94.93s/it]"
     ]
    },
    {
     "name": "stdout",
     "output_type": "stream",
     "text": [
      "Batch 235 selesai: 100 file diterjemahkan dalam 98.99 detik.\n"
     ]
    },
    {
     "name": "stderr",
     "output_type": "stream",
     "text": [
      "Translating Batches:  94%|█████████▍| 236/250 [6:16:09<22:41, 97.23s/it]"
     ]
    },
    {
     "name": "stdout",
     "output_type": "stream",
     "text": [
      "Batch 236 selesai: 100 file diterjemahkan dalam 102.61 detik.\n"
     ]
    },
    {
     "name": "stderr",
     "output_type": "stream",
     "text": [
      "Translating Batches:  95%|█████████▍| 237/250 [6:17:53<21:27, 99.03s/it]"
     ]
    },
    {
     "name": "stdout",
     "output_type": "stream",
     "text": [
      "Batch 237 selesai: 100 file diterjemahkan dalam 103.22 detik.\n"
     ]
    },
    {
     "name": "stderr",
     "output_type": "stream",
     "text": [
      "Translating Batches:  95%|█████████▌| 238/250 [6:19:41<20:23, 101.94s/it]"
     ]
    },
    {
     "name": "stdout",
     "output_type": "stream",
     "text": [
      "Batch 238 selesai: 100 file diterjemahkan dalam 108.72 detik.\n"
     ]
    },
    {
     "name": "stderr",
     "output_type": "stream",
     "text": [
      "Translating Batches:  96%|█████████▌| 239/250 [6:21:21<18:34, 101.35s/it]"
     ]
    },
    {
     "name": "stdout",
     "output_type": "stream",
     "text": [
      "Batch 239 selesai: 100 file diterjemahkan dalam 99.99 detik.\n"
     ]
    },
    {
     "name": "stderr",
     "output_type": "stream",
     "text": [
      "Translating Batches:  96%|█████████▌| 240/250 [6:22:52<16:21, 98.14s/it] "
     ]
    },
    {
     "name": "stdout",
     "output_type": "stream",
     "text": [
      "Batch 240 selesai: 100 file diterjemahkan dalam 90.63 detik.\n"
     ]
    },
    {
     "name": "stderr",
     "output_type": "stream",
     "text": [
      "Translating Batches:  96%|█████████▋| 241/250 [6:24:19<14:13, 94.84s/it]"
     ]
    },
    {
     "name": "stdout",
     "output_type": "stream",
     "text": [
      "Batch 241 selesai: 100 file diterjemahkan dalam 87.14 detik.\n"
     ]
    },
    {
     "name": "stderr",
     "output_type": "stream",
     "text": [
      "Translating Batches:  97%|█████████▋| 242/250 [6:25:53<12:36, 94.59s/it]"
     ]
    },
    {
     "name": "stdout",
     "output_type": "stream",
     "text": [
      "Batch 242 selesai: 100 file diterjemahkan dalam 94.00 detik.\n"
     ]
    },
    {
     "name": "stderr",
     "output_type": "stream",
     "text": [
      "Translating Batches:  97%|█████████▋| 243/250 [6:27:30<11:07, 95.35s/it]"
     ]
    },
    {
     "name": "stdout",
     "output_type": "stream",
     "text": [
      "Batch 243 selesai: 100 file diterjemahkan dalam 97.13 detik.\n"
     ]
    },
    {
     "name": "stderr",
     "output_type": "stream",
     "text": [
      "Translating Batches:  98%|█████████▊| 244/250 [6:28:57<09:16, 92.71s/it]"
     ]
    },
    {
     "name": "stdout",
     "output_type": "stream",
     "text": [
      "Batch 244 selesai: 100 file diterjemahkan dalam 86.54 detik.\n"
     ]
    },
    {
     "name": "stderr",
     "output_type": "stream",
     "text": [
      "Translating Batches:  98%|█████████▊| 245/250 [6:30:33<07:48, 93.72s/it]"
     ]
    },
    {
     "name": "stdout",
     "output_type": "stream",
     "text": [
      "Batch 245 selesai: 100 file diterjemahkan dalam 96.07 detik.\n"
     ]
    },
    {
     "name": "stderr",
     "output_type": "stream",
     "text": [
      "Translating Batches:  98%|█████████▊| 246/250 [6:32:14<06:23, 95.80s/it]"
     ]
    },
    {
     "name": "stdout",
     "output_type": "stream",
     "text": [
      "Batch 246 selesai: 100 file diterjemahkan dalam 100.65 detik.\n"
     ]
    },
    {
     "name": "stderr",
     "output_type": "stream",
     "text": [
      "Translating Batches:  99%|█████████▉| 247/250 [6:33:48<04:46, 95.55s/it]"
     ]
    },
    {
     "name": "stdout",
     "output_type": "stream",
     "text": [
      "Batch 247 selesai: 100 file diterjemahkan dalam 94.96 detik.\n"
     ]
    },
    {
     "name": "stderr",
     "output_type": "stream",
     "text": [
      "Translating Batches:  99%|█████████▉| 248/250 [6:35:23<03:10, 95.35s/it]"
     ]
    },
    {
     "name": "stdout",
     "output_type": "stream",
     "text": [
      "Batch 248 selesai: 100 file diterjemahkan dalam 94.89 detik.\n"
     ]
    },
    {
     "name": "stderr",
     "output_type": "stream",
     "text": [
      "Translating Batches: 100%|█████████▉| 249/250 [6:37:01<01:36, 96.00s/it]"
     ]
    },
    {
     "name": "stdout",
     "output_type": "stream",
     "text": [
      "Batch 249 selesai: 100 file diterjemahkan dalam 97.53 detik.\n"
     ]
    },
    {
     "name": "stderr",
     "output_type": "stream",
     "text": [
      "Translating Batches: 100%|██████████| 250/250 [6:38:43<00:00, 95.70s/it]"
     ]
    },
    {
     "name": "stdout",
     "output_type": "stream",
     "text": [
      "Batch 250 selesai: 99 file diterjemahkan dalam 102.53 detik.\n",
      "Semua file selesai diterjemahkan!\n"
     ]
    },
    {
     "name": "stderr",
     "output_type": "stream",
     "text": [
      "\n"
     ]
    }
   ],
   "source": [
    "from deep_translator import GoogleTranslator\n",
    "import os\n",
    "import time\n",
    "from tqdm import tqdm\n",
    "\n",
    "# Path ke folder captions asli dan folder hasil terjemahan\n",
    "captions_path = \"/kaggle/input/new-dataset/captions\"\n",
    "translated_captions_path = \"/kaggle/working/captions-translated\"\n",
    "os.makedirs(translated_captions_path, exist_ok=True)\n",
    "\n",
    "# Ambil daftar file caption\n",
    "caption_files = [f for f in os.listdir(captions_path) if f.endswith('.txt')]\n",
    "\n",
    "# Tentukan jumlah file per batch\n",
    "batch_size = 100  \n",
    "\n",
    "# Inisialisasi translator\n",
    "translator = GoogleTranslator(source='auto', target='id')\n",
    "\n",
    "# Proses dalam batch dengan tqdm\n",
    "total_batches = len(caption_files) // batch_size + (1 if len(caption_files) % batch_size != 0 else 0)\n",
    "print(f\"Total Batches: {total_batches}\")\n",
    "\n",
    "for i in tqdm(range(0, len(caption_files), batch_size), desc=\"Translating Batches\"):\n",
    "    start_time = time.time()  # Catat waktu mulai batch ini\n",
    "    \n",
    "    batch_files = caption_files[i:i+batch_size]\n",
    "    texts = []\n",
    "    file_map = {}\n",
    "\n",
    "    # Baca file dalam batch\n",
    "    for filename in batch_files:\n",
    "        src_file = os.path.join(captions_path, filename)\n",
    "        with open(src_file, 'r', encoding='utf-8') as f:\n",
    "            content = f.read()\n",
    "            texts.append(content)\n",
    "            file_map[filename] = content\n",
    "\n",
    "    # Menerjemahkan dalam batch\n",
    "    translated_texts = translator.translate_batch(texts)\n",
    "\n",
    "    # Simpan hasil terjemahan\n",
    "    for filename, translated in zip(file_map.keys(), translated_texts):\n",
    "        dst_file = os.path.join(translated_captions_path, filename)\n",
    "        with open(dst_file, 'w', encoding='utf-8') as f:\n",
    "            f.write(translated)\n",
    "\n",
    "    end_time = time.time()  # Catat waktu selesai batch ini\n",
    "    batch_time = end_time - start_time\n",
    "    print(f\"Batch {i//batch_size + 1} selesai: {len(batch_files)} file diterjemahkan dalam {batch_time:.2f} detik.\")\n",
    "\n",
    "print(\"Semua file selesai diterjemahkan!\")"
   ]
  },
  {
   "cell_type": "code",
   "execution_count": 3,
   "id": "0817490f",
   "metadata": {
    "execution": {
     "iopub.execute_input": "2025-02-19T11:13:01.855062Z",
     "iopub.status.busy": "2025-02-19T11:13:01.854474Z",
     "iopub.status.idle": "2025-02-19T11:13:05.137854Z",
     "shell.execute_reply": "2025-02-19T11:13:05.136723Z"
    },
    "papermill": {
     "duration": 3.318584,
     "end_time": "2025-02-19T11:13:05.139662",
     "exception": false,
     "start_time": "2025-02-19T11:13:01.821078",
     "status": "completed"
    },
    "tags": []
   },
   "outputs": [
    {
     "name": "stdout",
     "output_type": "stream",
     "text": [
      "captions-translated.zip berhasil dibuat.\n"
     ]
    }
   ],
   "source": [
    "import shutil\n",
    "\n",
    "# Nama folder yang akan di-zip\n",
    "folder_path = '/kaggle/working/captions-translated'\n",
    "# Nama file zip\n",
    "output_zip = 'captions-translated.zip'\n",
    "\n",
    "# Membuat file zip\n",
    "shutil.make_archive(output_zip.replace('.zip', ''), 'zip', folder_path)\n",
    "\n",
    "print(f\"{output_zip} berhasil dibuat.\")"
   ]
  }
 ],
 "metadata": {
  "kaggle": {
   "accelerator": "none",
   "dataSources": [
    {
     "datasetId": 6481868,
     "sourceId": 10789066,
     "sourceType": "datasetVersion"
    }
   ],
   "dockerImageVersionId": 30822,
   "isGpuEnabled": false,
   "isInternetEnabled": true,
   "language": "python",
   "sourceType": "notebook"
  },
  "kernelspec": {
   "display_name": "Python 3",
   "language": "python",
   "name": "python3"
  },
  "language_info": {
   "codemirror_mode": {
    "name": "ipython",
    "version": 3
   },
   "file_extension": ".py",
   "mimetype": "text/x-python",
   "name": "python",
   "nbconvert_exporter": "python",
   "pygments_lexer": "ipython3",
   "version": "3.10.12"
  },
  "papermill": {
   "default_parameters": {},
   "duration": 23937.060327,
   "end_time": "2025-02-19T11:13:05.726046",
   "environment_variables": {},
   "exception": null,
   "input_path": "__notebook__.ipynb",
   "output_path": "__notebook__.ipynb",
   "parameters": {},
   "start_time": "2025-02-19T04:34:08.665719",
   "version": "2.6.0"
  }
 },
 "nbformat": 4,
 "nbformat_minor": 5
}
