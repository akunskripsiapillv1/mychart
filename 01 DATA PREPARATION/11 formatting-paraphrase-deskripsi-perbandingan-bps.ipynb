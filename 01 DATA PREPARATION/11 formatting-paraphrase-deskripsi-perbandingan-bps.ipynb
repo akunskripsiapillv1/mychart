{
 "cells": [
  {
   "cell_type": "code",
   "execution_count": 1,
   "metadata": {},
   "outputs": [],
   "source": [
    "import json\n",
    "import csv\n",
    "import os\n",
    "import re\n",
    "\n",
    "# Load CSV log\n",
    "paraphrase_counts = {}\n",
    "with open('paraphrase_log_0.2.0.csv', newline='', encoding='utf-8') as csvfile:\n",
    "    reader = csv.DictReader(csvfile)\n",
    "    for row in reader:\n",
    "        key = row['filename'].replace('.txt', '')\n",
    "        paraphrase_counts[key] = int(row['paraphrase_count'])\n",
    "\n",
    "# Load JSON data\n",
    "with open('paraphrases_tambahan_reasoning.json', 'r', encoding='utf-8') as jsonfile:\n",
    "    data = json.load(jsonfile)\n",
    "\n",
    "# Output folder\n",
    "os.makedirs('paraphrases_tambahan_reasoning', exist_ok=True)\n",
    "\n",
    "# Regex to remove numbering like '1. ', '2. ', ': ' etc.\n",
    "# numbering_pattern = re.compile(r'^\\d+\\.\\s*')\n",
    "def clean_prefix(text):\n",
    "    return re.sub(r'^(?:\\d+\\.\\s*|:\\s*)', '', text)\n",
    "\n",
    "\n",
    "# Process each entry\n",
    "for key, content in data.items():\n",
    "    original_text = content['original_text']\n",
    "    paraphrases = content['paraphrases']\n",
    "    \n",
    "    # Check and fix paraphrase count\n",
    "    if paraphrase_counts.get(key, 0) == 16:\n",
    "        # Remove the first line (non-paraphrase)\n",
    "        paraphrases = paraphrases[1:]\n",
    "    \n",
    "    # Write to individual files\n",
    "    for idx, para in enumerate(paraphrases, start=1):\n",
    "        cleaned_para = clean_prefix(para)\n",
    "        filename = f'paraphrases_tambahan_reasoning/{key}_{idx}.txt'\n",
    "        with open(filename, 'w', encoding='utf-8') as f:\n",
    "            f.write(cleaned_para.strip())"
   ]
  }
 ],
 "metadata": {
  "kernelspec": {
   "display_name": "Python 3",
   "language": "python",
   "name": "python3"
  },
  "language_info": {
   "codemirror_mode": {
    "name": "ipython",
    "version": 3
   },
   "file_extension": ".py",
   "mimetype": "text/x-python",
   "name": "python",
   "nbconvert_exporter": "python",
   "pygments_lexer": "ipython3",
   "version": "3.12.4"
  }
 },
 "nbformat": 4,
 "nbformat_minor": 5
}
