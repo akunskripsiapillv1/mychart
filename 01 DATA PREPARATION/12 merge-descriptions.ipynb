{
 "cells": [
  {
   "cell_type": "code",
   "execution_count": 1,
   "id": "62e0f921",
   "metadata": {},
   "outputs": [],
   "source": [
    "import pandas as pd\n",
    "import os\n",
    "\n",
    "def merge_descriptions(csv_path, reasoning_folder, output_csv_path, output_folder_combined):\n",
    "    # Baca file CSV utama\n",
    "    df = pd.read_csv(csv_path)\n",
    "\n",
    "    # Pastikan kolom 'id' dan 'description' ada\n",
    "    if 'id' not in df.columns or 'description' not in df.columns:\n",
    "        raise ValueError(\"CSV harus memiliki kolom 'id' dan 'description'.\")\n",
    "\n",
    "    # Buat folder output jika belum ada\n",
    "    os.makedirs(output_folder_combined, exist_ok=True)\n",
    "\n",
    "    # List untuk menyimpan deskripsi gabungan\n",
    "    combined_descriptions = []\n",
    "\n",
    "    for _, row in df.iterrows():\n",
    "        id_ = row['id']\n",
    "        desc_a = str(row['description']).strip()\n",
    "\n",
    "        # Path ke reasoning file (misalnya: reasoning_folder/123.txt)\n",
    "        reasoning_path = os.path.join(reasoning_folder, f\"{id_}.txt\")\n",
    "\n",
    "        if os.path.exists(reasoning_path):\n",
    "            with open(reasoning_path, 'r', encoding='utf-8') as f:\n",
    "                desc_b = f.read().strip()\n",
    "        else:\n",
    "            desc_b = \"\"\n",
    "\n",
    "        # Gabungkan description A dan B\n",
    "        combined = desc_a\n",
    "        if desc_b:\n",
    "            combined += \" \" + desc_b\n",
    "\n",
    "        # Simpan ke folder output sebagai file .txt\n",
    "        output_path = os.path.join(output_folder_combined, f\"{id_}.txt\")\n",
    "        with open(output_path, 'w', encoding='utf-8') as f:\n",
    "            f.write(combined)\n",
    "\n",
    "        # Tambahkan ke list\n",
    "        combined_descriptions.append(combined)\n",
    "\n",
    "    # Tambahkan kolom baru ke DataFrame\n",
    "    df['description_gabungan'] = combined_descriptions\n",
    "\n",
    "    # Simpan ke CSV output\n",
    "    df.to_csv(output_csv_path, index=False, encoding='utf-8')\n",
    "\n",
    "    print(f\"Sukses! File CSV gabungan disimpan di: {output_csv_path}\")\n",
    "    print(f\"Deskripsi gabungan disimpan di folder: {output_folder_combined}\")"
   ]
  },
  {
   "cell_type": "code",
   "execution_count": 3,
   "id": "bc04740b",
   "metadata": {},
   "outputs": [
    {
     "name": "stdout",
     "output_type": "stream",
     "text": [
      "Sukses! File CSV gabungan disimpan di: BPS Dataset Version 2/combined_descriptions.csv\n",
      "Deskripsi gabungan disimpan di folder: BPS Dataset Version 2/combined_descriptions\n"
     ]
    }
   ],
   "source": [
    "merge_descriptions(\n",
    "    csv_path='BPS Dataset Version 2/bps_descriptions.csv',\n",
    "    reasoning_folder='BPS Dataset Version 2/descriptions',\n",
    "    output_csv_path='BPS Dataset Version 2/combined_descriptions.csv',\n",
    "    output_folder_combined='BPS Dataset Version 2/combined_descriptions'\n",
    ")\n"
   ]
  }
 ],
 "metadata": {
  "kernelspec": {
   "display_name": "Python 3",
   "language": "python",
   "name": "python3"
  },
  "language_info": {
   "codemirror_mode": {
    "name": "ipython",
    "version": 3
   },
   "file_extension": ".py",
   "mimetype": "text/x-python",
   "name": "python",
   "nbconvert_exporter": "python",
   "pygments_lexer": "ipython3",
   "version": "3.12.4"
  }
 },
 "nbformat": 4,
 "nbformat_minor": 5
}
