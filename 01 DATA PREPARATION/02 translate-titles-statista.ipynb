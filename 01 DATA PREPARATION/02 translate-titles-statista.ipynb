{
 "cells": [
  {
   "cell_type": "code",
   "execution_count": 1,
   "id": "0783d925",
   "metadata": {
    "_cell_guid": "b1076dfc-b9ad-4769-8c92-a6c4dae69d19",
    "_uuid": "8f2839f25d086af736a60e9eeb907d3b93b6e0e5",
    "execution": {
     "iopub.execute_input": "2025-02-19T07:24:31.494959Z",
     "iopub.status.busy": "2025-02-19T07:24:31.494512Z",
     "iopub.status.idle": "2025-02-19T07:24:37.670156Z",
     "shell.execute_reply": "2025-02-19T07:24:37.668565Z"
    },
    "papermill": {
     "duration": 6.181401,
     "end_time": "2025-02-19T07:24:37.672302",
     "exception": false,
     "start_time": "2025-02-19T07:24:31.490901",
     "status": "completed"
    },
    "tags": []
   },
   "outputs": [
    {
     "name": "stdout",
     "output_type": "stream",
     "text": [
      "\u001b[2K   \u001b[90m━━━━━━━━━━━━━━━━━━━━━━━━━━━━━━━━━━━━━━━━\u001b[0m \u001b[32m42.3/42.3 kB\u001b[0m \u001b[31m1.8 MB/s\u001b[0m eta \u001b[36m0:00:00\u001b[0m\r\n",
      "\u001b[?25hNote: you may need to restart the kernel to use updated packages.\n"
     ]
    }
   ],
   "source": [
    "pip install -q deep-translator"
   ]
  },
  {
   "cell_type": "code",
   "execution_count": 2,
   "id": "d26bf77e",
   "metadata": {
    "execution": {
     "iopub.execute_input": "2025-02-19T07:24:37.678351Z",
     "iopub.status.busy": "2025-02-19T07:24:37.677940Z",
     "iopub.status.idle": "2025-02-19T14:49:40.502335Z",
     "shell.execute_reply": "2025-02-19T14:49:40.500432Z"
    },
    "papermill": {
     "duration": 26702.858819,
     "end_time": "2025-02-19T14:49:40.533627",
     "exception": false,
     "start_time": "2025-02-19T07:24:37.674808",
     "status": "completed"
    },
    "tags": []
   },
   "outputs": [
    {
     "name": "stdout",
     "output_type": "stream",
     "text": [
      "Total Batches: 250\n"
     ]
    },
    {
     "name": "stderr",
     "output_type": "stream",
     "text": [
      "Translating Batches:   0%|          | 1/250 [01:48<7:29:08, 108.23s/it]"
     ]
    },
    {
     "name": "stdout",
     "output_type": "stream",
     "text": [
      "Batch 1 selesai: 100 file diterjemahkan dalam 108.23 detik.\n"
     ]
    },
    {
     "name": "stderr",
     "output_type": "stream",
     "text": [
      "Translating Batches:   1%|          | 2/250 [03:39<7:33:35, 109.74s/it]"
     ]
    },
    {
     "name": "stdout",
     "output_type": "stream",
     "text": [
      "Batch 2 selesai: 100 file diterjemahkan dalam 110.79 detik.\n"
     ]
    },
    {
     "name": "stderr",
     "output_type": "stream",
     "text": [
      "Translating Batches:   1%|          | 3/250 [05:25<7:25:42, 108.27s/it]"
     ]
    },
    {
     "name": "stdout",
     "output_type": "stream",
     "text": [
      "Batch 3 selesai: 100 file diterjemahkan dalam 106.52 detik.\n"
     ]
    },
    {
     "name": "stderr",
     "output_type": "stream",
     "text": [
      "Translating Batches:   2%|▏         | 4/250 [07:10<7:18:27, 106.94s/it]"
     ]
    },
    {
     "name": "stdout",
     "output_type": "stream",
     "text": [
      "Batch 4 selesai: 100 file diterjemahkan dalam 104.90 detik.\n"
     ]
    },
    {
     "name": "stderr",
     "output_type": "stream",
     "text": [
      "Translating Batches:   2%|▏         | 5/250 [08:56<7:14:47, 106.48s/it]"
     ]
    },
    {
     "name": "stdout",
     "output_type": "stream",
     "text": [
      "Batch 5 selesai: 100 file diterjemahkan dalam 105.66 detik.\n"
     ]
    },
    {
     "name": "stderr",
     "output_type": "stream",
     "text": [
      "Translating Batches:   2%|▏         | 6/250 [10:45<7:17:05, 107.48s/it]"
     ]
    },
    {
     "name": "stdout",
     "output_type": "stream",
     "text": [
      "Batch 6 selesai: 100 file diterjemahkan dalam 109.43 detik.\n"
     ]
    },
    {
     "name": "stderr",
     "output_type": "stream",
     "text": [
      "Translating Batches:   3%|▎         | 7/250 [12:37<7:21:36, 109.04s/it]"
     ]
    },
    {
     "name": "stdout",
     "output_type": "stream",
     "text": [
      "Batch 7 selesai: 100 file diterjemahkan dalam 112.24 detik.\n"
     ]
    },
    {
     "name": "stderr",
     "output_type": "stream",
     "text": [
      "Translating Batches:   3%|▎         | 8/250 [14:26<7:18:49, 108.80s/it]"
     ]
    },
    {
     "name": "stdout",
     "output_type": "stream",
     "text": [
      "Batch 8 selesai: 100 file diterjemahkan dalam 108.28 detik.\n"
     ]
    },
    {
     "name": "stderr",
     "output_type": "stream",
     "text": [
      "Translating Batches:   4%|▎         | 9/250 [16:17<7:20:07, 109.57s/it]"
     ]
    },
    {
     "name": "stdout",
     "output_type": "stream",
     "text": [
      "Batch 9 selesai: 100 file diterjemahkan dalam 111.28 detik.\n"
     ]
    },
    {
     "name": "stderr",
     "output_type": "stream",
     "text": [
      "Translating Batches:   4%|▍         | 10/250 [18:06<7:17:51, 109.46s/it]"
     ]
    },
    {
     "name": "stdout",
     "output_type": "stream",
     "text": [
      "Batch 10 selesai: 100 file diterjemahkan dalam 109.21 detik.\n"
     ]
    },
    {
     "name": "stderr",
     "output_type": "stream",
     "text": [
      "Translating Batches:   4%|▍         | 11/250 [19:55<7:15:07, 109.24s/it]"
     ]
    },
    {
     "name": "stdout",
     "output_type": "stream",
     "text": [
      "Batch 11 selesai: 100 file diterjemahkan dalam 108.72 detik.\n"
     ]
    },
    {
     "name": "stderr",
     "output_type": "stream",
     "text": [
      "Translating Batches:   5%|▍         | 12/250 [21:40<7:07:56, 107.88s/it]"
     ]
    },
    {
     "name": "stdout",
     "output_type": "stream",
     "text": [
      "Batch 12 selesai: 100 file diterjemahkan dalam 104.79 detik.\n"
     ]
    },
    {
     "name": "stderr",
     "output_type": "stream",
     "text": [
      "Translating Batches:   5%|▌         | 13/250 [23:25<7:03:38, 107.25s/it]"
     ]
    },
    {
     "name": "stdout",
     "output_type": "stream",
     "text": [
      "Batch 13 selesai: 100 file diterjemahkan dalam 105.79 detik.\n"
     ]
    },
    {
     "name": "stderr",
     "output_type": "stream",
     "text": [
      "Translating Batches:   6%|▌         | 14/250 [25:15<7:04:18, 107.88s/it]"
     ]
    },
    {
     "name": "stdout",
     "output_type": "stream",
     "text": [
      "Batch 14 selesai: 100 file diterjemahkan dalam 109.32 detik.\n"
     ]
    },
    {
     "name": "stderr",
     "output_type": "stream",
     "text": [
      "Translating Batches:   6%|▌         | 15/250 [27:06<7:06:21, 108.86s/it]"
     ]
    },
    {
     "name": "stdout",
     "output_type": "stream",
     "text": [
      "Batch 15 selesai: 100 file diterjemahkan dalam 111.14 detik.\n"
     ]
    },
    {
     "name": "stderr",
     "output_type": "stream",
     "text": [
      "Translating Batches:   6%|▋         | 16/250 [28:51<7:00:11, 107.74s/it]"
     ]
    },
    {
     "name": "stdout",
     "output_type": "stream",
     "text": [
      "Batch 16 selesai: 100 file diterjemahkan dalam 105.15 detik.\n"
     ]
    },
    {
     "name": "stderr",
     "output_type": "stream",
     "text": [
      "Translating Batches:   7%|▋         | 17/250 [30:37<6:55:48, 107.08s/it]"
     ]
    },
    {
     "name": "stdout",
     "output_type": "stream",
     "text": [
      "Batch 17 selesai: 100 file diterjemahkan dalam 105.52 detik.\n"
     ]
    },
    {
     "name": "stderr",
     "output_type": "stream",
     "text": [
      "Translating Batches:   7%|▋         | 18/250 [32:24<6:54:55, 107.31s/it]"
     ]
    },
    {
     "name": "stdout",
     "output_type": "stream",
     "text": [
      "Batch 18 selesai: 100 file diterjemahkan dalam 107.85 detik.\n"
     ]
    },
    {
     "name": "stderr",
     "output_type": "stream",
     "text": [
      "Translating Batches:   8%|▊         | 19/250 [34:07<6:48:10, 106.02s/it]"
     ]
    },
    {
     "name": "stdout",
     "output_type": "stream",
     "text": [
      "Batch 19 selesai: 100 file diterjemahkan dalam 103.01 detik.\n"
     ]
    },
    {
     "name": "stderr",
     "output_type": "stream",
     "text": [
      "Translating Batches:   8%|▊         | 20/250 [35:58<6:51:12, 107.27s/it]"
     ]
    },
    {
     "name": "stdout",
     "output_type": "stream",
     "text": [
      "Batch 20 selesai: 100 file diterjemahkan dalam 110.19 detik.\n"
     ]
    },
    {
     "name": "stderr",
     "output_type": "stream",
     "text": [
      "Translating Batches:   8%|▊         | 21/250 [37:52<6:58:11, 109.57s/it]"
     ]
    },
    {
     "name": "stdout",
     "output_type": "stream",
     "text": [
      "Batch 21 selesai: 100 file diterjemahkan dalam 114.93 detik.\n"
     ]
    },
    {
     "name": "stderr",
     "output_type": "stream",
     "text": [
      "Translating Batches:   9%|▉         | 22/250 [39:42<6:56:08, 109.51s/it]"
     ]
    },
    {
     "name": "stdout",
     "output_type": "stream",
     "text": [
      "Batch 22 selesai: 100 file diterjemahkan dalam 109.37 detik.\n"
     ]
    },
    {
     "name": "stderr",
     "output_type": "stream",
     "text": [
      "Translating Batches:   9%|▉         | 23/250 [41:31<6:53:26, 109.28s/it]"
     ]
    },
    {
     "name": "stdout",
     "output_type": "stream",
     "text": [
      "Batch 23 selesai: 100 file diterjemahkan dalam 108.75 detik.\n"
     ]
    },
    {
     "name": "stderr",
     "output_type": "stream",
     "text": [
      "Translating Batches:  10%|▉         | 24/250 [43:15<6:46:14, 107.85s/it]"
     ]
    },
    {
     "name": "stdout",
     "output_type": "stream",
     "text": [
      "Batch 24 selesai: 100 file diterjemahkan dalam 104.51 detik.\n"
     ]
    },
    {
     "name": "stderr",
     "output_type": "stream",
     "text": [
      "Translating Batches:  10%|█         | 25/250 [45:03<6:44:16, 107.81s/it]"
     ]
    },
    {
     "name": "stdout",
     "output_type": "stream",
     "text": [
      "Batch 25 selesai: 100 file diterjemahkan dalam 107.70 detik.\n"
     ]
    },
    {
     "name": "stderr",
     "output_type": "stream",
     "text": [
      "Translating Batches:  10%|█         | 26/250 [46:51<6:42:28, 107.81s/it]"
     ]
    },
    {
     "name": "stdout",
     "output_type": "stream",
     "text": [
      "Batch 26 selesai: 100 file diterjemahkan dalam 107.80 detik.\n"
     ]
    },
    {
     "name": "stderr",
     "output_type": "stream",
     "text": [
      "Translating Batches:  11%|█         | 27/250 [48:37<6:38:38, 107.26s/it]"
     ]
    },
    {
     "name": "stdout",
     "output_type": "stream",
     "text": [
      "Batch 27 selesai: 100 file diterjemahkan dalam 105.98 detik.\n"
     ]
    },
    {
     "name": "stderr",
     "output_type": "stream",
     "text": [
      "Translating Batches:  11%|█         | 28/250 [50:29<6:42:33, 108.80s/it]"
     ]
    },
    {
     "name": "stdout",
     "output_type": "stream",
     "text": [
      "Batch 28 selesai: 100 file diterjemahkan dalam 112.39 detik.\n"
     ]
    },
    {
     "name": "stderr",
     "output_type": "stream",
     "text": [
      "Translating Batches:  12%|█▏        | 29/250 [52:16<6:39:06, 108.36s/it]"
     ]
    },
    {
     "name": "stdout",
     "output_type": "stream",
     "text": [
      "Batch 29 selesai: 100 file diterjemahkan dalam 107.32 detik.\n"
     ]
    },
    {
     "name": "stderr",
     "output_type": "stream",
     "text": [
      "Translating Batches:  12%|█▏        | 30/250 [54:04<6:36:53, 108.24s/it]"
     ]
    },
    {
     "name": "stdout",
     "output_type": "stream",
     "text": [
      "Batch 30 selesai: 100 file diterjemahkan dalam 107.98 detik.\n"
     ]
    },
    {
     "name": "stderr",
     "output_type": "stream",
     "text": [
      "Translating Batches:  12%|█▏        | 31/250 [55:47<6:29:19, 106.67s/it]"
     ]
    },
    {
     "name": "stdout",
     "output_type": "stream",
     "text": [
      "Batch 31 selesai: 100 file diterjemahkan dalam 102.98 detik.\n"
     ]
    },
    {
     "name": "stderr",
     "output_type": "stream",
     "text": [
      "Translating Batches:  13%|█▎        | 32/250 [57:37<6:30:26, 107.46s/it]"
     ]
    },
    {
     "name": "stdout",
     "output_type": "stream",
     "text": [
      "Batch 32 selesai: 100 file diterjemahkan dalam 109.32 detik.\n"
     ]
    },
    {
     "name": "stderr",
     "output_type": "stream",
     "text": [
      "Translating Batches:  13%|█▎        | 33/250 [59:28<6:32:22, 108.49s/it]"
     ]
    },
    {
     "name": "stdout",
     "output_type": "stream",
     "text": [
      "Batch 33 selesai: 100 file diterjemahkan dalam 110.89 detik.\n"
     ]
    },
    {
     "name": "stderr",
     "output_type": "stream",
     "text": [
      "Translating Batches:  14%|█▎        | 34/250 [1:01:13<6:27:20, 107.59s/it]"
     ]
    },
    {
     "name": "stdout",
     "output_type": "stream",
     "text": [
      "Batch 34 selesai: 100 file diterjemahkan dalam 105.50 detik.\n"
     ]
    },
    {
     "name": "stderr",
     "output_type": "stream",
     "text": [
      "Translating Batches:  14%|█▍        | 35/250 [1:03:03<6:28:18, 108.36s/it]"
     ]
    },
    {
     "name": "stdout",
     "output_type": "stream",
     "text": [
      "Batch 35 selesai: 100 file diterjemahkan dalam 110.16 detik.\n"
     ]
    },
    {
     "name": "stderr",
     "output_type": "stream",
     "text": [
      "Translating Batches:  14%|█▍        | 36/250 [1:04:53<6:28:00, 108.79s/it]"
     ]
    },
    {
     "name": "stdout",
     "output_type": "stream",
     "text": [
      "Batch 36 selesai: 100 file diterjemahkan dalam 109.77 detik.\n"
     ]
    },
    {
     "name": "stderr",
     "output_type": "stream",
     "text": [
      "Translating Batches:  15%|█▍        | 37/250 [1:06:34<6:17:54, 106.46s/it]"
     ]
    },
    {
     "name": "stdout",
     "output_type": "stream",
     "text": [
      "Batch 37 selesai: 100 file diterjemahkan dalam 101.01 detik.\n"
     ]
    },
    {
     "name": "stderr",
     "output_type": "stream",
     "text": [
      "Translating Batches:  15%|█▌        | 38/250 [1:08:20<6:15:49, 106.37s/it]"
     ]
    },
    {
     "name": "stdout",
     "output_type": "stream",
     "text": [
      "Batch 38 selesai: 100 file diterjemahkan dalam 106.16 detik.\n"
     ]
    },
    {
     "name": "stderr",
     "output_type": "stream",
     "text": [
      "Translating Batches:  16%|█▌        | 39/250 [1:10:00<6:06:53, 104.33s/it]"
     ]
    },
    {
     "name": "stdout",
     "output_type": "stream",
     "text": [
      "Batch 39 selesai: 100 file diterjemahkan dalam 99.58 detik.\n"
     ]
    },
    {
     "name": "stderr",
     "output_type": "stream",
     "text": [
      "Translating Batches:  16%|█▌        | 40/250 [1:11:45<6:06:40, 104.76s/it]"
     ]
    },
    {
     "name": "stdout",
     "output_type": "stream",
     "text": [
      "Batch 40 selesai: 100 file diterjemahkan dalam 105.78 detik.\n"
     ]
    },
    {
     "name": "stderr",
     "output_type": "stream",
     "text": [
      "Translating Batches:  16%|█▋        | 41/250 [1:13:33<6:07:29, 105.50s/it]"
     ]
    },
    {
     "name": "stdout",
     "output_type": "stream",
     "text": [
      "Batch 41 selesai: 100 file diterjemahkan dalam 107.21 detik.\n"
     ]
    },
    {
     "name": "stderr",
     "output_type": "stream",
     "text": [
      "Translating Batches:  17%|█▋        | 42/250 [1:15:25<6:12:33, 107.47s/it]"
     ]
    },
    {
     "name": "stdout",
     "output_type": "stream",
     "text": [
      "Batch 42 selesai: 100 file diterjemahkan dalam 112.05 detik.\n"
     ]
    },
    {
     "name": "stderr",
     "output_type": "stream",
     "text": [
      "Translating Batches:  17%|█▋        | 43/250 [1:17:08<6:06:16, 106.17s/it]"
     ]
    },
    {
     "name": "stdout",
     "output_type": "stream",
     "text": [
      "Batch 43 selesai: 100 file diterjemahkan dalam 103.13 detik.\n"
     ]
    },
    {
     "name": "stderr",
     "output_type": "stream",
     "text": [
      "Translating Batches:  18%|█▊        | 44/250 [1:18:59<6:09:12, 107.53s/it]"
     ]
    },
    {
     "name": "stdout",
     "output_type": "stream",
     "text": [
      "Batch 44 selesai: 100 file diterjemahkan dalam 110.72 detik.\n"
     ]
    },
    {
     "name": "stderr",
     "output_type": "stream",
     "text": [
      "Translating Batches:  18%|█▊        | 45/250 [1:20:49<6:10:21, 108.40s/it]"
     ]
    },
    {
     "name": "stdout",
     "output_type": "stream",
     "text": [
      "Batch 45 selesai: 100 file diterjemahkan dalam 110.41 detik.\n"
     ]
    },
    {
     "name": "stderr",
     "output_type": "stream",
     "text": [
      "Translating Batches:  18%|█▊        | 46/250 [1:22:37<6:07:41, 108.15s/it]"
     ]
    },
    {
     "name": "stdout",
     "output_type": "stream",
     "text": [
      "Batch 46 selesai: 100 file diterjemahkan dalam 107.56 detik.\n"
     ]
    },
    {
     "name": "stderr",
     "output_type": "stream",
     "text": [
      "Translating Batches:  19%|█▉        | 47/250 [1:24:23<6:04:29, 107.73s/it]"
     ]
    },
    {
     "name": "stdout",
     "output_type": "stream",
     "text": [
      "Batch 47 selesai: 100 file diterjemahkan dalam 106.76 detik.\n"
     ]
    },
    {
     "name": "stderr",
     "output_type": "stream",
     "text": [
      "Translating Batches:  19%|█▉        | 48/250 [1:26:07<5:58:29, 106.48s/it]"
     ]
    },
    {
     "name": "stdout",
     "output_type": "stream",
     "text": [
      "Batch 48 selesai: 100 file diterjemahkan dalam 103.57 detik.\n"
     ]
    },
    {
     "name": "stderr",
     "output_type": "stream",
     "text": [
      "Translating Batches:  20%|█▉        | 49/250 [1:27:57<6:00:48, 107.70s/it]"
     ]
    },
    {
     "name": "stdout",
     "output_type": "stream",
     "text": [
      "Batch 49 selesai: 100 file diterjemahkan dalam 110.54 detik.\n"
     ]
    },
    {
     "name": "stderr",
     "output_type": "stream",
     "text": [
      "Translating Batches:  20%|██        | 50/250 [1:29:48<6:01:33, 108.47s/it]"
     ]
    },
    {
     "name": "stdout",
     "output_type": "stream",
     "text": [
      "Batch 50 selesai: 100 file diterjemahkan dalam 110.24 detik.\n"
     ]
    },
    {
     "name": "stderr",
     "output_type": "stream",
     "text": [
      "Translating Batches:  20%|██        | 51/250 [1:31:37<6:00:49, 108.79s/it]"
     ]
    },
    {
     "name": "stdout",
     "output_type": "stream",
     "text": [
      "Batch 51 selesai: 100 file diterjemahkan dalam 109.55 detik.\n"
     ]
    },
    {
     "name": "stderr",
     "output_type": "stream",
     "text": [
      "Translating Batches:  21%|██        | 52/250 [1:33:28<6:01:09, 109.44s/it]"
     ]
    },
    {
     "name": "stdout",
     "output_type": "stream",
     "text": [
      "Batch 52 selesai: 100 file diterjemahkan dalam 110.97 detik.\n"
     ]
    },
    {
     "name": "stderr",
     "output_type": "stream",
     "text": [
      "Translating Batches:  21%|██        | 53/250 [1:35:19<6:00:31, 109.80s/it]"
     ]
    },
    {
     "name": "stdout",
     "output_type": "stream",
     "text": [
      "Batch 53 selesai: 100 file diterjemahkan dalam 110.64 detik.\n"
     ]
    },
    {
     "name": "stderr",
     "output_type": "stream",
     "text": [
      "Translating Batches:  22%|██▏       | 54/250 [1:37:04<5:54:36, 108.55s/it]"
     ]
    },
    {
     "name": "stdout",
     "output_type": "stream",
     "text": [
      "Batch 54 selesai: 100 file diterjemahkan dalam 105.63 detik.\n"
     ]
    },
    {
     "name": "stderr",
     "output_type": "stream",
     "text": [
      "Translating Batches:  22%|██▏       | 55/250 [1:38:55<5:54:16, 109.01s/it]"
     ]
    },
    {
     "name": "stdout",
     "output_type": "stream",
     "text": [
      "Batch 55 selesai: 100 file diterjemahkan dalam 110.07 detik.\n"
     ]
    },
    {
     "name": "stderr",
     "output_type": "stream",
     "text": [
      "Translating Batches:  22%|██▏       | 56/250 [1:40:48<5:57:11, 110.47s/it]"
     ]
    },
    {
     "name": "stdout",
     "output_type": "stream",
     "text": [
      "Batch 56 selesai: 100 file diterjemahkan dalam 113.89 detik.\n"
     ]
    },
    {
     "name": "stderr",
     "output_type": "stream",
     "text": [
      "Translating Batches:  23%|██▎       | 57/250 [1:42:35<5:51:31, 109.28s/it]"
     ]
    },
    {
     "name": "stdout",
     "output_type": "stream",
     "text": [
      "Batch 57 selesai: 100 file diterjemahkan dalam 106.49 detik.\n"
     ]
    },
    {
     "name": "stderr",
     "output_type": "stream",
     "text": [
      "Translating Batches:  23%|██▎       | 58/250 [1:44:26<5:51:28, 109.84s/it]"
     ]
    },
    {
     "name": "stdout",
     "output_type": "stream",
     "text": [
      "Batch 58 selesai: 100 file diterjemahkan dalam 111.14 detik.\n"
     ]
    },
    {
     "name": "stderr",
     "output_type": "stream",
     "text": [
      "Translating Batches:  24%|██▎       | 59/250 [1:46:14<5:47:39, 109.21s/it]"
     ]
    },
    {
     "name": "stdout",
     "output_type": "stream",
     "text": [
      "Batch 59 selesai: 100 file diterjemahkan dalam 107.75 detik.\n"
     ]
    },
    {
     "name": "stderr",
     "output_type": "stream",
     "text": [
      "Translating Batches:  24%|██▍       | 60/250 [1:48:00<5:43:17, 108.41s/it]"
     ]
    },
    {
     "name": "stdout",
     "output_type": "stream",
     "text": [
      "Batch 60 selesai: 100 file diterjemahkan dalam 106.54 detik.\n"
     ]
    },
    {
     "name": "stderr",
     "output_type": "stream",
     "text": [
      "Translating Batches:  24%|██▍       | 61/250 [1:49:41<5:34:26, 106.17s/it]"
     ]
    },
    {
     "name": "stdout",
     "output_type": "stream",
     "text": [
      "Batch 61 selesai: 100 file diterjemahkan dalam 100.95 detik.\n"
     ]
    },
    {
     "name": "stderr",
     "output_type": "stream",
     "text": [
      "Translating Batches:  25%|██▍       | 62/250 [1:51:28<5:33:05, 106.31s/it]"
     ]
    },
    {
     "name": "stdout",
     "output_type": "stream",
     "text": [
      "Batch 62 selesai: 100 file diterjemahkan dalam 106.62 detik.\n"
     ]
    },
    {
     "name": "stderr",
     "output_type": "stream",
     "text": [
      "Translating Batches:  25%|██▌       | 63/250 [1:53:15<5:31:37, 106.41s/it]"
     ]
    },
    {
     "name": "stdout",
     "output_type": "stream",
     "text": [
      "Batch 63 selesai: 100 file diterjemahkan dalam 106.64 detik.\n"
     ]
    },
    {
     "name": "stderr",
     "output_type": "stream",
     "text": [
      "Translating Batches:  26%|██▌       | 64/250 [1:55:06<5:34:15, 107.83s/it]"
     ]
    },
    {
     "name": "stdout",
     "output_type": "stream",
     "text": [
      "Batch 64 selesai: 100 file diterjemahkan dalam 111.14 detik.\n"
     ]
    },
    {
     "name": "stderr",
     "output_type": "stream",
     "text": [
      "Translating Batches:  26%|██▌       | 65/250 [1:56:57<5:35:57, 108.96s/it]"
     ]
    },
    {
     "name": "stdout",
     "output_type": "stream",
     "text": [
      "Batch 65 selesai: 100 file diterjemahkan dalam 111.60 detik.\n"
     ]
    },
    {
     "name": "stderr",
     "output_type": "stream",
     "text": [
      "Translating Batches:  26%|██▋       | 66/250 [1:58:48<5:35:43, 109.47s/it]"
     ]
    },
    {
     "name": "stdout",
     "output_type": "stream",
     "text": [
      "Batch 66 selesai: 100 file diterjemahkan dalam 110.67 detik.\n"
     ]
    },
    {
     "name": "stderr",
     "output_type": "stream",
     "text": [
      "Translating Batches:  27%|██▋       | 67/250 [2:00:39<5:35:26, 109.98s/it]"
     ]
    },
    {
     "name": "stdout",
     "output_type": "stream",
     "text": [
      "Batch 67 selesai: 100 file diterjemahkan dalam 111.17 detik.\n"
     ]
    },
    {
     "name": "stderr",
     "output_type": "stream",
     "text": [
      "Translating Batches:  27%|██▋       | 68/250 [2:02:22<5:27:26, 107.95s/it]"
     ]
    },
    {
     "name": "stdout",
     "output_type": "stream",
     "text": [
      "Batch 68 selesai: 100 file diterjemahkan dalam 103.21 detik.\n"
     ]
    },
    {
     "name": "stderr",
     "output_type": "stream",
     "text": [
      "Translating Batches:  28%|██▊       | 69/250 [2:04:13<5:27:48, 108.66s/it]"
     ]
    },
    {
     "name": "stdout",
     "output_type": "stream",
     "text": [
      "Batch 69 selesai: 100 file diterjemahkan dalam 110.33 detik.\n"
     ]
    },
    {
     "name": "stderr",
     "output_type": "stream",
     "text": [
      "Translating Batches:  28%|██▊       | 70/250 [2:06:02<5:26:46, 108.92s/it]"
     ]
    },
    {
     "name": "stdout",
     "output_type": "stream",
     "text": [
      "Batch 70 selesai: 100 file diterjemahkan dalam 109.53 detik.\n"
     ]
    },
    {
     "name": "stderr",
     "output_type": "stream",
     "text": [
      "Translating Batches:  28%|██▊       | 71/250 [2:07:45<5:19:50, 107.21s/it]"
     ]
    },
    {
     "name": "stdout",
     "output_type": "stream",
     "text": [
      "Batch 71 selesai: 100 file diterjemahkan dalam 103.21 detik.\n"
     ]
    },
    {
     "name": "stderr",
     "output_type": "stream",
     "text": [
      "Translating Batches:  29%|██▉       | 72/250 [2:09:28<5:14:01, 105.85s/it]"
     ]
    },
    {
     "name": "stdout",
     "output_type": "stream",
     "text": [
      "Batch 72 selesai: 100 file diterjemahkan dalam 102.67 detik.\n"
     ]
    },
    {
     "name": "stderr",
     "output_type": "stream",
     "text": [
      "Translating Batches:  29%|██▉       | 73/250 [2:11:18<5:15:33, 106.97s/it]"
     ]
    },
    {
     "name": "stdout",
     "output_type": "stream",
     "text": [
      "Batch 73 selesai: 100 file diterjemahkan dalam 109.57 detik.\n"
     ]
    },
    {
     "name": "stderr",
     "output_type": "stream",
     "text": [
      "Translating Batches:  30%|██▉       | 74/250 [2:13:04<5:13:33, 106.90s/it]"
     ]
    },
    {
     "name": "stdout",
     "output_type": "stream",
     "text": [
      "Batch 74 selesai: 100 file diterjemahkan dalam 106.74 detik.\n"
     ]
    },
    {
     "name": "stderr",
     "output_type": "stream",
     "text": [
      "Translating Batches:  30%|███       | 75/250 [2:14:46<5:07:12, 105.33s/it]"
     ]
    },
    {
     "name": "stdout",
     "output_type": "stream",
     "text": [
      "Batch 75 selesai: 100 file diterjemahkan dalam 101.66 detik.\n"
     ]
    },
    {
     "name": "stderr",
     "output_type": "stream",
     "text": [
      "Translating Batches:  30%|███       | 76/250 [2:16:34<5:07:52, 106.16s/it]"
     ]
    },
    {
     "name": "stdout",
     "output_type": "stream",
     "text": [
      "Batch 76 selesai: 100 file diterjemahkan dalam 108.11 detik.\n"
     ]
    },
    {
     "name": "stderr",
     "output_type": "stream",
     "text": [
      "Translating Batches:  31%|███       | 77/250 [2:18:21<5:06:50, 106.42s/it]"
     ]
    },
    {
     "name": "stdout",
     "output_type": "stream",
     "text": [
      "Batch 77 selesai: 100 file diterjemahkan dalam 107.01 detik.\n"
     ]
    },
    {
     "name": "stderr",
     "output_type": "stream",
     "text": [
      "Translating Batches:  31%|███       | 78/250 [2:20:10<5:06:47, 107.02s/it]"
     ]
    },
    {
     "name": "stdout",
     "output_type": "stream",
     "text": [
      "Batch 78 selesai: 100 file diterjemahkan dalam 108.42 detik.\n"
     ]
    },
    {
     "name": "stderr",
     "output_type": "stream",
     "text": [
      "Translating Batches:  32%|███▏      | 79/250 [2:22:00<5:08:06, 108.11s/it]"
     ]
    },
    {
     "name": "stdout",
     "output_type": "stream",
     "text": [
      "Batch 79 selesai: 100 file diterjemahkan dalam 110.64 detik.\n"
     ]
    },
    {
     "name": "stderr",
     "output_type": "stream",
     "text": [
      "Translating Batches:  32%|███▏      | 80/250 [2:23:44<5:02:55, 106.92s/it]"
     ]
    },
    {
     "name": "stdout",
     "output_type": "stream",
     "text": [
      "Batch 80 selesai: 100 file diterjemahkan dalam 104.14 detik.\n"
     ]
    },
    {
     "name": "stderr",
     "output_type": "stream",
     "text": [
      "Translating Batches:  32%|███▏      | 81/250 [2:25:33<5:02:25, 107.37s/it]"
     ]
    },
    {
     "name": "stdout",
     "output_type": "stream",
     "text": [
      "Batch 81 selesai: 100 file diterjemahkan dalam 108.42 detik.\n"
     ]
    },
    {
     "name": "stderr",
     "output_type": "stream",
     "text": [
      "Translating Batches:  33%|███▎      | 82/250 [2:27:18<4:58:45, 106.70s/it]"
     ]
    },
    {
     "name": "stdout",
     "output_type": "stream",
     "text": [
      "Batch 82 selesai: 100 file diterjemahkan dalam 105.14 detik.\n"
     ]
    },
    {
     "name": "stderr",
     "output_type": "stream",
     "text": [
      "Translating Batches:  33%|███▎      | 83/250 [2:29:07<4:58:53, 107.39s/it]"
     ]
    },
    {
     "name": "stdout",
     "output_type": "stream",
     "text": [
      "Batch 83 selesai: 100 file diterjemahkan dalam 108.99 detik.\n"
     ]
    },
    {
     "name": "stderr",
     "output_type": "stream",
     "text": [
      "Translating Batches:  34%|███▎      | 84/250 [2:30:51<4:54:25, 106.42s/it]"
     ]
    },
    {
     "name": "stdout",
     "output_type": "stream",
     "text": [
      "Batch 84 selesai: 100 file diterjemahkan dalam 104.16 detik.\n"
     ]
    },
    {
     "name": "stderr",
     "output_type": "stream",
     "text": [
      "Translating Batches:  34%|███▍      | 85/250 [2:32:37<4:52:01, 106.19s/it]"
     ]
    },
    {
     "name": "stdout",
     "output_type": "stream",
     "text": [
      "Batch 85 selesai: 100 file diterjemahkan dalam 105.65 detik.\n"
     ]
    },
    {
     "name": "stderr",
     "output_type": "stream",
     "text": [
      "Translating Batches:  34%|███▍      | 86/250 [2:34:24<4:50:45, 106.37s/it]"
     ]
    },
    {
     "name": "stdout",
     "output_type": "stream",
     "text": [
      "Batch 86 selesai: 100 file diterjemahkan dalam 106.81 detik.\n"
     ]
    },
    {
     "name": "stderr",
     "output_type": "stream",
     "text": [
      "Translating Batches:  35%|███▍      | 87/250 [2:36:10<4:48:41, 106.27s/it]"
     ]
    },
    {
     "name": "stdout",
     "output_type": "stream",
     "text": [
      "Batch 87 selesai: 100 file diterjemahkan dalam 106.01 detik.\n"
     ]
    },
    {
     "name": "stderr",
     "output_type": "stream",
     "text": [
      "Translating Batches:  35%|███▌      | 88/250 [2:37:58<4:48:22, 106.80s/it]"
     ]
    },
    {
     "name": "stdout",
     "output_type": "stream",
     "text": [
      "Batch 88 selesai: 100 file diterjemahkan dalam 108.06 detik.\n"
     ]
    },
    {
     "name": "stderr",
     "output_type": "stream",
     "text": [
      "Translating Batches:  36%|███▌      | 89/250 [2:39:43<4:44:59, 106.21s/it]"
     ]
    },
    {
     "name": "stdout",
     "output_type": "stream",
     "text": [
      "Batch 89 selesai: 100 file diterjemahkan dalam 104.81 detik.\n"
     ]
    },
    {
     "name": "stderr",
     "output_type": "stream",
     "text": [
      "Translating Batches:  36%|███▌      | 90/250 [2:41:31<4:45:19, 107.00s/it]"
     ]
    },
    {
     "name": "stdout",
     "output_type": "stream",
     "text": [
      "Batch 90 selesai: 100 file diterjemahkan dalam 108.85 detik.\n"
     ]
    },
    {
     "name": "stderr",
     "output_type": "stream",
     "text": [
      "Translating Batches:  36%|███▋      | 91/250 [2:43:24<4:48:10, 108.74s/it]"
     ]
    },
    {
     "name": "stdout",
     "output_type": "stream",
     "text": [
      "Batch 91 selesai: 100 file diterjemahkan dalam 112.81 detik.\n"
     ]
    },
    {
     "name": "stderr",
     "output_type": "stream",
     "text": [
      "Translating Batches:  37%|███▋      | 92/250 [2:45:13<4:46:05, 108.64s/it]"
     ]
    },
    {
     "name": "stdout",
     "output_type": "stream",
     "text": [
      "Batch 92 selesai: 100 file diterjemahkan dalam 108.42 detik.\n"
     ]
    },
    {
     "name": "stderr",
     "output_type": "stream",
     "text": [
      "Translating Batches:  37%|███▋      | 93/250 [2:47:01<4:44:20, 108.67s/it]"
     ]
    },
    {
     "name": "stdout",
     "output_type": "stream",
     "text": [
      "Batch 93 selesai: 100 file diterjemahkan dalam 108.72 detik.\n"
     ]
    },
    {
     "name": "stderr",
     "output_type": "stream",
     "text": [
      "Translating Batches:  38%|███▊      | 94/250 [2:48:53<4:44:49, 109.55s/it]"
     ]
    },
    {
     "name": "stdout",
     "output_type": "stream",
     "text": [
      "Batch 94 selesai: 100 file diterjemahkan dalam 111.59 detik.\n"
     ]
    },
    {
     "name": "stderr",
     "output_type": "stream",
     "text": [
      "Translating Batches:  38%|███▊      | 95/250 [2:50:48<4:46:55, 111.06s/it]"
     ]
    },
    {
     "name": "stdout",
     "output_type": "stream",
     "text": [
      "Batch 95 selesai: 100 file diterjemahkan dalam 114.60 detik.\n"
     ]
    },
    {
     "name": "stderr",
     "output_type": "stream",
     "text": [
      "Translating Batches:  38%|███▊      | 96/250 [2:52:32<4:39:47, 109.01s/it]"
     ]
    },
    {
     "name": "stdout",
     "output_type": "stream",
     "text": [
      "Batch 96 selesai: 100 file diterjemahkan dalam 104.21 detik.\n"
     ]
    },
    {
     "name": "stderr",
     "output_type": "stream",
     "text": [
      "Translating Batches:  39%|███▉      | 97/250 [2:54:16<4:34:33, 107.67s/it]"
     ]
    },
    {
     "name": "stdout",
     "output_type": "stream",
     "text": [
      "Batch 97 selesai: 100 file diterjemahkan dalam 104.54 detik.\n"
     ]
    },
    {
     "name": "stderr",
     "output_type": "stream",
     "text": [
      "Translating Batches:  39%|███▉      | 98/250 [2:56:06<4:34:03, 108.18s/it]"
     ]
    },
    {
     "name": "stdout",
     "output_type": "stream",
     "text": [
      "Batch 98 selesai: 100 file diterjemahkan dalam 109.37 detik.\n"
     ]
    },
    {
     "name": "stderr",
     "output_type": "stream",
     "text": [
      "Translating Batches:  40%|███▉      | 99/250 [2:57:56<4:34:11, 108.95s/it]"
     ]
    },
    {
     "name": "stdout",
     "output_type": "stream",
     "text": [
      "Batch 99 selesai: 100 file diterjemahkan dalam 110.74 detik.\n"
     ]
    },
    {
     "name": "stderr",
     "output_type": "stream",
     "text": [
      "Translating Batches:  40%|████      | 100/250 [2:59:44<4:31:11, 108.48s/it]"
     ]
    },
    {
     "name": "stdout",
     "output_type": "stream",
     "text": [
      "Batch 100 selesai: 100 file diterjemahkan dalam 107.37 detik.\n"
     ]
    },
    {
     "name": "stderr",
     "output_type": "stream",
     "text": [
      "Translating Batches:  40%|████      | 101/250 [3:01:31<4:28:28, 108.11s/it]"
     ]
    },
    {
     "name": "stdout",
     "output_type": "stream",
     "text": [
      "Batch 101 selesai: 100 file diterjemahkan dalam 107.26 detik.\n"
     ]
    },
    {
     "name": "stderr",
     "output_type": "stream",
     "text": [
      "Translating Batches:  41%|████      | 102/250 [3:03:21<4:27:52, 108.60s/it]"
     ]
    },
    {
     "name": "stdout",
     "output_type": "stream",
     "text": [
      "Batch 102 selesai: 100 file diterjemahkan dalam 109.74 detik.\n"
     ]
    },
    {
     "name": "stderr",
     "output_type": "stream",
     "text": [
      "Translating Batches:  41%|████      | 103/250 [3:05:03<4:21:06, 106.57s/it]"
     ]
    },
    {
     "name": "stdout",
     "output_type": "stream",
     "text": [
      "Batch 103 selesai: 100 file diterjemahkan dalam 101.84 detik.\n"
     ]
    },
    {
     "name": "stderr",
     "output_type": "stream",
     "text": [
      "Translating Batches:  42%|████▏     | 104/250 [3:06:48<4:18:20, 106.17s/it]"
     ]
    },
    {
     "name": "stdout",
     "output_type": "stream",
     "text": [
      "Batch 104 selesai: 100 file diterjemahkan dalam 105.21 detik.\n"
     ]
    },
    {
     "name": "stderr",
     "output_type": "stream",
     "text": [
      "Translating Batches:  42%|████▏     | 105/250 [3:08:37<4:18:39, 107.03s/it]"
     ]
    },
    {
     "name": "stdout",
     "output_type": "stream",
     "text": [
      "Batch 105 selesai: 100 file diterjemahkan dalam 109.04 detik.\n"
     ]
    },
    {
     "name": "stderr",
     "output_type": "stream",
     "text": [
      "Translating Batches:  42%|████▏     | 106/250 [3:10:27<4:19:11, 108.00s/it]"
     ]
    },
    {
     "name": "stdout",
     "output_type": "stream",
     "text": [
      "Batch 106 selesai: 100 file diterjemahkan dalam 110.26 detik.\n"
     ]
    },
    {
     "name": "stderr",
     "output_type": "stream",
     "text": [
      "Translating Batches:  43%|████▎     | 107/250 [3:12:13<4:15:43, 107.30s/it]"
     ]
    },
    {
     "name": "stdout",
     "output_type": "stream",
     "text": [
      "Batch 107 selesai: 100 file diterjemahkan dalam 105.67 detik.\n"
     ]
    },
    {
     "name": "stderr",
     "output_type": "stream",
     "text": [
      "Translating Batches:  43%|████▎     | 108/250 [3:14:03<4:16:04, 108.20s/it]"
     ]
    },
    {
     "name": "stdout",
     "output_type": "stream",
     "text": [
      "Batch 108 selesai: 100 file diterjemahkan dalam 110.30 detik.\n"
     ]
    },
    {
     "name": "stderr",
     "output_type": "stream",
     "text": [
      "Translating Batches:  44%|████▎     | 109/250 [3:15:52<4:14:41, 108.38s/it]"
     ]
    },
    {
     "name": "stdout",
     "output_type": "stream",
     "text": [
      "Batch 109 selesai: 100 file diterjemahkan dalam 108.81 detik.\n"
     ]
    },
    {
     "name": "stderr",
     "output_type": "stream",
     "text": [
      "Translating Batches:  44%|████▍     | 110/250 [3:17:37<4:10:47, 107.48s/it]"
     ]
    },
    {
     "name": "stdout",
     "output_type": "stream",
     "text": [
      "Batch 110 selesai: 100 file diterjemahkan dalam 105.39 detik.\n"
     ]
    },
    {
     "name": "stderr",
     "output_type": "stream",
     "text": [
      "Translating Batches:  44%|████▍     | 111/250 [3:19:29<4:11:57, 108.76s/it]"
     ]
    },
    {
     "name": "stdout",
     "output_type": "stream",
     "text": [
      "Batch 111 selesai: 100 file diterjemahkan dalam 111.74 detik.\n"
     ]
    },
    {
     "name": "stderr",
     "output_type": "stream",
     "text": [
      "Translating Batches:  45%|████▍     | 112/250 [3:21:20<4:11:22, 109.29s/it]"
     ]
    },
    {
     "name": "stdout",
     "output_type": "stream",
     "text": [
      "Batch 112 selesai: 100 file diterjemahkan dalam 110.52 detik.\n"
     ]
    },
    {
     "name": "stderr",
     "output_type": "stream",
     "text": [
      "Translating Batches:  45%|████▌     | 113/250 [3:23:11<4:10:59, 109.92s/it]"
     ]
    },
    {
     "name": "stdout",
     "output_type": "stream",
     "text": [
      "Batch 113 selesai: 100 file diterjemahkan dalam 111.39 detik.\n"
     ]
    },
    {
     "name": "stderr",
     "output_type": "stream",
     "text": [
      "Translating Batches:  46%|████▌     | 114/250 [3:24:55<4:04:51, 108.02s/it]"
     ]
    },
    {
     "name": "stdout",
     "output_type": "stream",
     "text": [
      "Batch 114 selesai: 100 file diterjemahkan dalam 103.60 detik.\n"
     ]
    },
    {
     "name": "stderr",
     "output_type": "stream",
     "text": [
      "Translating Batches:  46%|████▌     | 115/250 [3:26:39<4:00:42, 106.98s/it]"
     ]
    },
    {
     "name": "stdout",
     "output_type": "stream",
     "text": [
      "Batch 115 selesai: 100 file diterjemahkan dalam 104.56 detik.\n"
     ]
    },
    {
     "name": "stderr",
     "output_type": "stream",
     "text": [
      "Translating Batches:  46%|████▋     | 116/250 [3:28:26<3:59:09, 107.08s/it]"
     ]
    },
    {
     "name": "stdout",
     "output_type": "stream",
     "text": [
      "Batch 116 selesai: 100 file diterjemahkan dalam 107.32 detik.\n"
     ]
    },
    {
     "name": "stderr",
     "output_type": "stream",
     "text": [
      "Translating Batches:  47%|████▋     | 117/250 [3:30:16<3:59:00, 107.82s/it]"
     ]
    },
    {
     "name": "stdout",
     "output_type": "stream",
     "text": [
      "Batch 117 selesai: 100 file diterjemahkan dalam 109.55 detik.\n"
     ]
    },
    {
     "name": "stderr",
     "output_type": "stream",
     "text": [
      "Translating Batches:  47%|████▋     | 118/250 [3:32:04<3:57:10, 107.81s/it]"
     ]
    },
    {
     "name": "stdout",
     "output_type": "stream",
     "text": [
      "Batch 118 selesai: 100 file diterjemahkan dalam 107.77 detik.\n"
     ]
    },
    {
     "name": "stderr",
     "output_type": "stream",
     "text": [
      "Translating Batches:  48%|████▊     | 119/250 [3:33:48<3:53:18, 106.86s/it]"
     ]
    },
    {
     "name": "stdout",
     "output_type": "stream",
     "text": [
      "Batch 119 selesai: 100 file diterjemahkan dalam 104.64 detik.\n"
     ]
    },
    {
     "name": "stderr",
     "output_type": "stream",
     "text": [
      "Translating Batches:  48%|████▊     | 120/250 [3:35:35<3:51:37, 106.91s/it]"
     ]
    },
    {
     "name": "stdout",
     "output_type": "stream",
     "text": [
      "Batch 120 selesai: 100 file diterjemahkan dalam 107.02 detik.\n"
     ]
    },
    {
     "name": "stderr",
     "output_type": "stream",
     "text": [
      "Translating Batches:  48%|████▊     | 121/250 [3:37:24<3:50:54, 107.40s/it]"
     ]
    },
    {
     "name": "stdout",
     "output_type": "stream",
     "text": [
      "Batch 121 selesai: 100 file diterjemahkan dalam 108.54 detik.\n"
     ]
    },
    {
     "name": "stderr",
     "output_type": "stream",
     "text": [
      "Translating Batches:  49%|████▉     | 122/250 [3:39:14<3:50:57, 108.26s/it]"
     ]
    },
    {
     "name": "stdout",
     "output_type": "stream",
     "text": [
      "Batch 122 selesai: 100 file diterjemahkan dalam 110.27 detik.\n"
     ]
    },
    {
     "name": "stderr",
     "output_type": "stream",
     "text": [
      "Translating Batches:  49%|████▉     | 123/250 [3:41:05<3:51:01, 109.15s/it]"
     ]
    },
    {
     "name": "stdout",
     "output_type": "stream",
     "text": [
      "Batch 123 selesai: 100 file diterjemahkan dalam 111.22 detik.\n"
     ]
    },
    {
     "name": "stderr",
     "output_type": "stream",
     "text": [
      "Translating Batches:  50%|████▉     | 124/250 [3:42:48<3:44:54, 107.10s/it]"
     ]
    },
    {
     "name": "stdout",
     "output_type": "stream",
     "text": [
      "Batch 124 selesai: 100 file diterjemahkan dalam 102.32 detik.\n"
     ]
    },
    {
     "name": "stderr",
     "output_type": "stream",
     "text": [
      "Translating Batches:  50%|█████     | 125/250 [3:44:30<3:40:18, 105.74s/it]"
     ]
    },
    {
     "name": "stdout",
     "output_type": "stream",
     "text": [
      "Batch 125 selesai: 100 file diterjemahkan dalam 102.58 detik.\n"
     ]
    },
    {
     "name": "stderr",
     "output_type": "stream",
     "text": [
      "Translating Batches:  50%|█████     | 126/250 [3:46:17<3:39:09, 106.04s/it]"
     ]
    },
    {
     "name": "stdout",
     "output_type": "stream",
     "text": [
      "Batch 126 selesai: 100 file diterjemahkan dalam 106.74 detik.\n"
     ]
    },
    {
     "name": "stderr",
     "output_type": "stream",
     "text": [
      "Translating Batches:  51%|█████     | 127/250 [3:48:00<3:35:37, 105.18s/it]"
     ]
    },
    {
     "name": "stdout",
     "output_type": "stream",
     "text": [
      "Batch 127 selesai: 100 file diterjemahkan dalam 103.16 detik.\n"
     ]
    },
    {
     "name": "stderr",
     "output_type": "stream",
     "text": [
      "Translating Batches:  51%|█████     | 128/250 [3:49:48<3:35:23, 105.93s/it]"
     ]
    },
    {
     "name": "stdout",
     "output_type": "stream",
     "text": [
      "Batch 128 selesai: 100 file diterjemahkan dalam 107.68 detik.\n"
     ]
    },
    {
     "name": "stderr",
     "output_type": "stream",
     "text": [
      "Translating Batches:  52%|█████▏    | 129/250 [3:51:34<3:33:25, 105.83s/it]"
     ]
    },
    {
     "name": "stdout",
     "output_type": "stream",
     "text": [
      "Batch 129 selesai: 100 file diterjemahkan dalam 105.61 detik.\n"
     ]
    },
    {
     "name": "stderr",
     "output_type": "stream",
     "text": [
      "Translating Batches:  52%|█████▏    | 130/250 [3:53:20<3:32:21, 106.18s/it]"
     ]
    },
    {
     "name": "stdout",
     "output_type": "stream",
     "text": [
      "Batch 130 selesai: 100 file diterjemahkan dalam 106.97 detik.\n"
     ]
    },
    {
     "name": "stderr",
     "output_type": "stream",
     "text": [
      "Translating Batches:  52%|█████▏    | 131/250 [3:55:08<3:31:29, 106.63s/it]"
     ]
    },
    {
     "name": "stdout",
     "output_type": "stream",
     "text": [
      "Batch 131 selesai: 100 file diterjemahkan dalam 107.69 detik.\n"
     ]
    },
    {
     "name": "stderr",
     "output_type": "stream",
     "text": [
      "Translating Batches:  53%|█████▎    | 132/250 [3:56:59<3:31:59, 107.79s/it]"
     ]
    },
    {
     "name": "stdout",
     "output_type": "stream",
     "text": [
      "Batch 132 selesai: 100 file diterjemahkan dalam 110.49 detik.\n"
     ]
    },
    {
     "name": "stderr",
     "output_type": "stream",
     "text": [
      "Translating Batches:  53%|█████▎    | 133/250 [3:58:43<3:28:19, 106.83s/it]"
     ]
    },
    {
     "name": "stdout",
     "output_type": "stream",
     "text": [
      "Batch 133 selesai: 100 file diterjemahkan dalam 104.60 detik.\n"
     ]
    },
    {
     "name": "stderr",
     "output_type": "stream",
     "text": [
      "Translating Batches:  54%|█████▎    | 134/250 [4:00:29<3:26:01, 106.56s/it]"
     ]
    },
    {
     "name": "stdout",
     "output_type": "stream",
     "text": [
      "Batch 134 selesai: 100 file diterjemahkan dalam 105.93 detik.\n"
     ]
    },
    {
     "name": "stderr",
     "output_type": "stream",
     "text": [
      "Translating Batches:  54%|█████▍    | 135/250 [4:02:18<3:25:36, 107.28s/it]"
     ]
    },
    {
     "name": "stdout",
     "output_type": "stream",
     "text": [
      "Batch 135 selesai: 100 file diterjemahkan dalam 108.93 detik.\n"
     ]
    },
    {
     "name": "stderr",
     "output_type": "stream",
     "text": [
      "Translating Batches:  54%|█████▍    | 136/250 [4:04:00<3:20:58, 105.78s/it]"
     ]
    },
    {
     "name": "stdout",
     "output_type": "stream",
     "text": [
      "Batch 136 selesai: 100 file diterjemahkan dalam 102.28 detik.\n"
     ]
    },
    {
     "name": "stderr",
     "output_type": "stream",
     "text": [
      "Translating Batches:  55%|█████▍    | 137/250 [4:05:44<3:18:13, 105.25s/it]"
     ]
    },
    {
     "name": "stdout",
     "output_type": "stream",
     "text": [
      "Batch 137 selesai: 100 file diterjemahkan dalam 104.03 detik.\n"
     ]
    },
    {
     "name": "stderr",
     "output_type": "stream",
     "text": [
      "Translating Batches:  55%|█████▌    | 138/250 [4:07:31<3:17:03, 105.56s/it]"
     ]
    },
    {
     "name": "stdout",
     "output_type": "stream",
     "text": [
      "Batch 138 selesai: 100 file diterjemahkan dalam 106.29 detik.\n"
     ]
    },
    {
     "name": "stderr",
     "output_type": "stream",
     "text": [
      "Translating Batches:  56%|█████▌    | 139/250 [4:09:20<3:17:28, 106.74s/it]"
     ]
    },
    {
     "name": "stdout",
     "output_type": "stream",
     "text": [
      "Batch 139 selesai: 100 file diterjemahkan dalam 109.48 detik.\n"
     ]
    },
    {
     "name": "stderr",
     "output_type": "stream",
     "text": [
      "Translating Batches:  56%|█████▌    | 140/250 [4:11:04<3:13:48, 105.71s/it]"
     ]
    },
    {
     "name": "stdout",
     "output_type": "stream",
     "text": [
      "Batch 140 selesai: 100 file diterjemahkan dalam 103.30 detik.\n"
     ]
    },
    {
     "name": "stderr",
     "output_type": "stream",
     "text": [
      "Translating Batches:  56%|█████▋    | 141/250 [4:12:51<3:13:00, 106.25s/it]"
     ]
    },
    {
     "name": "stdout",
     "output_type": "stream",
     "text": [
      "Batch 141 selesai: 100 file diterjemahkan dalam 107.49 detik.\n"
     ]
    },
    {
     "name": "stderr",
     "output_type": "stream",
     "text": [
      "Translating Batches:  57%|█████▋    | 142/250 [4:14:33<3:08:41, 104.83s/it]"
     ]
    },
    {
     "name": "stdout",
     "output_type": "stream",
     "text": [
      "Batch 142 selesai: 100 file diterjemahkan dalam 101.51 detik.\n"
     ]
    },
    {
     "name": "stderr",
     "output_type": "stream",
     "text": [
      "Translating Batches:  57%|█████▋    | 143/250 [4:16:22<3:09:21, 106.19s/it]"
     ]
    },
    {
     "name": "stdout",
     "output_type": "stream",
     "text": [
      "Batch 143 selesai: 100 file diterjemahkan dalam 109.36 detik.\n"
     ]
    },
    {
     "name": "stderr",
     "output_type": "stream",
     "text": [
      "Translating Batches:  58%|█████▊    | 144/250 [4:18:07<3:07:06, 105.91s/it]"
     ]
    },
    {
     "name": "stdout",
     "output_type": "stream",
     "text": [
      "Batch 144 selesai: 100 file diterjemahkan dalam 105.26 detik.\n"
     ]
    },
    {
     "name": "stderr",
     "output_type": "stream",
     "text": [
      "Translating Batches:  58%|█████▊    | 145/250 [4:19:54<3:05:39, 106.09s/it]"
     ]
    },
    {
     "name": "stdout",
     "output_type": "stream",
     "text": [
      "Batch 145 selesai: 100 file diterjemahkan dalam 106.50 detik.\n"
     ]
    },
    {
     "name": "stderr",
     "output_type": "stream",
     "text": [
      "Translating Batches:  58%|█████▊    | 146/250 [4:21:44<3:06:04, 107.35s/it]"
     ]
    },
    {
     "name": "stdout",
     "output_type": "stream",
     "text": [
      "Batch 146 selesai: 100 file diterjemahkan dalam 110.30 detik.\n"
     ]
    },
    {
     "name": "stderr",
     "output_type": "stream",
     "text": [
      "Translating Batches:  59%|█████▉    | 147/250 [4:23:34<3:05:35, 108.11s/it]"
     ]
    },
    {
     "name": "stdout",
     "output_type": "stream",
     "text": [
      "Batch 147 selesai: 100 file diterjemahkan dalam 109.88 detik.\n"
     ]
    },
    {
     "name": "stderr",
     "output_type": "stream",
     "text": [
      "Translating Batches:  59%|█████▉    | 148/250 [4:25:20<3:03:02, 107.67s/it]"
     ]
    },
    {
     "name": "stdout",
     "output_type": "stream",
     "text": [
      "Batch 148 selesai: 100 file diterjemahkan dalam 106.64 detik.\n"
     ]
    },
    {
     "name": "stderr",
     "output_type": "stream",
     "text": [
      "Translating Batches:  60%|█████▉    | 149/250 [4:27:06<3:00:22, 107.15s/it]"
     ]
    },
    {
     "name": "stdout",
     "output_type": "stream",
     "text": [
      "Batch 149 selesai: 100 file diterjemahkan dalam 105.95 detik.\n"
     ]
    },
    {
     "name": "stderr",
     "output_type": "stream",
     "text": [
      "Translating Batches:  60%|██████    | 150/250 [4:28:53<2:58:11, 106.91s/it]"
     ]
    },
    {
     "name": "stdout",
     "output_type": "stream",
     "text": [
      "Batch 150 selesai: 100 file diterjemahkan dalam 106.34 detik.\n"
     ]
    },
    {
     "name": "stderr",
     "output_type": "stream",
     "text": [
      "Translating Batches:  60%|██████    | 151/250 [4:30:39<2:56:15, 106.82s/it]"
     ]
    },
    {
     "name": "stdout",
     "output_type": "stream",
     "text": [
      "Batch 151 selesai: 100 file diterjemahkan dalam 106.61 detik.\n"
     ]
    },
    {
     "name": "stderr",
     "output_type": "stream",
     "text": [
      "Translating Batches:  61%|██████    | 152/250 [4:32:26<2:54:26, 106.80s/it]"
     ]
    },
    {
     "name": "stdout",
     "output_type": "stream",
     "text": [
      "Batch 152 selesai: 100 file diterjemahkan dalam 106.76 detik.\n"
     ]
    },
    {
     "name": "stderr",
     "output_type": "stream",
     "text": [
      "Translating Batches:  61%|██████    | 153/250 [4:34:14<2:53:22, 107.24s/it]"
     ]
    },
    {
     "name": "stdout",
     "output_type": "stream",
     "text": [
      "Batch 153 selesai: 100 file diterjemahkan dalam 108.27 detik.\n"
     ]
    },
    {
     "name": "stderr",
     "output_type": "stream",
     "text": [
      "Translating Batches:  62%|██████▏   | 154/250 [4:35:59<2:50:28, 106.55s/it]"
     ]
    },
    {
     "name": "stdout",
     "output_type": "stream",
     "text": [
      "Batch 154 selesai: 100 file diterjemahkan dalam 104.92 detik.\n"
     ]
    },
    {
     "name": "stderr",
     "output_type": "stream",
     "text": [
      "Translating Batches:  62%|██████▏   | 155/250 [4:37:50<2:50:51, 107.92s/it]"
     ]
    },
    {
     "name": "stdout",
     "output_type": "stream",
     "text": [
      "Batch 155 selesai: 100 file diterjemahkan dalam 111.10 detik.\n"
     ]
    },
    {
     "name": "stderr",
     "output_type": "stream",
     "text": [
      "Translating Batches:  62%|██████▏   | 156/250 [4:39:46<2:52:27, 110.08s/it]"
     ]
    },
    {
     "name": "stdout",
     "output_type": "stream",
     "text": [
      "Batch 156 selesai: 100 file diterjemahkan dalam 115.12 detik.\n"
     ]
    },
    {
     "name": "stderr",
     "output_type": "stream",
     "text": [
      "Translating Batches:  63%|██████▎   | 157/250 [4:41:37<2:51:13, 110.47s/it]"
     ]
    },
    {
     "name": "stdout",
     "output_type": "stream",
     "text": [
      "Batch 157 selesai: 100 file diterjemahkan dalam 111.38 detik.\n"
     ]
    },
    {
     "name": "stderr",
     "output_type": "stream",
     "text": [
      "Translating Batches:  63%|██████▎   | 158/250 [4:43:30<2:50:26, 111.15s/it]"
     ]
    },
    {
     "name": "stdout",
     "output_type": "stream",
     "text": [
      "Batch 158 selesai: 100 file diterjemahkan dalam 112.76 detik.\n"
     ]
    },
    {
     "name": "stderr",
     "output_type": "stream",
     "text": [
      "Translating Batches:  64%|██████▎   | 159/250 [4:45:17<2:46:54, 110.05s/it]"
     ]
    },
    {
     "name": "stdout",
     "output_type": "stream",
     "text": [
      "Batch 159 selesai: 100 file diterjemahkan dalam 107.47 detik.\n"
     ]
    },
    {
     "name": "stderr",
     "output_type": "stream",
     "text": [
      "Translating Batches:  64%|██████▍   | 160/250 [4:47:07<2:45:04, 110.05s/it]"
     ]
    },
    {
     "name": "stdout",
     "output_type": "stream",
     "text": [
      "Batch 160 selesai: 100 file diterjemahkan dalam 110.03 detik.\n"
     ]
    },
    {
     "name": "stderr",
     "output_type": "stream",
     "text": [
      "Translating Batches:  64%|██████▍   | 161/250 [4:48:54<2:41:53, 109.13s/it]"
     ]
    },
    {
     "name": "stdout",
     "output_type": "stream",
     "text": [
      "Batch 161 selesai: 100 file diterjemahkan dalam 107.01 detik.\n"
     ]
    },
    {
     "name": "stderr",
     "output_type": "stream",
     "text": [
      "Translating Batches:  65%|██████▍   | 162/250 [4:50:41<2:38:50, 108.31s/it]"
     ]
    },
    {
     "name": "stdout",
     "output_type": "stream",
     "text": [
      "Batch 162 selesai: 100 file diterjemahkan dalam 106.37 detik.\n"
     ]
    },
    {
     "name": "stderr",
     "output_type": "stream",
     "text": [
      "Translating Batches:  65%|██████▌   | 163/250 [4:52:28<2:36:36, 108.00s/it]"
     ]
    },
    {
     "name": "stdout",
     "output_type": "stream",
     "text": [
      "Batch 163 selesai: 100 file diterjemahkan dalam 107.30 detik.\n"
     ]
    },
    {
     "name": "stderr",
     "output_type": "stream",
     "text": [
      "Translating Batches:  66%|██████▌   | 164/250 [4:54:12<2:33:14, 106.91s/it]"
     ]
    },
    {
     "name": "stdout",
     "output_type": "stream",
     "text": [
      "Batch 164 selesai: 100 file diterjemahkan dalam 104.36 detik.\n"
     ]
    },
    {
     "name": "stderr",
     "output_type": "stream",
     "text": [
      "Translating Batches:  66%|██████▌   | 165/250 [4:56:00<2:31:39, 107.05s/it]"
     ]
    },
    {
     "name": "stdout",
     "output_type": "stream",
     "text": [
      "Batch 165 selesai: 100 file diterjemahkan dalam 107.37 detik.\n"
     ]
    },
    {
     "name": "stderr",
     "output_type": "stream",
     "text": [
      "Translating Batches:  66%|██████▋   | 166/250 [4:57:47<2:29:49, 107.02s/it]"
     ]
    },
    {
     "name": "stdout",
     "output_type": "stream",
     "text": [
      "Batch 166 selesai: 100 file diterjemahkan dalam 106.94 detik.\n"
     ]
    },
    {
     "name": "stderr",
     "output_type": "stream",
     "text": [
      "Translating Batches:  67%|██████▋   | 167/250 [4:59:35<2:28:28, 107.34s/it]"
     ]
    },
    {
     "name": "stdout",
     "output_type": "stream",
     "text": [
      "Batch 167 selesai: 100 file diterjemahkan dalam 108.07 detik.\n"
     ]
    },
    {
     "name": "stderr",
     "output_type": "stream",
     "text": [
      "Translating Batches:  67%|██████▋   | 168/250 [5:01:27<2:28:53, 108.95s/it]"
     ]
    },
    {
     "name": "stdout",
     "output_type": "stream",
     "text": [
      "Batch 168 selesai: 100 file diterjemahkan dalam 112.70 detik.\n"
     ]
    },
    {
     "name": "stderr",
     "output_type": "stream",
     "text": [
      "Translating Batches:  68%|██████▊   | 169/250 [5:03:13<2:25:39, 107.89s/it]"
     ]
    },
    {
     "name": "stdout",
     "output_type": "stream",
     "text": [
      "Batch 169 selesai: 100 file diterjemahkan dalam 105.44 detik.\n"
     ]
    },
    {
     "name": "stderr",
     "output_type": "stream",
     "text": [
      "Translating Batches:  68%|██████▊   | 170/250 [5:04:59<2:23:08, 107.36s/it]"
     ]
    },
    {
     "name": "stdout",
     "output_type": "stream",
     "text": [
      "Batch 170 selesai: 100 file diterjemahkan dalam 106.12 detik.\n"
     ]
    },
    {
     "name": "stderr",
     "output_type": "stream",
     "text": [
      "Translating Batches:  68%|██████▊   | 171/250 [5:06:50<2:22:43, 108.39s/it]"
     ]
    },
    {
     "name": "stdout",
     "output_type": "stream",
     "text": [
      "Batch 171 selesai: 100 file diterjemahkan dalam 110.80 detik.\n"
     ]
    },
    {
     "name": "stderr",
     "output_type": "stream",
     "text": [
      "Translating Batches:  69%|██████▉   | 172/250 [5:08:36<2:19:57, 107.66s/it]"
     ]
    },
    {
     "name": "stdout",
     "output_type": "stream",
     "text": [
      "Batch 172 selesai: 100 file diterjemahkan dalam 105.94 detik.\n"
     ]
    },
    {
     "name": "stderr",
     "output_type": "stream",
     "text": [
      "Translating Batches:  69%|██████▉   | 173/250 [5:10:23<2:18:00, 107.54s/it]"
     ]
    },
    {
     "name": "stdout",
     "output_type": "stream",
     "text": [
      "Batch 173 selesai: 100 file diterjemahkan dalam 107.26 detik.\n"
     ]
    },
    {
     "name": "stderr",
     "output_type": "stream",
     "text": [
      "Translating Batches:  70%|██████▉   | 174/250 [5:12:10<2:16:07, 107.47s/it]"
     ]
    },
    {
     "name": "stdout",
     "output_type": "stream",
     "text": [
      "Batch 174 selesai: 100 file diterjemahkan dalam 107.29 detik.\n"
     ]
    },
    {
     "name": "stderr",
     "output_type": "stream",
     "text": [
      "Translating Batches:  70%|███████   | 175/250 [5:13:51<2:11:45, 105.40s/it]"
     ]
    },
    {
     "name": "stdout",
     "output_type": "stream",
     "text": [
      "Batch 175 selesai: 100 file diterjemahkan dalam 100.59 detik.\n"
     ]
    },
    {
     "name": "stderr",
     "output_type": "stream",
     "text": [
      "Translating Batches:  70%|███████   | 176/250 [5:15:28<2:07:06, 103.06s/it]"
     ]
    },
    {
     "name": "stdout",
     "output_type": "stream",
     "text": [
      "Batch 176 selesai: 100 file diterjemahkan dalam 97.61 detik.\n"
     ]
    },
    {
     "name": "stderr",
     "output_type": "stream",
     "text": [
      "Translating Batches:  71%|███████   | 177/250 [5:17:12<2:05:38, 103.26s/it]"
     ]
    },
    {
     "name": "stdout",
     "output_type": "stream",
     "text": [
      "Batch 177 selesai: 100 file diterjemahkan dalam 103.73 detik.\n"
     ]
    },
    {
     "name": "stderr",
     "output_type": "stream",
     "text": [
      "Translating Batches:  71%|███████   | 178/250 [5:19:03<2:06:36, 105.50s/it]"
     ]
    },
    {
     "name": "stdout",
     "output_type": "stream",
     "text": [
      "Batch 178 selesai: 100 file diterjemahkan dalam 110.73 detik.\n"
     ]
    },
    {
     "name": "stderr",
     "output_type": "stream",
     "text": [
      "Translating Batches:  72%|███████▏  | 179/250 [5:20:45<2:03:30, 104.37s/it]"
     ]
    },
    {
     "name": "stdout",
     "output_type": "stream",
     "text": [
      "Batch 179 selesai: 100 file diterjemahkan dalam 101.73 detik.\n"
     ]
    },
    {
     "name": "stderr",
     "output_type": "stream",
     "text": [
      "Translating Batches:  72%|███████▏  | 180/250 [5:22:35<2:03:51, 106.16s/it]"
     ]
    },
    {
     "name": "stdout",
     "output_type": "stream",
     "text": [
      "Batch 180 selesai: 100 file diterjemahkan dalam 110.34 detik.\n"
     ]
    },
    {
     "name": "stderr",
     "output_type": "stream",
     "text": [
      "Translating Batches:  72%|███████▏  | 181/250 [5:24:22<2:02:25, 106.46s/it]"
     ]
    },
    {
     "name": "stdout",
     "output_type": "stream",
     "text": [
      "Batch 181 selesai: 100 file diterjemahkan dalam 107.14 detik.\n"
     ]
    },
    {
     "name": "stderr",
     "output_type": "stream",
     "text": [
      "Translating Batches:  73%|███████▎  | 182/250 [5:26:07<1:59:57, 105.85s/it]"
     ]
    },
    {
     "name": "stdout",
     "output_type": "stream",
     "text": [
      "Batch 182 selesai: 100 file diterjemahkan dalam 104.44 detik.\n"
     ]
    },
    {
     "name": "stderr",
     "output_type": "stream",
     "text": [
      "Translating Batches:  73%|███████▎  | 183/250 [5:27:53<1:58:32, 106.15s/it]"
     ]
    },
    {
     "name": "stdout",
     "output_type": "stream",
     "text": [
      "Batch 183 selesai: 100 file diterjemahkan dalam 106.85 detik.\n"
     ]
    },
    {
     "name": "stderr",
     "output_type": "stream",
     "text": [
      "Translating Batches:  74%|███████▎  | 184/250 [5:29:41<1:57:17, 106.64s/it]"
     ]
    },
    {
     "name": "stdout",
     "output_type": "stream",
     "text": [
      "Batch 184 selesai: 100 file diterjemahkan dalam 107.77 detik.\n"
     ]
    },
    {
     "name": "stderr",
     "output_type": "stream",
     "text": [
      "Translating Batches:  74%|███████▍  | 185/250 [5:31:25<1:54:45, 105.93s/it]"
     ]
    },
    {
     "name": "stdout",
     "output_type": "stream",
     "text": [
      "Batch 185 selesai: 100 file diterjemahkan dalam 104.28 detik.\n"
     ]
    },
    {
     "name": "stderr",
     "output_type": "stream",
     "text": [
      "Translating Batches:  74%|███████▍  | 186/250 [5:33:14<1:53:59, 106.86s/it]"
     ]
    },
    {
     "name": "stdout",
     "output_type": "stream",
     "text": [
      "Batch 186 selesai: 100 file diterjemahkan dalam 109.04 detik.\n"
     ]
    },
    {
     "name": "stderr",
     "output_type": "stream",
     "text": [
      "Translating Batches:  75%|███████▍  | 187/250 [5:35:07<1:53:51, 108.43s/it]"
     ]
    },
    {
     "name": "stdout",
     "output_type": "stream",
     "text": [
      "Batch 187 selesai: 100 file diterjemahkan dalam 112.10 detik.\n"
     ]
    },
    {
     "name": "stderr",
     "output_type": "stream",
     "text": [
      "Translating Batches:  75%|███████▌  | 188/250 [5:36:58<1:52:54, 109.27s/it]"
     ]
    },
    {
     "name": "stdout",
     "output_type": "stream",
     "text": [
      "Batch 188 selesai: 100 file diterjemahkan dalam 111.21 detik.\n"
     ]
    },
    {
     "name": "stderr",
     "output_type": "stream",
     "text": [
      "Translating Batches:  76%|███████▌  | 189/250 [5:38:52<1:52:29, 110.64s/it]"
     ]
    },
    {
     "name": "stdout",
     "output_type": "stream",
     "text": [
      "Batch 189 selesai: 100 file diterjemahkan dalam 113.85 detik.\n"
     ]
    },
    {
     "name": "stderr",
     "output_type": "stream",
     "text": [
      "Translating Batches:  76%|███████▌  | 190/250 [5:40:39<1:49:46, 109.77s/it]"
     ]
    },
    {
     "name": "stdout",
     "output_type": "stream",
     "text": [
      "Batch 190 selesai: 100 file diterjemahkan dalam 107.73 detik.\n"
     ]
    },
    {
     "name": "stderr",
     "output_type": "stream",
     "text": [
      "Translating Batches:  76%|███████▋  | 191/250 [5:42:22<1:45:45, 107.54s/it]"
     ]
    },
    {
     "name": "stdout",
     "output_type": "stream",
     "text": [
      "Batch 191 selesai: 100 file diterjemahkan dalam 102.35 detik.\n"
     ]
    },
    {
     "name": "stderr",
     "output_type": "stream",
     "text": [
      "Translating Batches:  77%|███████▋  | 192/250 [5:44:06<1:43:05, 106.65s/it]"
     ]
    },
    {
     "name": "stdout",
     "output_type": "stream",
     "text": [
      "Batch 192 selesai: 100 file diterjemahkan dalam 104.57 detik.\n"
     ]
    },
    {
     "name": "stderr",
     "output_type": "stream",
     "text": [
      "Translating Batches:  77%|███████▋  | 193/250 [5:45:53<1:41:27, 106.80s/it]"
     ]
    },
    {
     "name": "stdout",
     "output_type": "stream",
     "text": [
      "Batch 193 selesai: 100 file diterjemahkan dalam 107.16 detik.\n"
     ]
    },
    {
     "name": "stderr",
     "output_type": "stream",
     "text": [
      "Translating Batches:  78%|███████▊  | 194/250 [5:47:39<1:39:17, 106.38s/it]"
     ]
    },
    {
     "name": "stdout",
     "output_type": "stream",
     "text": [
      "Batch 194 selesai: 100 file diterjemahkan dalam 105.38 detik.\n"
     ]
    },
    {
     "name": "stderr",
     "output_type": "stream",
     "text": [
      "Translating Batches:  78%|███████▊  | 195/250 [5:49:25<1:37:31, 106.39s/it]"
     ]
    },
    {
     "name": "stdout",
     "output_type": "stream",
     "text": [
      "Batch 195 selesai: 100 file diterjemahkan dalam 106.44 detik.\n"
     ]
    },
    {
     "name": "stderr",
     "output_type": "stream",
     "text": [
      "Translating Batches:  78%|███████▊  | 196/250 [5:51:10<1:35:19, 105.91s/it]"
     ]
    },
    {
     "name": "stdout",
     "output_type": "stream",
     "text": [
      "Batch 196 selesai: 100 file diterjemahkan dalam 104.78 detik.\n"
     ]
    },
    {
     "name": "stderr",
     "output_type": "stream",
     "text": [
      "Translating Batches:  79%|███████▉  | 197/250 [5:52:59<1:34:28, 106.94s/it]"
     ]
    },
    {
     "name": "stdout",
     "output_type": "stream",
     "text": [
      "Batch 197 selesai: 100 file diterjemahkan dalam 109.36 detik.\n"
     ]
    },
    {
     "name": "stderr",
     "output_type": "stream",
     "text": [
      "Translating Batches:  79%|███████▉  | 198/250 [5:54:35<1:29:49, 103.64s/it]"
     ]
    },
    {
     "name": "stdout",
     "output_type": "stream",
     "text": [
      "Batch 198 selesai: 100 file diterjemahkan dalam 95.93 detik.\n"
     ]
    },
    {
     "name": "stderr",
     "output_type": "stream",
     "text": [
      "Translating Batches:  80%|███████▉  | 199/250 [5:56:18<1:27:53, 103.40s/it]"
     ]
    },
    {
     "name": "stdout",
     "output_type": "stream",
     "text": [
      "Batch 199 selesai: 100 file diterjemahkan dalam 102.83 detik.\n"
     ]
    },
    {
     "name": "stderr",
     "output_type": "stream",
     "text": [
      "Translating Batches:  80%|████████  | 200/250 [5:57:58<1:25:09, 102.18s/it]"
     ]
    },
    {
     "name": "stdout",
     "output_type": "stream",
     "text": [
      "Batch 200 selesai: 100 file diterjemahkan dalam 99.35 detik.\n"
     ]
    },
    {
     "name": "stderr",
     "output_type": "stream",
     "text": [
      "Translating Batches:  80%|████████  | 201/250 [5:59:44<1:24:27, 103.41s/it]"
     ]
    },
    {
     "name": "stdout",
     "output_type": "stream",
     "text": [
      "Batch 201 selesai: 100 file diterjemahkan dalam 106.27 detik.\n"
     ]
    },
    {
     "name": "stderr",
     "output_type": "stream",
     "text": [
      "Translating Batches:  81%|████████  | 202/250 [6:01:25<1:22:11, 102.75s/it]"
     ]
    },
    {
     "name": "stdout",
     "output_type": "stream",
     "text": [
      "Batch 202 selesai: 100 file diterjemahkan dalam 101.19 detik.\n"
     ]
    },
    {
     "name": "stderr",
     "output_type": "stream",
     "text": [
      "Translating Batches:  81%|████████  | 203/250 [6:03:10<1:20:54, 103.28s/it]"
     ]
    },
    {
     "name": "stdout",
     "output_type": "stream",
     "text": [
      "Batch 203 selesai: 100 file diterjemahkan dalam 104.53 detik.\n"
     ]
    },
    {
     "name": "stderr",
     "output_type": "stream",
     "text": [
      "Translating Batches:  82%|████████▏ | 204/250 [6:04:57<1:20:12, 104.62s/it]"
     ]
    },
    {
     "name": "stdout",
     "output_type": "stream",
     "text": [
      "Batch 204 selesai: 100 file diterjemahkan dalam 107.74 detik.\n"
     ]
    },
    {
     "name": "stderr",
     "output_type": "stream",
     "text": [
      "Translating Batches:  82%|████████▏ | 205/250 [6:06:42<1:18:25, 104.56s/it]"
     ]
    },
    {
     "name": "stdout",
     "output_type": "stream",
     "text": [
      "Batch 205 selesai: 100 file diterjemahkan dalam 104.42 detik.\n"
     ]
    },
    {
     "name": "stderr",
     "output_type": "stream",
     "text": [
      "Translating Batches:  82%|████████▏ | 206/250 [6:08:28<1:17:00, 105.00s/it]"
     ]
    },
    {
     "name": "stdout",
     "output_type": "stream",
     "text": [
      "Batch 206 selesai: 100 file diterjemahkan dalam 106.03 detik.\n"
     ]
    },
    {
     "name": "stderr",
     "output_type": "stream",
     "text": [
      "Translating Batches:  83%|████████▎ | 207/250 [6:10:19<1:16:36, 106.89s/it]"
     ]
    },
    {
     "name": "stdout",
     "output_type": "stream",
     "text": [
      "Batch 207 selesai: 100 file diterjemahkan dalam 111.28 detik.\n"
     ]
    },
    {
     "name": "stderr",
     "output_type": "stream",
     "text": [
      "Translating Batches:  83%|████████▎ | 208/250 [6:12:02<1:14:00, 105.73s/it]"
     ]
    },
    {
     "name": "stdout",
     "output_type": "stream",
     "text": [
      "Batch 208 selesai: 100 file diterjemahkan dalam 103.02 detik.\n"
     ]
    },
    {
     "name": "stderr",
     "output_type": "stream",
     "text": [
      "Translating Batches:  84%|████████▎ | 209/250 [6:13:48<1:12:16, 105.76s/it]"
     ]
    },
    {
     "name": "stdout",
     "output_type": "stream",
     "text": [
      "Batch 209 selesai: 100 file diterjemahkan dalam 105.84 detik.\n"
     ]
    },
    {
     "name": "stderr",
     "output_type": "stream",
     "text": [
      "Translating Batches:  84%|████████▍ | 210/250 [6:15:38<1:11:28, 107.21s/it]"
     ]
    },
    {
     "name": "stdout",
     "output_type": "stream",
     "text": [
      "Batch 210 selesai: 100 file diterjemahkan dalam 110.58 detik.\n"
     ]
    },
    {
     "name": "stderr",
     "output_type": "stream",
     "text": [
      "Translating Batches:  84%|████████▍ | 211/250 [6:17:23<1:09:09, 106.40s/it]"
     ]
    },
    {
     "name": "stdout",
     "output_type": "stream",
     "text": [
      "Batch 211 selesai: 100 file diterjemahkan dalam 104.51 detik.\n"
     ]
    },
    {
     "name": "stderr",
     "output_type": "stream",
     "text": [
      "Translating Batches:  85%|████████▍ | 212/250 [6:19:08<1:07:11, 106.09s/it]"
     ]
    },
    {
     "name": "stdout",
     "output_type": "stream",
     "text": [
      "Batch 212 selesai: 100 file diterjemahkan dalam 105.37 detik.\n"
     ]
    },
    {
     "name": "stderr",
     "output_type": "stream",
     "text": [
      "Translating Batches:  85%|████████▌ | 213/250 [6:20:56<1:05:41, 106.53s/it]"
     ]
    },
    {
     "name": "stdout",
     "output_type": "stream",
     "text": [
      "Batch 213 selesai: 100 file diterjemahkan dalam 107.54 detik.\n"
     ]
    },
    {
     "name": "stderr",
     "output_type": "stream",
     "text": [
      "Translating Batches:  86%|████████▌ | 214/250 [6:22:40<1:03:24, 105.69s/it]"
     ]
    },
    {
     "name": "stdout",
     "output_type": "stream",
     "text": [
      "Batch 214 selesai: 100 file diterjemahkan dalam 103.73 detik.\n"
     ]
    },
    {
     "name": "stderr",
     "output_type": "stream",
     "text": [
      "Translating Batches:  86%|████████▌ | 215/250 [6:24:23<1:01:16, 105.03s/it]"
     ]
    },
    {
     "name": "stdout",
     "output_type": "stream",
     "text": [
      "Batch 215 selesai: 100 file diterjemahkan dalam 103.51 detik.\n"
     ]
    },
    {
     "name": "stderr",
     "output_type": "stream",
     "text": [
      "Translating Batches:  86%|████████▋ | 216/250 [6:26:06<59:08, 104.38s/it]  "
     ]
    },
    {
     "name": "stdout",
     "output_type": "stream",
     "text": [
      "Batch 216 selesai: 100 file diterjemahkan dalam 102.85 detik.\n"
     ]
    },
    {
     "name": "stderr",
     "output_type": "stream",
     "text": [
      "Translating Batches:  87%|████████▋ | 217/250 [6:27:51<57:33, 104.66s/it]"
     ]
    },
    {
     "name": "stdout",
     "output_type": "stream",
     "text": [
      "Batch 217 selesai: 100 file diterjemahkan dalam 105.30 detik.\n"
     ]
    },
    {
     "name": "stderr",
     "output_type": "stream",
     "text": [
      "Translating Batches:  87%|████████▋ | 218/250 [6:29:34<55:27, 103.98s/it]"
     ]
    },
    {
     "name": "stdout",
     "output_type": "stream",
     "text": [
      "Batch 218 selesai: 100 file diterjemahkan dalam 102.39 detik.\n"
     ]
    },
    {
     "name": "stderr",
     "output_type": "stream",
     "text": [
      "Translating Batches:  88%|████████▊ | 219/250 [6:31:23<54:33, 105.61s/it]"
     ]
    },
    {
     "name": "stdout",
     "output_type": "stream",
     "text": [
      "Batch 219 selesai: 100 file diterjemahkan dalam 109.41 detik.\n"
     ]
    },
    {
     "name": "stderr",
     "output_type": "stream",
     "text": [
      "Translating Batches:  88%|████████▊ | 220/250 [6:33:12<53:14, 106.50s/it]"
     ]
    },
    {
     "name": "stdout",
     "output_type": "stream",
     "text": [
      "Batch 220 selesai: 100 file diterjemahkan dalam 108.57 detik.\n"
     ]
    },
    {
     "name": "stderr",
     "output_type": "stream",
     "text": [
      "Translating Batches:  88%|████████▊ | 221/250 [6:34:55<50:58, 105.46s/it]"
     ]
    },
    {
     "name": "stdout",
     "output_type": "stream",
     "text": [
      "Batch 221 selesai: 100 file diterjemahkan dalam 103.03 detik.\n"
     ]
    },
    {
     "name": "stderr",
     "output_type": "stream",
     "text": [
      "Translating Batches:  89%|████████▉ | 222/250 [6:36:42<49:28, 106.01s/it]"
     ]
    },
    {
     "name": "stdout",
     "output_type": "stream",
     "text": [
      "Batch 222 selesai: 100 file diterjemahkan dalam 107.29 detik.\n"
     ]
    },
    {
     "name": "stderr",
     "output_type": "stream",
     "text": [
      "Translating Batches:  89%|████████▉ | 223/250 [6:38:27<47:36, 105.80s/it]"
     ]
    },
    {
     "name": "stdout",
     "output_type": "stream",
     "text": [
      "Batch 223 selesai: 100 file diterjemahkan dalam 105.31 detik.\n"
     ]
    },
    {
     "name": "stderr",
     "output_type": "stream",
     "text": [
      "Translating Batches:  90%|████████▉ | 224/250 [6:40:15<46:06, 106.41s/it]"
     ]
    },
    {
     "name": "stdout",
     "output_type": "stream",
     "text": [
      "Batch 224 selesai: 100 file diterjemahkan dalam 107.85 detik.\n"
     ]
    },
    {
     "name": "stderr",
     "output_type": "stream",
     "text": [
      "Translating Batches:  90%|█████████ | 225/250 [6:41:59<43:59, 105.59s/it]"
     ]
    },
    {
     "name": "stdout",
     "output_type": "stream",
     "text": [
      "Batch 225 selesai: 100 file diterjemahkan dalam 103.67 detik.\n"
     ]
    },
    {
     "name": "stderr",
     "output_type": "stream",
     "text": [
      "Translating Batches:  90%|█████████ | 226/250 [6:43:44<42:13, 105.57s/it]"
     ]
    },
    {
     "name": "stdout",
     "output_type": "stream",
     "text": [
      "Batch 226 selesai: 100 file diterjemahkan dalam 105.53 detik.\n"
     ]
    },
    {
     "name": "stderr",
     "output_type": "stream",
     "text": [
      "Translating Batches:  91%|█████████ | 227/250 [6:45:32<40:41, 106.14s/it]"
     ]
    },
    {
     "name": "stdout",
     "output_type": "stream",
     "text": [
      "Batch 227 selesai: 100 file diterjemahkan dalam 107.46 detik.\n"
     ]
    },
    {
     "name": "stderr",
     "output_type": "stream",
     "text": [
      "Translating Batches:  91%|█████████ | 228/250 [6:47:18<38:57, 106.27s/it]"
     ]
    },
    {
     "name": "stdout",
     "output_type": "stream",
     "text": [
      "Batch 228 selesai: 100 file diterjemahkan dalam 106.56 detik.\n"
     ]
    },
    {
     "name": "stderr",
     "output_type": "stream",
     "text": [
      "Translating Batches:  92%|█████████▏| 229/250 [6:49:02<36:54, 105.47s/it]"
     ]
    },
    {
     "name": "stdout",
     "output_type": "stream",
     "text": [
      "Batch 229 selesai: 100 file diterjemahkan dalam 103.61 detik.\n"
     ]
    },
    {
     "name": "stderr",
     "output_type": "stream",
     "text": [
      "Translating Batches:  92%|█████████▏| 230/250 [6:50:47<35:07, 105.37s/it]"
     ]
    },
    {
     "name": "stdout",
     "output_type": "stream",
     "text": [
      "Batch 230 selesai: 100 file diterjemahkan dalam 105.13 detik.\n"
     ]
    },
    {
     "name": "stderr",
     "output_type": "stream",
     "text": [
      "Translating Batches:  92%|█████████▏| 231/250 [6:52:30<33:08, 104.67s/it]"
     ]
    },
    {
     "name": "stdout",
     "output_type": "stream",
     "text": [
      "Batch 231 selesai: 100 file diterjemahkan dalam 103.04 detik.\n"
     ]
    },
    {
     "name": "stderr",
     "output_type": "stream",
     "text": [
      "Translating Batches:  93%|█████████▎| 232/250 [6:54:11<31:03, 103.55s/it]"
     ]
    },
    {
     "name": "stdout",
     "output_type": "stream",
     "text": [
      "Batch 232 selesai: 100 file diterjemahkan dalam 100.94 detik.\n"
     ]
    },
    {
     "name": "stderr",
     "output_type": "stream",
     "text": [
      "Translating Batches:  93%|█████████▎| 233/250 [6:56:00<29:47, 105.14s/it]"
     ]
    },
    {
     "name": "stdout",
     "output_type": "stream",
     "text": [
      "Batch 233 selesai: 100 file diterjemahkan dalam 108.85 detik.\n"
     ]
    },
    {
     "name": "stderr",
     "output_type": "stream",
     "text": [
      "Translating Batches:  94%|█████████▎| 234/250 [6:57:44<27:56, 104.79s/it]"
     ]
    },
    {
     "name": "stdout",
     "output_type": "stream",
     "text": [
      "Batch 234 selesai: 100 file diterjemahkan dalam 103.98 detik.\n"
     ]
    },
    {
     "name": "stderr",
     "output_type": "stream",
     "text": [
      "Translating Batches:  94%|█████████▍| 235/250 [6:59:25<25:53, 103.59s/it]"
     ]
    },
    {
     "name": "stdout",
     "output_type": "stream",
     "text": [
      "Batch 235 selesai: 100 file diterjemahkan dalam 100.80 detik.\n"
     ]
    },
    {
     "name": "stderr",
     "output_type": "stream",
     "text": [
      "Translating Batches:  94%|█████████▍| 236/250 [7:01:08<24:07, 103.36s/it]"
     ]
    },
    {
     "name": "stdout",
     "output_type": "stream",
     "text": [
      "Batch 236 selesai: 100 file diterjemahkan dalam 102.81 detik.\n"
     ]
    },
    {
     "name": "stderr",
     "output_type": "stream",
     "text": [
      "Translating Batches:  95%|█████████▍| 237/250 [7:02:52<22:26, 103.57s/it]"
     ]
    },
    {
     "name": "stdout",
     "output_type": "stream",
     "text": [
      "Batch 237 selesai: 100 file diterjemahkan dalam 104.07 detik.\n"
     ]
    },
    {
     "name": "stderr",
     "output_type": "stream",
     "text": [
      "Translating Batches:  95%|█████████▌| 238/250 [7:04:41<21:02, 105.18s/it]"
     ]
    },
    {
     "name": "stdout",
     "output_type": "stream",
     "text": [
      "Batch 238 selesai: 100 file diterjemahkan dalam 108.91 detik.\n"
     ]
    },
    {
     "name": "stderr",
     "output_type": "stream",
     "text": [
      "Translating Batches:  96%|█████████▌| 239/250 [7:06:21<19:01, 103.73s/it]"
     ]
    },
    {
     "name": "stdout",
     "output_type": "stream",
     "text": [
      "Batch 239 selesai: 100 file diterjemahkan dalam 100.35 detik.\n"
     ]
    },
    {
     "name": "stderr",
     "output_type": "stream",
     "text": [
      "Translating Batches:  96%|█████████▌| 240/250 [7:08:09<17:29, 104.98s/it]"
     ]
    },
    {
     "name": "stdout",
     "output_type": "stream",
     "text": [
      "Batch 240 selesai: 100 file diterjemahkan dalam 107.89 detik.\n"
     ]
    },
    {
     "name": "stderr",
     "output_type": "stream",
     "text": [
      "Translating Batches:  96%|█████████▋| 241/250 [7:09:50<15:33, 103.73s/it]"
     ]
    },
    {
     "name": "stdout",
     "output_type": "stream",
     "text": [
      "Batch 241 selesai: 100 file diterjemahkan dalam 100.81 detik.\n"
     ]
    },
    {
     "name": "stderr",
     "output_type": "stream",
     "text": [
      "Translating Batches:  97%|█████████▋| 242/250 [7:11:27<13:34, 101.83s/it]"
     ]
    },
    {
     "name": "stdout",
     "output_type": "stream",
     "text": [
      "Batch 242 selesai: 100 file diterjemahkan dalam 97.40 detik.\n"
     ]
    },
    {
     "name": "stderr",
     "output_type": "stream",
     "text": [
      "Translating Batches:  97%|█████████▋| 243/250 [7:13:13<12:00, 102.95s/it]"
     ]
    },
    {
     "name": "stdout",
     "output_type": "stream",
     "text": [
      "Batch 243 selesai: 100 file diterjemahkan dalam 105.57 detik.\n"
     ]
    },
    {
     "name": "stderr",
     "output_type": "stream",
     "text": [
      "Translating Batches:  98%|█████████▊| 244/250 [7:15:02<10:29, 104.84s/it]"
     ]
    },
    {
     "name": "stdout",
     "output_type": "stream",
     "text": [
      "Batch 244 selesai: 100 file diterjemahkan dalam 109.25 detik.\n"
     ]
    },
    {
     "name": "stderr",
     "output_type": "stream",
     "text": [
      "Translating Batches:  98%|█████████▊| 245/250 [7:16:43<08:38, 103.69s/it]"
     ]
    },
    {
     "name": "stdout",
     "output_type": "stream",
     "text": [
      "Batch 245 selesai: 100 file diterjemahkan dalam 101.00 detik.\n"
     ]
    },
    {
     "name": "stderr",
     "output_type": "stream",
     "text": [
      "Translating Batches:  98%|█████████▊| 246/250 [7:18:23<06:51, 102.78s/it]"
     ]
    },
    {
     "name": "stdout",
     "output_type": "stream",
     "text": [
      "Batch 246 selesai: 100 file diterjemahkan dalam 100.66 detik.\n"
     ]
    },
    {
     "name": "stderr",
     "output_type": "stream",
     "text": [
      "Translating Batches:  99%|█████████▉| 247/250 [7:20:02<05:04, 101.64s/it]"
     ]
    },
    {
     "name": "stdout",
     "output_type": "stream",
     "text": [
      "Batch 247 selesai: 100 file diterjemahkan dalam 98.99 detik.\n"
     ]
    },
    {
     "name": "stderr",
     "output_type": "stream",
     "text": [
      "Translating Batches:  99%|█████████▉| 248/250 [7:21:48<03:25, 102.91s/it]"
     ]
    },
    {
     "name": "stdout",
     "output_type": "stream",
     "text": [
      "Batch 248 selesai: 100 file diterjemahkan dalam 105.87 detik.\n"
     ]
    },
    {
     "name": "stderr",
     "output_type": "stream",
     "text": [
      "Translating Batches: 100%|█████████▉| 249/250 [7:23:34<01:43, 103.68s/it]"
     ]
    },
    {
     "name": "stdout",
     "output_type": "stream",
     "text": [
      "Batch 249 selesai: 100 file diterjemahkan dalam 105.47 detik.\n"
     ]
    },
    {
     "name": "stderr",
     "output_type": "stream",
     "text": [
      "Translating Batches: 100%|██████████| 250/250 [7:25:02<00:00, 106.81s/it]"
     ]
    },
    {
     "name": "stdout",
     "output_type": "stream",
     "text": [
      "Batch 250 selesai: 99 file diterjemahkan dalam 87.81 detik.\n",
      "Semua file selesai diterjemahkan!\n"
     ]
    },
    {
     "name": "stderr",
     "output_type": "stream",
     "text": [
      "\n"
     ]
    }
   ],
   "source": [
    "from deep_translator import GoogleTranslator\n",
    "import os\n",
    "import time\n",
    "from tqdm import tqdm\n",
    "\n",
    "# Path ke folder captions asli dan folder hasil terjemahan\n",
    "captions_path = \"/kaggle/input/new-dataset/titles/titles\"\n",
    "translated_captions_path = \"/kaggle/working/titles-translated\"\n",
    "os.makedirs(translated_captions_path, exist_ok=True)\n",
    "\n",
    "# Ambil daftar file caption\n",
    "caption_files = [f for f in os.listdir(captions_path) if f.endswith('.txt')]\n",
    "\n",
    "# Tentukan jumlah file per batch\n",
    "batch_size = 100  \n",
    "\n",
    "# Inisialisasi translator\n",
    "translator = GoogleTranslator(source='auto', target='id')\n",
    "\n",
    "# Proses dalam batch dengan tqdm\n",
    "total_batches = len(caption_files) // batch_size + (1 if len(caption_files) % batch_size != 0 else 0)\n",
    "print(f\"Total Batches: {total_batches}\")\n",
    "\n",
    "for i in tqdm(range(0, len(caption_files), batch_size), desc=\"Translating Batches\"):\n",
    "    start_time = time.time()  # Catat waktu mulai batch ini\n",
    "    \n",
    "    batch_files = caption_files[i:i+batch_size]\n",
    "    texts = []\n",
    "    file_map = {}\n",
    "\n",
    "    # Baca file dalam batch\n",
    "    for filename in batch_files:\n",
    "        src_file = os.path.join(captions_path, filename)\n",
    "        with open(src_file, 'r', encoding='utf-8') as f:\n",
    "            content = f.read()\n",
    "            texts.append(content)\n",
    "            file_map[filename] = content\n",
    "\n",
    "    # Menerjemahkan dalam batch\n",
    "    translated_texts = translator.translate_batch(texts)\n",
    "\n",
    "    # Simpan hasil terjemahan\n",
    "    for filename, translated in zip(file_map.keys(), translated_texts):\n",
    "        dst_file = os.path.join(translated_captions_path, filename)\n",
    "        with open(dst_file, 'w', encoding='utf-8') as f:\n",
    "            f.write(translated)\n",
    "\n",
    "    end_time = time.time()  # Catat waktu selesai batch ini\n",
    "    batch_time = end_time - start_time\n",
    "    print(f\"Batch {i//batch_size + 1} selesai: {len(batch_files)} file diterjemahkan dalam {batch_time:.2f} detik.\")\n",
    "\n",
    "print(\"Semua file selesai diterjemahkan!\")"
   ]
  },
  {
   "cell_type": "code",
   "execution_count": 3,
   "id": "24332614",
   "metadata": {
    "execution": {
     "iopub.execute_input": "2025-02-19T14:49:40.596353Z",
     "iopub.status.busy": "2025-02-19T14:49:40.595728Z",
     "iopub.status.idle": "2025-02-19T14:49:43.683936Z",
     "shell.execute_reply": "2025-02-19T14:49:43.682505Z"
    },
    "papermill": {
     "duration": 3.122502,
     "end_time": "2025-02-19T14:49:43.685762",
     "exception": false,
     "start_time": "2025-02-19T14:49:40.563260",
     "status": "completed"
    },
    "tags": []
   },
   "outputs": [
    {
     "name": "stdout",
     "output_type": "stream",
     "text": [
      "titles-translated.zip berhasil dibuat.\n"
     ]
    }
   ],
   "source": [
    "import shutil\n",
    "\n",
    "# Nama folder yang akan di-zip\n",
    "folder_path = '/kaggle/working/titles-translated'\n",
    "# Nama file zip\n",
    "output_zip = 'titles-translated.zip'\n",
    "\n",
    "# Membuat file zip\n",
    "shutil.make_archive(output_zip.replace('.zip', ''), 'zip', folder_path)\n",
    "\n",
    "print(f\"{output_zip} berhasil dibuat.\")"
   ]
  }
 ],
 "metadata": {
  "kaggle": {
   "accelerator": "none",
   "dataSources": [
    {
     "datasetId": 6481868,
     "sourceId": 10791151,
     "sourceType": "datasetVersion"
    }
   ],
   "dockerImageVersionId": 30886,
   "isGpuEnabled": false,
   "isInternetEnabled": true,
   "language": "python",
   "sourceType": "notebook"
  },
  "kernelspec": {
   "display_name": "Python 3",
   "language": "python",
   "name": "python3"
  },
  "language_info": {
   "codemirror_mode": {
    "name": "ipython",
    "version": 3
   },
   "file_extension": ".py",
   "mimetype": "text/x-python",
   "name": "python",
   "nbconvert_exporter": "python",
   "pygments_lexer": "ipython3",
   "version": "3.10.12"
  },
  "papermill": {
   "default_parameters": {},
   "duration": 26715.791641,
   "end_time": "2025-02-19T14:49:44.369517",
   "environment_variables": {},
   "exception": null,
   "input_path": "__notebook__.ipynb",
   "output_path": "__notebook__.ipynb",
   "parameters": {},
   "start_time": "2025-02-19T07:24:28.577876",
   "version": "2.6.0"
  }
 },
 "nbformat": 4,
 "nbformat_minor": 5
}
