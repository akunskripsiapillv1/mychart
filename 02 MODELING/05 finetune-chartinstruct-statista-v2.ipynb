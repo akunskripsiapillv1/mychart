{
 "cells": [
  {
   "cell_type": "markdown",
   "metadata": {
    "id": "mTmHRSOcB0Yt"
   },
   "source": [
    "# Installations"
   ]
  },
  {
   "cell_type": "code",
   "execution_count": 1,
   "metadata": {},
   "outputs": [],
   "source": [
    "import os\n",
    "os.environ[\"HF_HOME\"] = \"/media/storage/alif/huggingface\""
   ]
  },
  {
   "cell_type": "code",
   "execution_count": 2,
   "metadata": {},
   "outputs": [
    {
     "name": "stdout",
     "output_type": "stream",
     "text": [
      "=== Disk Space Check ===\n",
      "/home free: 0.023040771484375 GB\n",
      "/media/storage free: 693.0065498352051 GB\n"
     ]
    }
   ],
   "source": [
    "# Tambahkan di awal script untuk memverifikasi partisi\n",
    "import shutil\n",
    "\n",
    "print(\"=== Disk Space Check ===\")\n",
    "print(\"/home free:\", shutil.disk_usage(\"/home\").free / (1024**3), \"GB\") \n",
    "print(\"/media/storage free:\", shutil.disk_usage(\"/media/storage\").free / (1024**3), \"GB\")"
   ]
  },
  {
   "cell_type": "code",
   "execution_count": 3,
   "metadata": {
    "colab": {
     "base_uri": "https://localhost:8080/"
    },
    "id": "lSXVzQ5bBnxQ",
    "outputId": "62052225-f0b1-4490-abf0-de6bc0f167a6"
   },
   "outputs": [],
   "source": [
    "# !pip install -q datasets\n",
    "# !pip install -q bitsandbytes-cuda112\n",
    "# !pip install -q bitsandbytes\n",
    "# !pip install -q accelerate\n",
    "# !pip install -q peft\n",
    "# !pip install -q pytorch-lightning\n",
    "# !pip install -q lightning[extra]\n",
    "# !pip install -q transformers==4.47.0\n",
    "# !pip install -q nltk rouge-score"
   ]
  },
  {
   "cell_type": "markdown",
   "metadata": {
    "id": "nZ2PGd-EB58C"
   },
   "source": [
    "# Load Dataset"
   ]
  },
  {
   "cell_type": "code",
   "execution_count": 4,
   "metadata": {
    "id": "MP-sYdmoB7Gt",
    "outputId": "36c4cb74-7124-4c6f-ec86-1cd7ed39ccab"
   },
   "outputs": [
    {
     "data": {
      "text/plain": [
       "DatasetDict({\n",
       "    train: Dataset({\n",
       "        features: ['imgname', 'query', 'label', 'image', 'source', 'chartType'],\n",
       "        num_rows: 29423\n",
       "    })\n",
       "    validation: Dataset({\n",
       "        features: ['imgname', 'query', 'label', 'image', 'source', 'chartType'],\n",
       "        num_rows: 3678\n",
       "    })\n",
       "    test: Dataset({\n",
       "        features: ['imgname', 'query', 'label', 'image', 'source', 'chartType'],\n",
       "        num_rows: 3678\n",
       "    })\n",
       "})"
      ]
     },
     "execution_count": 4,
     "metadata": {},
     "output_type": "execute_result"
    }
   ],
   "source": [
    "from datasets import load_dataset\n",
    "dataset = load_dataset(\"akunskripsiapillv1/indochart-v2-dataset\")\n",
    "dataset"
   ]
  },
  {
   "cell_type": "code",
   "execution_count": 5,
   "metadata": {},
   "outputs": [],
   "source": [
    "# Filter data dengan source='bps' di setiap split\n",
    "train_statista = dataset['train'].filter(lambda example: example['source'] == 'statista')\n",
    "val_statista = dataset['validation'].filter(lambda example: example['source'] == 'statista')\n",
    "test_statista = dataset['test'].filter(lambda example: example['source'] == 'statista')"
   ]
  },
  {
   "cell_type": "code",
   "execution_count": 6,
   "metadata": {},
   "outputs": [
    {
     "name": "stdout",
     "output_type": "stream",
     "text": [
      "Jumlah data training (statista): 19999\n",
      "Jumlah data validasi (statista): 2500\n",
      "Jumlah data test (statista): 2500\n"
     ]
    }
   ],
   "source": [
    "print(\"Jumlah data training (statista):\", len(train_statista))\n",
    "print(\"Jumlah data validasi (statista):\", len(val_statista))\n",
    "print(\"Jumlah data test (statista):\", len(test_statista))"
   ]
  },
  {
   "cell_type": "code",
   "execution_count": 7,
   "metadata": {},
   "outputs": [
    {
     "data": {
      "text/plain": [
       "chartType\n",
       "bar        6618\n",
       "column    13055\n",
       "pie         326\n",
       "dtype: int64"
      ]
     },
     "execution_count": 7,
     "metadata": {},
     "output_type": "execute_result"
    }
   ],
   "source": [
    "import pandas as pd\n",
    "df = pd.DataFrame(train_statista)\n",
    "df.groupby('chartType').size()"
   ]
  },
  {
   "cell_type": "markdown",
   "metadata": {
    "id": "8ZwwQnBNCN05"
   },
   "source": [
    "# Load Processor & Model"
   ]
  },
  {
   "cell_type": "code",
   "execution_count": 8,
   "metadata": {
    "id": "uYagFOW8IJqX"
   },
   "outputs": [],
   "source": [
    "from transformers import AutoProcessor, LlavaForConditionalGeneration, BitsAndBytesConfig\n",
    "processor = AutoProcessor.from_pretrained(\"ahmed-masry/ChartInstruct-LLama2\")"
   ]
  },
  {
   "cell_type": "code",
   "execution_count": 9,
   "metadata": {
    "colab": {
     "base_uri": "https://localhost:8080/",
     "height": 66,
     "referenced_widgets": [
      "2cee00ce27e44b32919eeb0b9e460416",
      "93fbf704bba64286a0ee5bef2e1a0975",
      "fac26cd54fe244588e0de072ad44544d",
      "359f61696b7f4b6c922bd71021e50682",
      "26ae610db3c648508af397d33023a9a3",
      "95f7fd535c1944dcb528a511fcd6a7b7",
      "2874a39d9636442a905b6de876dcb600",
      "68782fd35c474d9ea8c26a3e84cf7974",
      "29d08408c5c04ca8acdd43bfd3b33b49",
      "451e4863098943d48875be725cd7eb89",
      "acbf9a8118284ce8bd62e7e4bb1116e0",
      "844b352e00fa4d83960a3317b24b5397"
     ]
    },
    "id": "NUB1B5iWCXai",
    "outputId": "f1fed4f2-4524-4ba9-da4c-be76382cb4b3"
   },
   "outputs": [
    {
     "name": "stderr",
     "output_type": "stream",
     "text": [
      "`low_cpu_mem_usage` was None, now default to True since model is quantized.\n"
     ]
    },
    {
     "data": {
      "application/vnd.jupyter.widget-view+json": {
       "model_id": "496fbdffb766401fbb9d3ea9ce2a271e",
       "version_major": 2,
       "version_minor": 0
      },
      "text/plain": [
       "Loading checkpoint shards:   0%|          | 0/3 [00:00<?, ?it/s]"
      ]
     },
     "metadata": {},
     "output_type": "display_data"
    }
   ],
   "source": [
    "import torch\n",
    "USE_LORA = False\n",
    "USE_QLORA = True\n",
    "\n",
    "## Load model\n",
    "\n",
    "# Three options for training, from the lowest precision training to the highest precision training:\n",
    "# - QLora\n",
    "# - Standard Lora\n",
    "# - Full fine-tuning\n",
    "if USE_QLORA or USE_LORA:\n",
    "    if USE_QLORA:\n",
    "        bnb_config = BitsAndBytesConfig(\n",
    "            load_in_4bit=True, bnb_4bit_quant_type=\"nf4\", bnb_4bit_compute_dtype=torch.float16\n",
    "        )\n",
    "    model = LlavaForConditionalGeneration.from_pretrained(\n",
    "        'ahmed-masry/ChartInstruct-LLama2',\n",
    "        torch_dtype=torch.float16,\n",
    "        quantization_config=bnb_config,\n",
    "    )\n",
    "else:\n",
    "    # for full fine-tuning, we can speed up the model using Flash Attention\n",
    "    # only available on certain devices, see https://github.com/Dao-AILab/flash-attention?tab=readme-ov-file#installation-and-features\n",
    "    model = LlavaForConditionalGeneration.from_pretrained(\n",
    "        'ahmed-masry/ChartInstruct-LLama2',\n",
    "        torch_dtype=torch.float16,\n",
    "        _attn_implementation=\"flash_attention_2\",\n",
    "    )"
   ]
  },
  {
   "cell_type": "markdown",
   "metadata": {
    "id": "vkDJDEbFD77H"
   },
   "source": [
    "# Apply Peft"
   ]
  },
  {
   "cell_type": "code",
   "execution_count": 10,
   "metadata": {
    "id": "1cH4CGQjD9cl"
   },
   "outputs": [],
   "source": [
    "from peft import LoraConfig, prepare_model_for_kbit_training, get_peft_model\n",
    "\n",
    "\n",
    "def find_all_linear_names(model):\n",
    "    cls = torch.nn.Linear\n",
    "    lora_module_names = set()\n",
    "    multimodal_keywords = ['multi_modal_projector', 'vision_model']\n",
    "    for name, module in model.named_modules():\n",
    "        if any(mm_keyword in name for mm_keyword in multimodal_keywords):\n",
    "            continue\n",
    "        if isinstance(module, cls):\n",
    "            names = name.split('.')\n",
    "            lora_module_names.add(names[0] if len(names) == 1 else names[-1])\n",
    "\n",
    "    if 'lm_head' in lora_module_names: # needed for 16-bit\n",
    "        lora_module_names.remove('lm_head')\n",
    "    return list(lora_module_names)\n",
    "\n",
    "\n",
    "lora_config = LoraConfig(\n",
    "    r=8,\n",
    "    lora_alpha=8,\n",
    "    lora_dropout=0.1,\n",
    "    target_modules=find_all_linear_names(model),\n",
    "    init_lora_weights=\"gaussian\",\n",
    ")\n",
    "\n",
    "model = prepare_model_for_kbit_training(model)\n",
    "model = get_peft_model(model, lora_config)"
   ]
  },
  {
   "cell_type": "markdown",
   "metadata": {
    "id": "VUU2hqbIEV3I"
   },
   "source": [
    "# Create Pytorch Dataset"
   ]
  },
  {
   "cell_type": "code",
   "execution_count": 11,
   "metadata": {
    "id": "SMNnoy9PEXn3"
   },
   "outputs": [],
   "source": [
    "from torch.utils.data import Dataset\n",
    "from typing import Any, Dict\n",
    "import random\n",
    "from PIL import Image\n",
    "from io import BytesIO\n",
    "\n",
    "class LlavaDataset(Dataset):\n",
    "    \"\"\"\n",
    "    PyTorch Dataset for LLaVa. This class takes a HuggingFace Dataset as input.\n",
    "\n",
    "    Each row, consists of image path(png/jpg/jpeg) and ground truth data (json/jsonl/txt).\n",
    "    \"\"\"\n",
    "\n",
    "    def __init__(self, dataset: Dataset, split: str = \"train\"):\n",
    "        super().__init__()\n",
    "        self.split = split\n",
    "        self.dataset = dataset\n",
    "        self.dataset_length = len(self.dataset)\n",
    "\n",
    "    def __len__(self) -> int:\n",
    "        return self.dataset_length\n",
    "\n",
    "    def __getitem__(self, idx: int) -> Dict:\n",
    "        \"\"\"\n",
    "        Returns one item of the dataset.\n",
    "\n",
    "        Returns:\n",
    "            image : the original Receipt image\n",
    "            target_sequence : tokenized ground truth sequence\n",
    "        \"\"\"\n",
    "        sample = self.dataset[idx]\n",
    "\n",
    "        # inputs\n",
    "        image = Image.open(BytesIO(sample[\"image\"])).convert('RGB')\n",
    "        if self.split == \"train\":\n",
    "            target_sequence = f\"<image>\\n Question: {sample['query']} Answer: {sample['label']}\"\n",
    "            return image, target_sequence\n",
    "        else:\n",
    "            target_sequence = f\"<image>\\n Question: {sample['query']} Answer:\"\n",
    "            return image, target_sequence, sample[\"label\"]"
   ]
  },
  {
   "cell_type": "code",
   "execution_count": 12,
   "metadata": {
    "id": "iXczUpDWFDc3"
   },
   "outputs": [],
   "source": [
    "train_dataset = LlavaDataset(train_statista, split='train')\n",
    "val_dataset = LlavaDataset(val_statista, split='validation')"
   ]
  },
  {
   "cell_type": "markdown",
   "metadata": {
    "id": "FVhoNSyHFlRG"
   },
   "source": [
    "# Define collate functions"
   ]
  },
  {
   "cell_type": "code",
   "execution_count": 13,
   "metadata": {
    "id": "YwqdPA_xFkwv"
   },
   "outputs": [],
   "source": [
    "def train_collate_fn(examples):\n",
    "    images = []\n",
    "    texts = []\n",
    "    for example in examples:\n",
    "        image, text = example\n",
    "        images.append(image)\n",
    "        texts.append(text)\n",
    "\n",
    "    # Change the MX LENGTH depending on the task.\n",
    "    MAX_LENGTH = 256\n",
    "    batch = processor(text=texts, images=images, padding=True, truncation=True, max_length=MAX_LENGTH, return_tensors=\"pt\")\n",
    "\n",
    "    labels = batch[\"input_ids\"].clone()\n",
    "    labels[labels == processor.tokenizer.pad_token_id] = -100\n",
    "    batch[\"labels\"] = labels\n",
    "\n",
    "    input_ids = batch[\"input_ids\"]\n",
    "    attention_mask = batch[\"attention_mask\"]\n",
    "    pixel_values = batch[\"pixel_values\"]\n",
    "    labels = batch[\"labels\"]\n",
    "\n",
    "    return input_ids, attention_mask, pixel_values, labels\n",
    "\n",
    "\n",
    "def eval_collate_fn(examples):\n",
    "    # we only feed the prompt to the model\n",
    "    images = []\n",
    "    texts = []\n",
    "    answers = []\n",
    "    for example in examples:\n",
    "        image, text, answer = example\n",
    "        images.append(image)\n",
    "        texts.append(text)\n",
    "        answers.append(answer)\n",
    "\n",
    "    batch = processor(text=texts, images=images, return_tensors=\"pt\", padding=True)\n",
    "\n",
    "    input_ids = batch[\"input_ids\"]\n",
    "    attention_mask = batch[\"attention_mask\"]\n",
    "    pixel_values = batch[\"pixel_values\"]\n",
    "\n",
    "    return input_ids, attention_mask, pixel_values, answers"
   ]
  },
  {
   "cell_type": "markdown",
   "metadata": {
    "id": "ztr98C5IGYEZ"
   },
   "source": [
    "# Define Pytorch Lightening Module"
   ]
  },
  {
   "cell_type": "code",
   "execution_count": 14,
   "metadata": {
    "id": "UKdlVxn3Fk35"
   },
   "outputs": [],
   "source": [
    "import lightning as L\n",
    "from torch.utils.data import DataLoader\n",
    "import re\n",
    "from nltk import edit_distance\n",
    "import numpy as np\n",
    "from nltk.translate.bleu_score import sentence_bleu, SmoothingFunction\n",
    "from rouge_score import rouge_scorer\n",
    "\n",
    "\n",
    "class LlavaModelPLModule(L.LightningModule):\n",
    "    def __init__(self, config, processor, model):\n",
    "        super().__init__()\n",
    "        self.config = config\n",
    "        self.processor = processor\n",
    "        self.model = model\n",
    "        self.batch_size = config.get(\"batch_size\")\n",
    "\n",
    "        self.rouge_scorer = rouge_scorer.RougeScorer(['rougeL'], use_stemmer=True)\n",
    "        self.smoother = SmoothingFunction()\n",
    "\n",
    "    def extract_numbers(self, text):\n",
    "        \"\"\"Extract all numbers from text as list of ints\"\"\"\n",
    "        return list(map(int, re.findall(r'\\d+', str(text))))\n",
    "\n",
    "    def compute_relaxed_accuracy(self, gt_text, pred_text, tolerance=0.05):\n",
    "        \"\"\"Compare numbers in gt and pred with tolerance (can handle different lengths)\"\"\"\n",
    "        gt_numbers = self.extract_numbers(gt_text)\n",
    "        pred_numbers = self.extract_numbers(pred_text)\n",
    "\n",
    "        matched = 0\n",
    "        used_indices = set()\n",
    "\n",
    "        for gt in gt_numbers:\n",
    "            for i, pred in enumerate(pred_numbers):\n",
    "                if i in used_indices:\n",
    "                    continue\n",
    "                if abs(gt - pred) / max(gt, 1) <= tolerance:\n",
    "                    matched += 1\n",
    "                    used_indices.add(i)\n",
    "                    break  # Match found, move to next ground truth number\n",
    "\n",
    "        return matched / len(gt_numbers) if gt_numbers else 1.0  # Avoid division by zero\n",
    "\n",
    "\n",
    "    def training_step(self, batch, batch_idx):\n",
    "\n",
    "        input_ids, attention_mask, pixel_values, labels = batch\n",
    "\n",
    "        outputs = self.model(input_ids=input_ids,\n",
    "                                attention_mask=attention_mask,\n",
    "                                pixel_values=pixel_values,\n",
    "                                labels=labels)\n",
    "        loss = outputs.loss\n",
    "\n",
    "        self.log(\"train_loss\", loss)\n",
    "\n",
    "        return loss\n",
    "\n",
    "    def compute_metric(self, gt, pred):\n",
    "        metrics = {}\n",
    "\n",
    "        # 1. Relaxed Accuracy\n",
    "        try:\n",
    "            metrics['relaxed_acc'] = self.compute_relaxed_accuracy(gt, pred)\n",
    "        except:\n",
    "            metrics['relaxed_acc'] = 0.0\n",
    "\n",
    "        # 2. BLEU Score\n",
    "        try:\n",
    "            reference = [str(gt).lower().split()]\n",
    "            candidate = str(pred).lower().split()\n",
    "            metrics['bleu'] = sentence_bleu(\n",
    "                reference,\n",
    "                candidate,\n",
    "                smoothing_function = self.smoother.method4\n",
    "            )\n",
    "        except:\n",
    "            metrics['bleu'] = 0.0\n",
    "\n",
    "        # 3. ROUGE Score\n",
    "        try:\n",
    "            scores = self.rouge_scorer.score(str(gt).lower(), str(pred).lower())\n",
    "            metrics['rougeL'] = scores['rougeL'].fmeasure\n",
    "        except:\n",
    "            metrics['rougeL'] = 0.0\n",
    "\n",
    "        return metrics\n",
    "            \n",
    "\n",
    "    def validation_step(self, batch, batch_idx, dataset_idx=0):\n",
    "\n",
    "        input_ids, attention_mask, pixel_values, answers = batch\n",
    "\n",
    "        # autoregressively generate token IDs\n",
    "        generated_ids = self.model.generate(input_ids=input_ids, attention_mask=attention_mask,\n",
    "                                       pixel_values=pixel_values, max_new_tokens=256)\n",
    "        # turn them back into text, chopping of the prompt\n",
    "        # important: we don't skip special tokens here, because we want to see them in the output\n",
    "        predictions = self.processor.batch_decode(generated_ids[:, input_ids.size(1):], skip_special_tokens=True)\n",
    "\n",
    "        scores = {'relaxed_acc': [], 'bleu': [], 'rougeL': []}\n",
    "        \n",
    "        for pred, answer in zip(predictions, answers):\n",
    "            pred = pred.strip()\n",
    "            metric_result = self.compute_metric(answer, pred)\n",
    "\n",
    "            for key in scores.keys():\n",
    "                scores[key].append(metric_result[key])\n",
    "            \n",
    "            if self.config.get(\"verbose\", False) and len(scores['relaxed_acc']) == 1:\n",
    "                print(f\"Prediction: {pred}\")\n",
    "                print(f\"    Answer: {answer}\")\n",
    "\n",
    "        # Log all metrics\n",
    "        self.log(\"val_relaxed_acc\", np.mean(scores['relaxed_acc']), batch_size=self.batch_size)\n",
    "        self.log(\"val_bleu\", np.mean(scores['bleu']), batch_size=self.batch_size)\n",
    "        self.log(\"val_rougeL\", np.mean(scores['rougeL']), batch_size=self.batch_size)\n",
    "\n",
    "        return scores\n",
    "\n",
    "    def configure_optimizers(self):\n",
    "        # you could also add a learning rate scheduler if you want\n",
    "        optimizer = torch.optim.AdamW(self.parameters(), lr=self.config.get(\"lr\"))\n",
    "        return optimizer\n",
    "\n",
    "    def train_dataloader(self):\n",
    "        return DataLoader(train_dataset, collate_fn=train_collate_fn, batch_size=self.batch_size, shuffle=True, num_workers=2)\n",
    "\n",
    "    def val_dataloader(self):\n",
    "        return DataLoader(val_dataset, collate_fn=eval_collate_fn, batch_size=self.batch_size, shuffle=False, num_workers=2)"
   ]
  },
  {
   "cell_type": "code",
   "execution_count": 15,
   "metadata": {
    "id": "aFU6lhxKG871"
   },
   "outputs": [],
   "source": [
    "config = {\"max_epochs\": 2,\n",
    "          \"check_val_every_n_epoch\": 1,\n",
    "          \"gradient_clip_val\": 1.0,\n",
    "          \"accumulate_grad_batches\": 8,\n",
    "          \"lr\": 2e-5,\n",
    "          \"batch_size\": 1,\n",
    "          \"seed\":2025,\n",
    "          \"num_nodes\": 1,\n",
    "          \"warmup_steps\": 50,\n",
    "}\n",
    "\n",
    "model_module = LlavaModelPLModule(config, processor, model)"
   ]
  },
  {
   "cell_type": "markdown",
   "metadata": {
    "id": "qB5hi12NHVBN"
   },
   "source": [
    "# Train"
   ]
  },
  {
   "cell_type": "code",
   "execution_count": 16,
   "metadata": {
    "id": "sloUBQMcIJq-",
    "outputId": "2499c2d0-c59a-4c7e-9e73-942e22be7492"
   },
   "outputs": [
    {
     "name": "stdout",
     "output_type": "stream",
     "text": [
      "Sun Jun 15 18:38:28 2025       \n",
      "+-----------------------------------------------------------------------------------------+\n",
      "| NVIDIA-SMI 560.35.05              Driver Version: 560.35.05      CUDA Version: 12.6     |\n",
      "|-----------------------------------------+------------------------+----------------------+\n",
      "| GPU  Name                 Persistence-M | Bus-Id          Disp.A | Volatile Uncorr. ECC |\n",
      "| Fan  Temp   Perf          Pwr:Usage/Cap |           Memory-Usage | GPU-Util  Compute M. |\n",
      "|                                         |                        |               MIG M. |\n",
      "|=========================================+========================+======================|\n",
      "|   0  NVIDIA GeForce RTX 3090        Off |   00000000:01:00.0 Off |                  N/A |\n",
      "| 44%   54C    P8              9W /  350W |   11303MiB /  24576MiB |      0%      Default |\n",
      "|                                         |                        |                  N/A |\n",
      "+-----------------------------------------+------------------------+----------------------+\n",
      "                                                                                         \n",
      "+-----------------------------------------------------------------------------------------+\n",
      "| Processes:                                                                              |\n",
      "|  GPU   GI   CI        PID   Type   Process name                              GPU Memory |\n",
      "|        ID   ID                                                               Usage      |\n",
      "|=========================================================================================|\n",
      "|    0   N/A  N/A      3292      G   /usr/lib/xorg/Xorg                              9MiB |\n",
      "|    0   N/A  N/A      3528      G   /usr/bin/gnome-shell                            8MiB |\n",
      "|    0   N/A  N/A   1030973      C   ...storage/alif/mychart/bin/python3.12       5568MiB |\n",
      "|    0   N/A  N/A   2358798      C   /opt/yahya/myvenv/bin/python3                 790MiB |\n",
      "|    0   N/A  N/A   3722320      C   ...orage/anang/tac_venv/bin/python3.12        784MiB |\n",
      "|    0   N/A  N/A   3833212      C   ...orage/anang/tac_venv/bin/python3.12        784MiB |\n",
      "|    0   N/A  N/A   3833213      C   ...orage/anang/tac_venv/bin/python3.12        784MiB |\n",
      "|    0   N/A  N/A   4109800      C   .../pkl64/kbli_indobert/bin/python3.12        836MiB |\n",
      "|    0   N/A  N/A   4110277      C   .../pkl64/kbli_indobert/bin/python3.12        836MiB |\n",
      "|    0   N/A  N/A   4110393      C   .../pkl64/kbli_indobert/bin/python3.12        836MiB |\n",
      "+-----------------------------------------------------------------------------------------+\n"
     ]
    }
   ],
   "source": [
    "import torch\n",
    "torch.set_float32_matmul_precision('medium')\n",
    "!nvidia-smi"
   ]
  },
  {
   "cell_type": "code",
   "execution_count": 17,
   "metadata": {
    "colab": {
     "base_uri": "https://localhost:8080/",
     "height": 917,
     "referenced_widgets": [
      "ab7d3277b5a44b29949bca251b61823d",
      "f203177925cd47009a47c0f6c5af0e23",
      "e4d5e8af95554b63baf8e164111a4996",
      "358b959cab4f4e21ac138c621df4185a",
      "e65a4ac0015641b4a86bd0a16058931b",
      "48aa5d18af03478392d22c9c678958a4",
      "fc6d36090ddc4891a87b587c2a2030ab",
      "56c2c865785c412bbcd78974b668055a",
      "cfadb6e73063457e9745395737ab4351",
      "d02fbf74f2514fb2ae234b564720456f",
      "2a0d3cea13804619bdde7bc95b632f51",
      "d2ac4047fbe1465cb1b54b799138fdf2",
      "3dfe22d404a04cad92c1fe71de895670",
      "c55a898f4bfa419bb73006aa1c78f781",
      "e116cb29f33648d8a48713831cf7c2cc",
      "f3bb3272e4004801b322bbbf0ba32c66",
      "7e388f86946246db8fd1c81a804cb47c",
      "370db43779bf4bd68a0d10c0865be7c0",
      "6ed6708de5ce40e5991c575c9b16ff13",
      "c329f91721ed4c049ba018dd798cfde9",
      "8da97acfee6b41c7b6f7ab1563267afd",
      "b99d2ac2de12484b89de08b154ba9f04",
      "7e7613e61a9c4ffeb6e99e78bd1ac1c4",
      "22777627a25c47dbb45a9481eb02a7c5",
      "0f503286d9cc41fb8d69f0feff879b71",
      "001a2da04ade4408a40f165b512fa3c7",
      "2ecb0d01c0c44cd5911179ec0e1e5b31",
      "15b34f0f9e2a435fb209d3d5ffc4b27c",
      "1b11174edbf545baa86d4d44452d2bb0",
      "62725b0f9032418bb9d00c8a6cb083b2",
      "72ebdb4847124763a7297dda52999a1d",
      "b5910b4a98a745688ca26b4a40d54ffe",
      "0d699e1e0f7b4f1ab9de717a4ffcdabf",
      "9b6597dcf03042a481de63c808212420",
      "84e817aa939a428880ef2fbd0cd5f892",
      "94922bc0fc9345779b2e3ffd4dc3a1ed"
     ]
    },
    "id": "kKbbnOmsHUyu",
    "outputId": "91305b10-8eb4-4b6d-86b6-828633602f25"
   },
   "outputs": [
    {
     "name": "stderr",
     "output_type": "stream",
     "text": [
      "Using bfloat16 Automatic Mixed Precision (AMP)\n",
      "You are using the plain ModelCheckpoint callback. Consider using LitModelCheckpoint which with seamless uploading to Model registry.\n",
      "GPU available: True (cuda), used: True\n",
      "TPU available: False, using: 0 TPU cores\n",
      "HPU available: False, using: 0 HPUs\n"
     ]
    }
   ],
   "source": [
    "# from lightning.pytorch.callbacks import ModelCheckpoint\n",
    "from lightning.pytorch.loggers import CSVLogger\n",
    "import os\n",
    "\n",
    "# CHECKPOINT_DIR = \"/media/storage/alif/checkpoints\"\n",
    "# os.makedirs(CHECKPOINT_DIR, exist_ok=True)\n",
    "\n",
    "# checkpoint_callback = ModelCheckpoint(\n",
    "#     dirpath=CHECKPOINT_DIR,\n",
    "#     filename=\"best-model-chartinstructllama-statista-v2\",\n",
    "#     monitor=\"val_relaxed_acc\",\n",
    "#     mode=\"max\",\n",
    "#     save_top_k=1,\n",
    "#     save_last=False,\n",
    "#     save_weights_only=False,\n",
    "#     verbose=True,\n",
    "# )\n",
    "\n",
    "trainer = L.Trainer(\n",
    "        accelerator=\"gpu\",\n",
    "        devices=[0],\n",
    "        max_epochs=config.get(\"max_epochs\"),\n",
    "        accumulate_grad_batches=config.get(\"accumulate_grad_batches\"),\n",
    "        check_val_every_n_epoch=config.get(\"check_val_every_n_epoch\"),\n",
    "        gradient_clip_val=config.get(\"gradient_clip_val\"),\n",
    "        precision=\"bf16-mixed\",\n",
    "        logger=CSVLogger(save_dir=\"/media/storage/alif/logs_v2\"),\n",
    "        # callbacks=[checkpoint_callback],\n",
    ")"
   ]
  },
  {
   "cell_type": "code",
   "execution_count": 18,
   "metadata": {},
   "outputs": [
    {
     "name": "stderr",
     "output_type": "stream",
     "text": [
      "LOCAL_RANK: 0 - CUDA_VISIBLE_DEVICES: [0]\n",
      "\n",
      "  | Name  | Type      | Params | Mode \n",
      "--------------------------------------------\n",
      "0 | model | PeftModel | 3.6 B  | train\n",
      "--------------------------------------------\n",
      "21.5 M    Trainable params\n",
      "3.5 B     Non-trainable params\n",
      "3.6 B     Total params\n",
      "14,280.475Total estimated model params size (MB)\n",
      "3472      Modules in train mode\n",
      "866       Modules in eval mode\n"
     ]
    },
    {
     "data": {
      "application/vnd.jupyter.widget-view+json": {
       "model_id": "9b0ac662200140eaa6a96b80b6e33370",
       "version_major": 2,
       "version_minor": 0
      },
      "text/plain": [
       "Sanity Checking: |                                        | 0/? [00:00<?, ?it/s]"
      ]
     },
     "metadata": {},
     "output_type": "display_data"
    },
    {
     "name": "stderr",
     "output_type": "stream",
     "text": [
      "Expanding inputs for image tokens in LLaVa should be done in processing. Please add `patch_size` and `vision_feature_select_strategy` to the model's processing config or set directly with `processor.patch_size = {{patch_size}}` and processor.vision_feature_select_strategy = {{vision_feature_select_strategy}}`. Using processors without these attributes in the config is deprecated and will throw an error in v4.50.\n",
      "Expanding inputs for image tokens in LLaVa should be done in processing. Please add `patch_size` and `vision_feature_select_strategy` to the model's processing config or set directly with `processor.patch_size = {{patch_size}}` and processor.vision_feature_select_strategy = {{vision_feature_select_strategy}}`. Using processors without these attributes in the config is deprecated and will throw an error in v4.50.\n",
      "Expanding inputs for image tokens in LLaVa should be done in processing. Please add `patch_size` and `vision_feature_select_strategy` to the model's processing config or set directly with `processor.patch_size = {{patch_size}}` and processor.vision_feature_select_strategy = {{vision_feature_select_strategy}}`. Using processors without these attributes in the config is deprecated and will throw an error in v4.50.\n"
     ]
    },
    {
     "data": {
      "application/vnd.jupyter.widget-view+json": {
       "model_id": "e8441fb0dcd54fa2ae547dfab245d81b",
       "version_major": 2,
       "version_minor": 0
      },
      "text/plain": [
       "Training: |                                               | 0/? [00:00<?, ?it/s]"
      ]
     },
     "metadata": {},
     "output_type": "display_data"
    },
    {
     "name": "stderr",
     "output_type": "stream",
     "text": [
      "Expanding inputs for image tokens in LLaVa should be done in processing. Please add `patch_size` and `vision_feature_select_strategy` to the model's processing config or set directly with `processor.patch_size = {{patch_size}}` and processor.vision_feature_select_strategy = {{vision_feature_select_strategy}}`. Using processors without these attributes in the config is deprecated and will throw an error in v4.50.\n",
      "Expanding inputs for image tokens in LLaVa should be done in processing. Please add `patch_size` and `vision_feature_select_strategy` to the model's processing config or set directly with `processor.patch_size = {{patch_size}}` and processor.vision_feature_select_strategy = {{vision_feature_select_strategy}}`. Using processors without these attributes in the config is deprecated and will throw an error in v4.50.\n",
      "Expanding inputs for image tokens in LLaVa should be done in processing. Please add `patch_size` and `vision_feature_select_strategy` to the model's processing config or set directly with `processor.patch_size = {{patch_size}}` and processor.vision_feature_select_strategy = {{vision_feature_select_strategy}}`. Using processors without these attributes in the config is deprecated and will throw an error in v4.50.\n"
     ]
    },
    {
     "data": {
      "application/vnd.jupyter.widget-view+json": {
       "model_id": "c4f777c4f8fe498ab29cbec5f83fbeb8",
       "version_major": 2,
       "version_minor": 0
      },
      "text/plain": [
       "Validation: |                                             | 0/? [00:00<?, ?it/s]"
      ]
     },
     "metadata": {},
     "output_type": "display_data"
    },
    {
     "name": "stderr",
     "output_type": "stream",
     "text": [
      "Expanding inputs for image tokens in LLaVa should be done in processing. Please add `patch_size` and `vision_feature_select_strategy` to the model's processing config or set directly with `processor.patch_size = {{patch_size}}` and processor.vision_feature_select_strategy = {{vision_feature_select_strategy}}`. Using processors without these attributes in the config is deprecated and will throw an error in v4.50.\n",
      "Expanding inputs for image tokens in LLaVa should be done in processing. Please add `patch_size` and `vision_feature_select_strategy` to the model's processing config or set directly with `processor.patch_size = {{patch_size}}` and processor.vision_feature_select_strategy = {{vision_feature_select_strategy}}`. Using processors without these attributes in the config is deprecated and will throw an error in v4.50.\n",
      "Expanding inputs for image tokens in LLaVa should be done in processing. Please add `patch_size` and `vision_feature_select_strategy` to the model's processing config or set directly with `processor.patch_size = {{patch_size}}` and processor.vision_feature_select_strategy = {{vision_feature_select_strategy}}`. Using processors without these attributes in the config is deprecated and will throw an error in v4.50.\n",
      "Expanding inputs for image tokens in LLaVa should be done in processing. Please add `patch_size` and `vision_feature_select_strategy` to the model's processing config or set directly with `processor.patch_size = {{patch_size}}` and processor.vision_feature_select_strategy = {{vision_feature_select_strategy}}`. Using processors without these attributes in the config is deprecated and will throw an error in v4.50.\n",
      "Expanding inputs for image tokens in LLaVa should be done in processing. Please add `patch_size` and `vision_feature_select_strategy` to the model's processing config or set directly with `processor.patch_size = {{patch_size}}` and processor.vision_feature_select_strategy = {{vision_feature_select_strategy}}`. Using processors without these attributes in the config is deprecated and will throw an error in v4.50.\n"
     ]
    },
    {
     "data": {
      "application/vnd.jupyter.widget-view+json": {
       "model_id": "fb14c2a7ee434bdeb22966b811441aee",
       "version_major": 2,
       "version_minor": 0
      },
      "text/plain": [
       "Validation: |                                             | 0/? [00:00<?, ?it/s]"
      ]
     },
     "metadata": {},
     "output_type": "display_data"
    },
    {
     "name": "stderr",
     "output_type": "stream",
     "text": [
      "`Trainer.fit` stopped: `max_epochs=2` reached.\n"
     ]
    },
    {
     "name": "stdout",
     "output_type": "stream",
     "text": [
      "Training time: 60030.92 seconds\n"
     ]
    }
   ],
   "source": [
    "import time\n",
    "\n",
    "start = time.time()\n",
    "trainer.fit(model_module)\n",
    "end = time.time()\n",
    "\n",
    "duration = end - start\n",
    "print(f\"Training time: {duration:.2f} seconds\")"
   ]
  },
  {
   "cell_type": "code",
   "execution_count": 21,
   "metadata": {
    "colab": {
     "base_uri": "https://localhost:8080/"
    },
    "id": "AO49Z2mkIC-E",
    "outputId": "9d4f3eaa-7a73-4330-ceb0-817130040215"
   },
   "outputs": [
    {
     "data": {
      "text/plain": [
       "['trained_model_statista/processor_config.json']"
      ]
     },
     "execution_count": 21,
     "metadata": {},
     "output_type": "execute_result"
    }
   ],
   "source": [
    "# # Save Model locally\n",
    "# model_module.model.save_pretrained('trained_model_indochart_v2')\n",
    "# model_module.processor.save_pretrained('trained_model_indochart_v2')"
   ]
  },
  {
   "cell_type": "code",
   "execution_count": null,
   "metadata": {
    "colab": {
     "referenced_widgets": [
      "e1acd44273a744dd9b307549c3b1574e",
      "9e19a4f1ebad43ad80bdca873885a8e5"
     ]
    },
    "id": "2hEKe6h_IJrA",
    "outputId": "19b78067-46e6-4465-929f-0f40469cccef"
   },
   "outputs": [
    {
     "data": {
      "application/vnd.jupyter.widget-view+json": {
       "model_id": "edd5f528517e46dcb540a4d6c1b90788",
       "version_major": 2,
       "version_minor": 0
      },
      "text/plain": [
       "adapter_model.safetensors:   0%|          | 0.00/86.0M [00:00<?, ?B/s]"
      ]
     },
     "metadata": {},
     "output_type": "display_data"
    },
    {
     "name": "stderr",
     "output_type": "stream",
     "text": [
      "No files have been modified since last commit. Skipping to prevent empty commit.\n",
      "WARNING:huggingface_hub.hf_api:No files have been modified since last commit. Skipping to prevent empty commit.\n"
     ]
    },
    {
     "data": {
      "text/plain": [
       "CommitInfo(commit_url='https://huggingface.co/akunskripsiapillv1/finetuned-chartinstruct-llama2-statista-v2/commit/652343dcad9a731a9c798282f54ae9e8e5fe6485', commit_message='Upload processor', commit_description='', oid='652343dcad9a731a9c798282f54ae9e8e5fe6485', pr_url=None, repo_url=RepoUrl('https://huggingface.co/akunskripsiapillv1/finetuned-chartinstruct-llama2-statista-v2', endpoint='https://huggingface.co', repo_type='model', repo_id='akunskripsiapillv1/finetuned-chartinstruct-llama2-statista-v2'), pr_revision=None, pr_num=None)"
      ]
     },
     "execution_count": 19,
     "metadata": {},
     "output_type": "execute_result"
    }
   ],
   "source": [
    "from huggingface_hub import create_repo, login\n",
    "\n",
    "hf_token=\"HF_TOKEN\"\n",
    "login(hf_token)\n",
    "\n",
    "# Define model and processor\n",
    "model = model_module.model\n",
    "processor = model_module.processor\n",
    "\n",
    "# Define the repository name where you want to upload the model\n",
    "repo_name = \"akunskripsiapillv1/finetuned-chartinstruct-llama2-statista-v2\"\n",
    "\n",
    "# Create the repo (if it doesn't exist)\n",
    "create_repo(repo_name, exist_ok=True)\n",
    "\n",
    "# Push model and processor to Hugging Face Hub\n",
    "model.push_to_hub(repo_name)\n",
    "processor.push_to_hub(repo_name)"
   ]
  },
  {
   "cell_type": "markdown",
   "metadata": {
    "id": "gE-py2CqHylS"
   },
   "source": [
    "# Inference"
   ]
  },
  {
   "cell_type": "markdown",
   "metadata": {
    "id": "hkYNiG43c6cP"
   },
   "source": [
    "Let's see if the model has learned something. We'll load the model from the hub first. Notice that, as we only trained adapters on top of the base model, the repository on the hub to which we pushed only contains the weights and configuration of the adapters. This is a very lightweight file smaller than 100 MB.\n",
    "\n",
    "Thanks to the PEFT integration in Transformers, the from_pretrained method will automatically load the weights of the base model as well as the adapter weights.\n",
    "\n",
    "To reduce inference costs, we'll again load the model in 4 bits by passing a quantization_config, in order to reduce memory usage."
   ]
  },
  {
   "cell_type": "code",
   "execution_count": 20,
   "metadata": {
    "colab": {
     "referenced_widgets": [
      "e6e1c79d673348d8a60f3a6042f7a8df"
     ]
    },
    "id": "4IlrlPYsH5so",
    "outputId": "304489d2-9e9a-44c5-8828-a67378bf8273"
   },
   "outputs": [
    {
     "data": {
      "application/vnd.jupyter.widget-view+json": {
       "model_id": "a5c14f617d904e2188f8545836339be6",
       "version_major": 2,
       "version_minor": 0
      },
      "text/plain": [
       "adapter_config.json:   0%|          | 0.00/1.05k [00:00<?, ?B/s]"
      ]
     },
     "metadata": {},
     "output_type": "display_data"
    },
    {
     "name": "stderr",
     "output_type": "stream",
     "text": [
      "`low_cpu_mem_usage` was None, now default to True since model is quantized.\n"
     ]
    },
    {
     "data": {
      "application/vnd.jupyter.widget-view+json": {
       "model_id": "09a4e635b5584661a11da4f83be39318",
       "version_major": 2,
       "version_minor": 0
      },
      "text/plain": [
       "Loading checkpoint shards:   0%|          | 0/3 [00:00<?, ?it/s]"
      ]
     },
     "metadata": {},
     "output_type": "display_data"
    },
    {
     "data": {
      "application/vnd.jupyter.widget-view+json": {
       "model_id": "5dbbf527e58d422dbeac04b66364dcc3",
       "version_major": 2,
       "version_minor": 0
      },
      "text/plain": [
       "adapter_model.safetensors:   0%|          | 0.00/86.0M [00:00<?, ?B/s]"
      ]
     },
     "metadata": {},
     "output_type": "display_data"
    }
   ],
   "source": [
    "from transformers import AutoProcessor, BitsAndBytesConfig, LlavaForConditionalGeneration\n",
    "import torch\n",
    "\n",
    "processor = AutoProcessor.from_pretrained('akunskripsiapillv1/finetuned-chartinstruct-llama2-statista-v2')\n",
    "\n",
    "# Define quantization config\n",
    "quantization_config = BitsAndBytesConfig(\n",
    "    load_in_4bit=True, bnb_4bit_quant_type=\"nf4\", bnb_4bit_compute_dtype=torch.float16\n",
    ")\n",
    "# Load the base model with adapters on top\n",
    "model = LlavaForConditionalGeneration.from_pretrained(\n",
    "    'akunskripsiapillv1/finetuned-chartinstruct-llama2-statista-v2',\n",
    "    torch_dtype=torch.float16,\n",
    "    quantization_config=quantization_config,\n",
    ")"
   ]
  },
  {
   "cell_type": "code",
   "execution_count": 21,
   "metadata": {
    "id": "pPGVuBc6IeWP",
    "outputId": "c8f0089e-058e-496b-b38a-570e76e62432"
   },
   "outputs": [
    {
     "name": "stderr",
     "output_type": "stream",
     "text": [
      "Expanding inputs for image tokens in LLaVa should be done in processing. Please add `patch_size` and `vision_feature_select_strategy` to the model's processing config or set directly with `processor.patch_size = {{patch_size}}` and processor.vision_feature_select_strategy = {{vision_feature_select_strategy}}`. Using processors without these attributes in the config is deprecated and will throw an error in v4.50.\n"
     ]
    }
   ],
   "source": [
    "# Load example\n",
    "from PIL import Image\n",
    "from io import BytesIO\n",
    "\n",
    "sample_idx = 0\n",
    "query = test_statista[sample_idx]['query']\n",
    "\n",
    "test_image = Image.open(BytesIO(test_statista[sample_idx]['image'])).convert('RGB')\n",
    "prompt = f\"<image>\\n Question: {query} Answer:\"\n",
    "inputs = processor(text=prompt, images=[test_image], return_tensors=\"pt\").to(\"cuda\")\n",
    "inputs['pixel_values'] = inputs['pixel_values'].to(torch.float16)\n",
    "\n",
    "# Generate token IDs. Change the max_new_tokens based on your task.\n",
    "generated_ids = model.generate(**inputs, max_new_tokens=256)\n",
    "# Decode back into text\n",
    "generated_texts = processor.batch_decode(generated_ids, skip_special_tokens=True)"
   ]
  },
  {
   "cell_type": "code",
   "execution_count": 22,
   "metadata": {},
   "outputs": [
    {
     "data": {
      "image/png": "[encoded data removed]",
      "text/plain": [
       "<Figure size 640x480 with 1 Axes>"
      ]
     },
     "metadata": {},
     "output_type": "display_data"
    },
    {
     "name": "stdout",
     "output_type": "stream",
     "text": [
      "['\\n Question: Buatkan deskripsi dari grafik berikut ini secara lengkap dan informatif Answer: Statistik ini menunjukkan jenis mobil yang digunakan oleh pengemudi yang mengemudi di Inggris pada tahun 2018, dengan jumlah mil per jam yang ditempuh. Ditemukan bahwa mobil penumpang yang paling digunakan oleh pengemudi yang mengemudi adalah car-van, dengan rata-rata 375 mil per jam. Mobil penumpang lainnya yang paling digunakan oleh pengemudi yang mengemudi adalah surfis rai, dengan rata-rata 120 mil per jam. Mobil penumpang lainnya yang paling digunakan oleh pengemudi yang mengemudi adalah car-van, dengan rata-rata 42 mil per jam. Pada tahun 2018, sekitar 20 persen dari semua pengemudi yang mengemudi di Inggr']\n"
     ]
    }
   ],
   "source": [
    "import matplotlib.pyplot as plt\n",
    "\n",
    "plt.imshow(test_image)\n",
    "plt.axis('off')  # Hilangkan axis\n",
    "plt.show()\n",
    "\n",
    "\n",
    "print(generated_texts)"
   ]
  },
  {
   "cell_type": "code",
   "execution_count": 23,
   "metadata": {
    "id": "aynfM6avMl2V"
   },
   "outputs": [
    {
     "name": "stdout",
     "output_type": "stream",
     "text": [
      "Statistik ini membandingkan jarak rata-rata yang ditempuh per orang setiap tahun untuk tujuan bisnis di Inggris pada tahun 2018, dengan moda transportasi. Perjalanan Surface Rail berada di posisi kedua, dengan rata-rata 120 mil yang ditempuh per orang per tahun untuk tujuan bisnis.\n"
     ]
    }
   ],
   "source": [
    "# Ground truth answer\n",
    "print(test_statista[sample_idx]['label'])"
   ]
  },
  {
   "cell_type": "code",
   "execution_count": 24,
   "metadata": {
    "colab": {
     "base_uri": "https://localhost:8080/"
    },
    "id": "DcOVphfrJJkG",
    "outputId": "afe1207c-1393-40e8-d0f3-4de85af1993e"
   },
   "outputs": [],
   "source": [
    "# Load example\n",
    "from PIL import Image\n",
    "from io import BytesIO\n",
    "\n",
    "sample_idx = 11\n",
    "query = test_statista[sample_idx]['query']\n",
    "\n",
    "test_image = Image.open(BytesIO(test_statista[sample_idx]['image'])).convert('RGB')\n",
    "prompt = f\"<image>\\n Question: {query} Answer:\"\n",
    "inputs = processor(text=prompt, images=[test_image], return_tensors=\"pt\").to(\"cuda\")\n",
    "inputs['pixel_values'] = inputs['pixel_values'].to(torch.float16)\n",
    "\n",
    "# Generate token IDs. Change the max_new_tokens based on your task.\n",
    "generated_ids = model.generate(**inputs, max_new_tokens=256)\n",
    "# Decode back into text\n",
    "generated_texts = processor.batch_decode(generated_ids, skip_special_tokens=True)"
   ]
  },
  {
   "cell_type": "code",
   "execution_count": 25,
   "metadata": {},
   "outputs": [
    {
     "data": {
      "image/png": "[encoded data removed]",
      "text/plain": [
       "<Figure size 640x480 with 1 Axes>"
      ]
     },
     "metadata": {},
     "output_type": "display_data"
    },
    {
     "name": "stdout",
     "output_type": "stream",
     "text": [
      "['\\n Question: Buatkan deskripsi dari grafik berikut ini secara lengkap dan informatif Answer: Statistik ini menunjukkan pengeluaran pemerintah untuk program pemerintahan laut Angkatan Laut A.S. pada tahun fiskal 2018 dan 2025. Pada tahun 2018, pemerintah AS menghabiskan sekitar 70,9 miliar dolar AS untuk program pemerintahan laut. Pada tahun 2025, pemerintah AS diproyeksikan menghabiskan sekitar 84,6 miliar dolar AS untuk program pemerintahan laut. Program pemerintahan laut A.S. termasuk pengeluaran untuk kapal pengawal, kapal penyedia layanan, dan pengeluaran untuk pengawalan dan pengawalan. Kapal pengawalan A.S. memiliki kapasitas sekitar 3.700. Kapal penyedia layanan A.S. memil']\n"
     ]
    }
   ],
   "source": [
    "import matplotlib.pyplot as plt\n",
    "\n",
    "plt.imshow(test_image)\n",
    "plt.axis('off')  # Hilangkan axis\n",
    "plt.show()\n",
    "\n",
    "\n",
    "print(generated_texts)"
   ]
  },
  {
   "cell_type": "code",
   "execution_count": 26,
   "metadata": {},
   "outputs": [
    {
     "name": "stdout",
     "output_type": "stream",
     "text": [
      "Statistik ini menunjukkan pengeluaran program ruang pemerintah global pada tahun 2018 dan memberikan perkiraan untuk tahun 2025. Pada tahun 2018, pengeluaran pemerintah untuk program luar angkasa di seluruh dunia berjumlah 70,9 miliar dolar AS. Amerika Serikat adalah pemboros terkemuka di tahun itu.\n"
     ]
    }
   ],
   "source": [
    "# Ground truth answer\n",
    "print(test_statista[sample_idx]['label'])"
   ]
  },
  {
   "cell_type": "code",
   "execution_count": 27,
   "metadata": {},
   "outputs": [],
   "source": [
    "# Load example\n",
    "from PIL import Image\n",
    "from io import BytesIO\n",
    "\n",
    "sample_idx = 111\n",
    "query = test_statista[sample_idx]['query']\n",
    "\n",
    "test_image = Image.open(BytesIO(test_statista[sample_idx]['image'])).convert('RGB')\n",
    "prompt = f\"<image>\\n Question: {query} Answer:\"\n",
    "inputs = processor(text=prompt, images=[test_image], return_tensors=\"pt\").to(\"cuda\")\n",
    "inputs['pixel_values'] = inputs['pixel_values'].to(torch.float16)\n",
    "\n",
    "# Generate token IDs. Change the max_new_tokens based on your task.\n",
    "generated_ids = model.generate(**inputs, max_new_tokens=256)\n",
    "# Decode back into text\n",
    "generated_texts = processor.batch_decode(generated_ids, skip_special_tokens=True)"
   ]
  },
  {
   "cell_type": "code",
   "execution_count": 28,
   "metadata": {},
   "outputs": [
    {
     "data": {
      "image/png": "[encoded data removed]",
      "text/plain": [
       "<Figure size 640x480 with 1 Axes>"
      ]
     },
     "metadata": {},
     "output_type": "display_data"
    },
    {
     "name": "stdout",
     "output_type": "stream",
     "text": [
      "['\\n Question: Buatkan deskripsi dari grafik berikut ini secara lengkap dan informatif Answer: Statistik ini menunjukkan total pasokan padi global dari tahun 2000 hingga 2019. Pada tahun 2019, total pasokan padi global berjumlah sekitar 738,75 juta metrik ton. Padi adalah jenis buah yang diproduksi dari pohon padi. Padi adalah salah satu jenis buah yang paling banyak diproduksi di dunia. Padi digunakan untuk makanan, minuman, dan bahan baku untuk produksi tekstil. Padi juga digunakan sebagai bahan baku untuk produksi bahan bakar bensin. Padi juga digunakan sebagai bahan bakar bensin. Padi juga digunakan sebagai bahan bakar bensin. Padi juga digunakan sebagai bahan bakar bensin. Padi juga dig']\n"
     ]
    }
   ],
   "source": [
    "import matplotlib.pyplot as plt\n",
    "\n",
    "plt.imshow(test_image)\n",
    "plt.axis('off')  # Hilangkan axis\n",
    "plt.show()\n",
    "\n",
    "print(generated_texts)"
   ]
  },
  {
   "cell_type": "code",
   "execution_count": 29,
   "metadata": {},
   "outputs": [
    {
     "name": "stdout",
     "output_type": "stream",
     "text": [
      "Statistik ini menggambarkan total pasokan padi di seluruh dunia dari 2000/2001 hingga 2018/2019, diukur dalam juta metrik ton setara yang digiling. Pada 2018/2019, total pasokan global beras berjumlah sekitar 738,75 juta metrik ton.\n"
     ]
    }
   ],
   "source": [
    "# Ground truth answer\n",
    "print(test_statista[sample_idx]['label'])"
   ]
  },
  {
   "cell_type": "code",
   "execution_count": 30,
   "metadata": {},
   "outputs": [],
   "source": [
    "# Load example\n",
    "from PIL import Image\n",
    "from io import BytesIO\n",
    "\n",
    "sample_idx = 1111\n",
    "query = test_statista[sample_idx]['query']\n",
    "\n",
    "test_image = Image.open(BytesIO(test_statista[sample_idx]['image'])).convert('RGB')\n",
    "prompt = f\"<image>\\n Question: {query} Answer:\"\n",
    "inputs = processor(text=prompt, images=[test_image], return_tensors=\"pt\").to(\"cuda\")\n",
    "inputs['pixel_values'] = inputs['pixel_values'].to(torch.float16)\n",
    "\n",
    "# Generate token IDs. Change the max_new_tokens based on your task.\n",
    "generated_ids = model.generate(**inputs, max_new_tokens=256)\n",
    "# Decode back into text\n",
    "generated_texts = processor.batch_decode(generated_ids, skip_special_tokens=True)"
   ]
  },
  {
   "cell_type": "code",
   "execution_count": 31,
   "metadata": {},
   "outputs": [
    {
     "data": {
      "image/png": "[encoded data removed]",
      "text/plain": [
       "<Figure size 640x480 with 1 Axes>"
      ]
     },
     "metadata": {},
     "output_type": "display_data"
    },
    {
     "name": "stdout",
     "output_type": "stream",
     "text": [
      "['\\n Question: Buatkan deskripsi dari grafik berikut ini secara lengkap dan informatif Answer: Statistik ini menunjukkan jumlah aplikasi yang tersedia di Apple App Store dari Juli 2008 hingga Januari 2017. Pada Januari 2017, ada sekitar 2,2 juta aplikasi yang tersedia di Apple App Store. Apple App Store adalah layanan unduhan aplikasi yang dikembangkan oleh Apple Inc. dan dirilis pada tahun 2008. Pada tahun 2011, Apple mengumumkan bahwa 100.000 aplikasi telah diunduhan sekitar 100 juta kali. Pada tahun 2016, Apple mengumumkan bahwa 200.000 aplikasi telah diunduhan sekitar 200 juta kali. Apple App Store adalah salah satu platform unduhan aplikasi terkemuka di dunia. Pada tahun 2016, Apple App Store']\n"
     ]
    }
   ],
   "source": [
    "import matplotlib.pyplot as plt\n",
    "\n",
    "plt.imshow(test_image)\n",
    "plt.axis('off')  # Hilangkan axis\n",
    "plt.show()\n",
    "\n",
    "print(generated_texts)"
   ]
  },
  {
   "cell_type": "code",
   "execution_count": 32,
   "metadata": {},
   "outputs": [
    {
     "name": "stdout",
     "output_type": "stream",
     "text": [
      "Statistik ini memberikan informasi tentang jumlah aplikasi yang tersedia di Apple App Store sejak Juli 2008. Pada Januari 2017, 2,2 juta aplikasi seluler tersedia untuk diunduh untuk berbagai perangkat iOS.\n"
     ]
    }
   ],
   "source": [
    "# Ground truth answer\n",
    "print(test_statista[sample_idx]['label'])"
   ]
  }
 ],
 "metadata": {
  "accelerator": "GPU",
  "colab": {
   "gpuType": "T4",
   "machine_shape": "hm",
   "provenance": []
  },
  "kaggle": {
   "accelerator": "gpu",
   "dataSources": [],
   "dockerImageVersionId": 30919,
   "isGpuEnabled": true,
   "isInternetEnabled": true,
   "language": "python",
   "sourceType": "notebook"
  },
  "kernelspec": {
   "display_name": "Python 3",
   "language": "python",
   "name": "python3"
  },
  "language_info": {
   "codemirror_mode": {
    "name": "ipython",
    "version": 3
   },
   "file_extension": ".py",
   "mimetype": "text/x-python",
   "name": "python",
   "nbconvert_exporter": "python",
   "pygments_lexer": "ipython3",
   "version": "3.12.4"
  },
  "widgets": {
   "application/vnd.jupyter.widget-state+json": {
    "001a2da04ade4408a40f165b512fa3c7": {
     "model_module": "@jupyter-widgets/controls",
     "model_module_version": "1.5.0",
     "model_name": "HTMLModel",
     "state": {
      "_dom_classes": [],
      "_model_module": "@jupyter-widgets/controls",
      "_model_module_version": "1.5.0",
      "_model_name": "HTMLModel",
      "_view_count": null,
      "_view_module": "@jupyter-widgets/controls",
      "_view_module_version": "1.5.0",
      "_view_name": "HTMLView",
      "description": "",
      "description_tooltip": null,
      "layout": "IPY_MODEL_b5910b4a98a745688ca26b4a40d54ffe",
      "placeholder": "​",
      "style": "IPY_MODEL_0d699e1e0f7b4f1ab9de717a4ffcdabf",
      "value": " 5/5 [00:12&lt;00:00,  0.40it/s]"
     }
    },
    "0d699e1e0f7b4f1ab9de717a4ffcdabf": {
     "model_module": "@jupyter-widgets/controls",
     "model_module_version": "1.5.0",
     "model_name": "DescriptionStyleModel",
     "state": {
      "_model_module": "@jupyter-widgets/controls",
      "_model_module_version": "1.5.0",
      "_model_name": "DescriptionStyleModel",
      "_view_count": null,
      "_view_module": "@jupyter-widgets/base",
      "_view_module_version": "1.2.0",
      "_view_name": "StyleView",
      "description_width": ""
     }
    },
    "0f503286d9cc41fb8d69f0feff879b71": {
     "model_module": "@jupyter-widgets/controls",
     "model_module_version": "1.5.0",
     "model_name": "FloatProgressModel",
     "state": {
      "_dom_classes": [],
      "_model_module": "@jupyter-widgets/controls",
      "_model_module_version": "1.5.0",
      "_model_name": "FloatProgressModel",
      "_view_count": null,
      "_view_module": "@jupyter-widgets/controls",
      "_view_module_version": "1.5.0",
      "_view_name": "ProgressView",
      "bar_style": "",
      "description": "",
      "description_tooltip": null,
      "layout": "IPY_MODEL_62725b0f9032418bb9d00c8a6cb083b2",
      "max": 5,
      "min": 0,
      "orientation": "horizontal",
      "style": "IPY_MODEL_72ebdb4847124763a7297dda52999a1d",
      "value": 5
     }
    },
    "15b34f0f9e2a435fb209d3d5ffc4b27c": {
     "model_module": "@jupyter-widgets/base",
     "model_module_version": "1.2.0",
     "model_name": "LayoutModel",
     "state": {
      "_model_module": "@jupyter-widgets/base",
      "_model_module_version": "1.2.0",
      "_model_name": "LayoutModel",
      "_view_count": null,
      "_view_module": "@jupyter-widgets/base",
      "_view_module_version": "1.2.0",
      "_view_name": "LayoutView",
      "align_content": null,
      "align_items": null,
      "align_self": null,
      "border": null,
      "bottom": null,
      "display": null,
      "flex": null,
      "flex_flow": null,
      "grid_area": null,
      "grid_auto_columns": null,
      "grid_auto_flow": null,
      "grid_auto_rows": null,
      "grid_column": null,
      "grid_gap": null,
      "grid_row": null,
      "grid_template_areas": null,
      "grid_template_columns": null,
      "grid_template_rows": null,
      "height": null,
      "justify_content": null,
      "justify_items": null,
      "left": null,
      "margin": null,
      "max_height": null,
      "max_width": null,
      "min_height": null,
      "min_width": null,
      "object_fit": null,
      "object_position": null,
      "order": null,
      "overflow": null,
      "overflow_x": null,
      "overflow_y": null,
      "padding": null,
      "right": null,
      "top": null,
      "visibility": null,
      "width": null
     }
    },
    "1b11174edbf545baa86d4d44452d2bb0": {
     "model_module": "@jupyter-widgets/controls",
     "model_module_version": "1.5.0",
     "model_name": "DescriptionStyleModel",
     "state": {
      "_model_module": "@jupyter-widgets/controls",
      "_model_module_version": "1.5.0",
      "_model_name": "DescriptionStyleModel",
      "_view_count": null,
      "_view_module": "@jupyter-widgets/base",
      "_view_module_version": "1.2.0",
      "_view_name": "StyleView",
      "description_width": ""
     }
    },
    "22777627a25c47dbb45a9481eb02a7c5": {
     "model_module": "@jupyter-widgets/controls",
     "model_module_version": "1.5.0",
     "model_name": "HTMLModel",
     "state": {
      "_dom_classes": [],
      "_model_module": "@jupyter-widgets/controls",
      "_model_module_version": "1.5.0",
      "_model_name": "HTMLModel",
      "_view_count": null,
      "_view_module": "@jupyter-widgets/controls",
      "_view_module_version": "1.5.0",
      "_view_name": "HTMLView",
      "description": "",
      "description_tooltip": null,
      "layout": "IPY_MODEL_15b34f0f9e2a435fb209d3d5ffc4b27c",
      "placeholder": "​",
      "style": "IPY_MODEL_1b11174edbf545baa86d4d44452d2bb0",
      "value": "Validation DataLoader 0: 100%"
     }
    },
    "26ae610db3c648508af397d33023a9a3": {
     "model_module": "@jupyter-widgets/base",
     "model_module_version": "1.2.0",
     "model_name": "LayoutModel",
     "state": {
      "_model_module": "@jupyter-widgets/base",
      "_model_module_version": "1.2.0",
      "_model_name": "LayoutModel",
      "_view_count": null,
      "_view_module": "@jupyter-widgets/base",
      "_view_module_version": "1.2.0",
      "_view_name": "LayoutView",
      "align_content": null,
      "align_items": null,
      "align_self": null,
      "border": null,
      "bottom": null,
      "display": null,
      "flex": null,
      "flex_flow": null,
      "grid_area": null,
      "grid_auto_columns": null,
      "grid_auto_flow": null,
      "grid_auto_rows": null,
      "grid_column": null,
      "grid_gap": null,
      "grid_row": null,
      "grid_template_areas": null,
      "grid_template_columns": null,
      "grid_template_rows": null,
      "height": null,
      "justify_content": null,
      "justify_items": null,
      "left": null,
      "margin": null,
      "max_height": null,
      "max_width": null,
      "min_height": null,
      "min_width": null,
      "object_fit": null,
      "object_position": null,
      "order": null,
      "overflow": null,
      "overflow_x": null,
      "overflow_y": null,
      "padding": null,
      "right": null,
      "top": null,
      "visibility": null,
      "width": null
     }
    },
    "2874a39d9636442a905b6de876dcb600": {
     "model_module": "@jupyter-widgets/controls",
     "model_module_version": "1.5.0",
     "model_name": "DescriptionStyleModel",
     "state": {
      "_model_module": "@jupyter-widgets/controls",
      "_model_module_version": "1.5.0",
      "_model_name": "DescriptionStyleModel",
      "_view_count": null,
      "_view_module": "@jupyter-widgets/base",
      "_view_module_version": "1.2.0",
      "_view_name": "StyleView",
      "description_width": ""
     }
    },
    "29d08408c5c04ca8acdd43bfd3b33b49": {
     "model_module": "@jupyter-widgets/controls",
     "model_module_version": "1.5.0",
     "model_name": "ProgressStyleModel",
     "state": {
      "_model_module": "@jupyter-widgets/controls",
      "_model_module_version": "1.5.0",
      "_model_name": "ProgressStyleModel",
      "_view_count": null,
      "_view_module": "@jupyter-widgets/base",
      "_view_module_version": "1.2.0",
      "_view_name": "StyleView",
      "bar_color": null,
      "description_width": ""
     }
    },
    "2a0d3cea13804619bdde7bc95b632f51": {
     "model_module": "@jupyter-widgets/controls",
     "model_module_version": "1.5.0",
     "model_name": "DescriptionStyleModel",
     "state": {
      "_model_module": "@jupyter-widgets/controls",
      "_model_module_version": "1.5.0",
      "_model_name": "DescriptionStyleModel",
      "_view_count": null,
      "_view_module": "@jupyter-widgets/base",
      "_view_module_version": "1.2.0",
      "_view_name": "StyleView",
      "description_width": ""
     }
    },
    "2cee00ce27e44b32919eeb0b9e460416": {
     "model_module": "@jupyter-widgets/controls",
     "model_module_version": "1.5.0",
     "model_name": "HBoxModel",
     "state": {
      "_dom_classes": [],
      "_model_module": "@jupyter-widgets/controls",
      "_model_module_version": "1.5.0",
      "_model_name": "HBoxModel",
      "_view_count": null,
      "_view_module": "@jupyter-widgets/controls",
      "_view_module_version": "1.5.0",
      "_view_name": "HBoxView",
      "box_style": "",
      "children": [
       "IPY_MODEL_93fbf704bba64286a0ee5bef2e1a0975",
       "IPY_MODEL_fac26cd54fe244588e0de072ad44544d",
       "IPY_MODEL_359f61696b7f4b6c922bd71021e50682"
      ],
      "layout": "IPY_MODEL_26ae610db3c648508af397d33023a9a3"
     }
    },
    "2ecb0d01c0c44cd5911179ec0e1e5b31": {
     "model_module": "@jupyter-widgets/base",
     "model_module_version": "1.2.0",
     "model_name": "LayoutModel",
     "state": {
      "_model_module": "@jupyter-widgets/base",
      "_model_module_version": "1.2.0",
      "_model_name": "LayoutModel",
      "_view_count": null,
      "_view_module": "@jupyter-widgets/base",
      "_view_module_version": "1.2.0",
      "_view_name": "LayoutView",
      "align_content": null,
      "align_items": null,
      "align_self": null,
      "border": null,
      "bottom": null,
      "display": "inline-flex",
      "flex": null,
      "flex_flow": "row wrap",
      "grid_area": null,
      "grid_auto_columns": null,
      "grid_auto_flow": null,
      "grid_auto_rows": null,
      "grid_column": null,
      "grid_gap": null,
      "grid_row": null,
      "grid_template_areas": null,
      "grid_template_columns": null,
      "grid_template_rows": null,
      "height": null,
      "justify_content": null,
      "justify_items": null,
      "left": null,
      "margin": null,
      "max_height": null,
      "max_width": null,
      "min_height": null,
      "min_width": null,
      "object_fit": null,
      "object_position": null,
      "order": null,
      "overflow": null,
      "overflow_x": null,
      "overflow_y": null,
      "padding": null,
      "right": null,
      "top": null,
      "visibility": "hidden",
      "width": "100%"
     }
    },
    "358b959cab4f4e21ac138c621df4185a": {
     "model_module": "@jupyter-widgets/controls",
     "model_module_version": "1.5.0",
     "model_name": "HTMLModel",
     "state": {
      "_dom_classes": [],
      "_model_module": "@jupyter-widgets/controls",
      "_model_module_version": "1.5.0",
      "_model_name": "HTMLModel",
      "_view_count": null,
      "_view_module": "@jupyter-widgets/controls",
      "_view_module_version": "1.5.0",
      "_view_name": "HTMLView",
      "description": "",
      "description_tooltip": null,
      "layout": "IPY_MODEL_d02fbf74f2514fb2ae234b564720456f",
      "placeholder": "​",
      "style": "IPY_MODEL_2a0d3cea13804619bdde7bc95b632f51",
      "value": " 40/40 [01:38&lt;00:00,  0.40it/s, v_num=10]"
     }
    },
    "359f61696b7f4b6c922bd71021e50682": {
     "model_module": "@jupyter-widgets/controls",
     "model_module_version": "1.5.0",
     "model_name": "HTMLModel",
     "state": {
      "_dom_classes": [],
      "_model_module": "@jupyter-widgets/controls",
      "_model_module_version": "1.5.0",
      "_model_name": "HTMLModel",
      "_view_count": null,
      "_view_module": "@jupyter-widgets/controls",
      "_view_module_version": "1.5.0",
      "_view_name": "HTMLView",
      "description": "",
      "description_tooltip": null,
      "layout": "IPY_MODEL_451e4863098943d48875be725cd7eb89",
      "placeholder": "​",
      "style": "IPY_MODEL_acbf9a8118284ce8bd62e7e4bb1116e0",
      "value": " 3/3 [00:10&lt;00:00,  3.39s/it]"
     }
    },
    "370db43779bf4bd68a0d10c0865be7c0": {
     "model_module": "@jupyter-widgets/controls",
     "model_module_version": "1.5.0",
     "model_name": "DescriptionStyleModel",
     "state": {
      "_model_module": "@jupyter-widgets/controls",
      "_model_module_version": "1.5.0",
      "_model_name": "DescriptionStyleModel",
      "_view_count": null,
      "_view_module": "@jupyter-widgets/base",
      "_view_module_version": "1.2.0",
      "_view_name": "StyleView",
      "description_width": ""
     }
    },
    "3dfe22d404a04cad92c1fe71de895670": {
     "model_module": "@jupyter-widgets/controls",
     "model_module_version": "1.5.0",
     "model_name": "HTMLModel",
     "state": {
      "_dom_classes": [],
      "_model_module": "@jupyter-widgets/controls",
      "_model_module_version": "1.5.0",
      "_model_name": "HTMLModel",
      "_view_count": null,
      "_view_module": "@jupyter-widgets/controls",
      "_view_module_version": "1.5.0",
      "_view_name": "HTMLView",
      "description": "",
      "description_tooltip": null,
      "layout": "IPY_MODEL_7e388f86946246db8fd1c81a804cb47c",
      "placeholder": "​",
      "style": "IPY_MODEL_370db43779bf4bd68a0d10c0865be7c0",
      "value": "Validation DataLoader 0: 100%"
     }
    },
    "451e4863098943d48875be725cd7eb89": {
     "model_module": "@jupyter-widgets/base",
     "model_module_version": "1.2.0",
     "model_name": "LayoutModel",
     "state": {
      "_model_module": "@jupyter-widgets/base",
      "_model_module_version": "1.2.0",
      "_model_name": "LayoutModel",
      "_view_count": null,
      "_view_module": "@jupyter-widgets/base",
      "_view_module_version": "1.2.0",
      "_view_name": "LayoutView",
      "align_content": null,
      "align_items": null,
      "align_self": null,
      "border": null,
      "bottom": null,
      "display": null,
      "flex": null,
      "flex_flow": null,
      "grid_area": null,
      "grid_auto_columns": null,
      "grid_auto_flow": null,
      "grid_auto_rows": null,
      "grid_column": null,
      "grid_gap": null,
      "grid_row": null,
      "grid_template_areas": null,
      "grid_template_columns": null,
      "grid_template_rows": null,
      "height": null,
      "justify_content": null,
      "justify_items": null,
      "left": null,
      "margin": null,
      "max_height": null,
      "max_width": null,
      "min_height": null,
      "min_width": null,
      "object_fit": null,
      "object_position": null,
      "order": null,
      "overflow": null,
      "overflow_x": null,
      "overflow_y": null,
      "padding": null,
      "right": null,
      "top": null,
      "visibility": null,
      "width": null
     }
    },
    "48aa5d18af03478392d22c9c678958a4": {
     "model_module": "@jupyter-widgets/base",
     "model_module_version": "1.2.0",
     "model_name": "LayoutModel",
     "state": {
      "_model_module": "@jupyter-widgets/base",
      "_model_module_version": "1.2.0",
      "_model_name": "LayoutModel",
      "_view_count": null,
      "_view_module": "@jupyter-widgets/base",
      "_view_module_version": "1.2.0",
      "_view_name": "LayoutView",
      "align_content": null,
      "align_items": null,
      "align_self": null,
      "border": null,
      "bottom": null,
      "display": null,
      "flex": null,
      "flex_flow": null,
      "grid_area": null,
      "grid_auto_columns": null,
      "grid_auto_flow": null,
      "grid_auto_rows": null,
      "grid_column": null,
      "grid_gap": null,
      "grid_row": null,
      "grid_template_areas": null,
      "grid_template_columns": null,
      "grid_template_rows": null,
      "height": null,
      "justify_content": null,
      "justify_items": null,
      "left": null,
      "margin": null,
      "max_height": null,
      "max_width": null,
      "min_height": null,
      "min_width": null,
      "object_fit": null,
      "object_position": null,
      "order": null,
      "overflow": null,
      "overflow_x": null,
      "overflow_y": null,
      "padding": null,
      "right": null,
      "top": null,
      "visibility": null,
      "width": null
     }
    },
    "56c2c865785c412bbcd78974b668055a": {
     "model_module": "@jupyter-widgets/base",
     "model_module_version": "1.2.0",
     "model_name": "LayoutModel",
     "state": {
      "_model_module": "@jupyter-widgets/base",
      "_model_module_version": "1.2.0",
      "_model_name": "LayoutModel",
      "_view_count": null,
      "_view_module": "@jupyter-widgets/base",
      "_view_module_version": "1.2.0",
      "_view_name": "LayoutView",
      "align_content": null,
      "align_items": null,
      "align_self": null,
      "border": null,
      "bottom": null,
      "display": null,
      "flex": "2",
      "flex_flow": null,
      "grid_area": null,
      "grid_auto_columns": null,
      "grid_auto_flow": null,
      "grid_auto_rows": null,
      "grid_column": null,
      "grid_gap": null,
      "grid_row": null,
      "grid_template_areas": null,
      "grid_template_columns": null,
      "grid_template_rows": null,
      "height": null,
      "justify_content": null,
      "justify_items": null,
      "left": null,
      "margin": null,
      "max_height": null,
      "max_width": null,
      "min_height": null,
      "min_width": null,
      "object_fit": null,
      "object_position": null,
      "order": null,
      "overflow": null,
      "overflow_x": null,
      "overflow_y": null,
      "padding": null,
      "right": null,
      "top": null,
      "visibility": null,
      "width": null
     }
    },
    "62725b0f9032418bb9d00c8a6cb083b2": {
     "model_module": "@jupyter-widgets/base",
     "model_module_version": "1.2.0",
     "model_name": "LayoutModel",
     "state": {
      "_model_module": "@jupyter-widgets/base",
      "_model_module_version": "1.2.0",
      "_model_name": "LayoutModel",
      "_view_count": null,
      "_view_module": "@jupyter-widgets/base",
      "_view_module_version": "1.2.0",
      "_view_name": "LayoutView",
      "align_content": null,
      "align_items": null,
      "align_self": null,
      "border": null,
      "bottom": null,
      "display": null,
      "flex": "2",
      "flex_flow": null,
      "grid_area": null,
      "grid_auto_columns": null,
      "grid_auto_flow": null,
      "grid_auto_rows": null,
      "grid_column": null,
      "grid_gap": null,
      "grid_row": null,
      "grid_template_areas": null,
      "grid_template_columns": null,
      "grid_template_rows": null,
      "height": null,
      "justify_content": null,
      "justify_items": null,
      "left": null,
      "margin": null,
      "max_height": null,
      "max_width": null,
      "min_height": null,
      "min_width": null,
      "object_fit": null,
      "object_position": null,
      "order": null,
      "overflow": null,
      "overflow_x": null,
      "overflow_y": null,
      "padding": null,
      "right": null,
      "top": null,
      "visibility": null,
      "width": null
     }
    },
    "68782fd35c474d9ea8c26a3e84cf7974": {
     "model_module": "@jupyter-widgets/base",
     "model_module_version": "1.2.0",
     "model_name": "LayoutModel",
     "state": {
      "_model_module": "@jupyter-widgets/base",
      "_model_module_version": "1.2.0",
      "_model_name": "LayoutModel",
      "_view_count": null,
      "_view_module": "@jupyter-widgets/base",
      "_view_module_version": "1.2.0",
      "_view_name": "LayoutView",
      "align_content": null,
      "align_items": null,
      "align_self": null,
      "border": null,
      "bottom": null,
      "display": null,
      "flex": null,
      "flex_flow": null,
      "grid_area": null,
      "grid_auto_columns": null,
      "grid_auto_flow": null,
      "grid_auto_rows": null,
      "grid_column": null,
      "grid_gap": null,
      "grid_row": null,
      "grid_template_areas": null,
      "grid_template_columns": null,
      "grid_template_rows": null,
      "height": null,
      "justify_content": null,
      "justify_items": null,
      "left": null,
      "margin": null,
      "max_height": null,
      "max_width": null,
      "min_height": null,
      "min_width": null,
      "object_fit": null,
      "object_position": null,
      "order": null,
      "overflow": null,
      "overflow_x": null,
      "overflow_y": null,
      "padding": null,
      "right": null,
      "top": null,
      "visibility": null,
      "width": null
     }
    },
    "6ed6708de5ce40e5991c575c9b16ff13": {
     "model_module": "@jupyter-widgets/base",
     "model_module_version": "1.2.0",
     "model_name": "LayoutModel",
     "state": {
      "_model_module": "@jupyter-widgets/base",
      "_model_module_version": "1.2.0",
      "_model_name": "LayoutModel",
      "_view_count": null,
      "_view_module": "@jupyter-widgets/base",
      "_view_module_version": "1.2.0",
      "_view_name": "LayoutView",
      "align_content": null,
      "align_items": null,
      "align_self": null,
      "border": null,
      "bottom": null,
      "display": null,
      "flex": "2",
      "flex_flow": null,
      "grid_area": null,
      "grid_auto_columns": null,
      "grid_auto_flow": null,
      "grid_auto_rows": null,
      "grid_column": null,
      "grid_gap": null,
      "grid_row": null,
      "grid_template_areas": null,
      "grid_template_columns": null,
      "grid_template_rows": null,
      "height": null,
      "justify_content": null,
      "justify_items": null,
      "left": null,
      "margin": null,
      "max_height": null,
      "max_width": null,
      "min_height": null,
      "min_width": null,
      "object_fit": null,
      "object_position": null,
      "order": null,
      "overflow": null,
      "overflow_x": null,
      "overflow_y": null,
      "padding": null,
      "right": null,
      "top": null,
      "visibility": null,
      "width": null
     }
    },
    "72ebdb4847124763a7297dda52999a1d": {
     "model_module": "@jupyter-widgets/controls",
     "model_module_version": "1.5.0",
     "model_name": "ProgressStyleModel",
     "state": {
      "_model_module": "@jupyter-widgets/controls",
      "_model_module_version": "1.5.0",
      "_model_name": "ProgressStyleModel",
      "_view_count": null,
      "_view_module": "@jupyter-widgets/base",
      "_view_module_version": "1.2.0",
      "_view_name": "StyleView",
      "bar_color": null,
      "description_width": ""
     }
    },
    "7e388f86946246db8fd1c81a804cb47c": {
     "model_module": "@jupyter-widgets/base",
     "model_module_version": "1.2.0",
     "model_name": "LayoutModel",
     "state": {
      "_model_module": "@jupyter-widgets/base",
      "_model_module_version": "1.2.0",
      "_model_name": "LayoutModel",
      "_view_count": null,
      "_view_module": "@jupyter-widgets/base",
      "_view_module_version": "1.2.0",
      "_view_name": "LayoutView",
      "align_content": null,
      "align_items": null,
      "align_self": null,
      "border": null,
      "bottom": null,
      "display": null,
      "flex": null,
      "flex_flow": null,
      "grid_area": null,
      "grid_auto_columns": null,
      "grid_auto_flow": null,
      "grid_auto_rows": null,
      "grid_column": null,
      "grid_gap": null,
      "grid_row": null,
      "grid_template_areas": null,
      "grid_template_columns": null,
      "grid_template_rows": null,
      "height": null,
      "justify_content": null,
      "justify_items": null,
      "left": null,
      "margin": null,
      "max_height": null,
      "max_width": null,
      "min_height": null,
      "min_width": null,
      "object_fit": null,
      "object_position": null,
      "order": null,
      "overflow": null,
      "overflow_x": null,
      "overflow_y": null,
      "padding": null,
      "right": null,
      "top": null,
      "visibility": null,
      "width": null
     }
    },
    "7e7613e61a9c4ffeb6e99e78bd1ac1c4": {
     "model_module": "@jupyter-widgets/controls",
     "model_module_version": "1.5.0",
     "model_name": "HBoxModel",
     "state": {
      "_dom_classes": [],
      "_model_module": "@jupyter-widgets/controls",
      "_model_module_version": "1.5.0",
      "_model_name": "HBoxModel",
      "_view_count": null,
      "_view_module": "@jupyter-widgets/controls",
      "_view_module_version": "1.5.0",
      "_view_name": "HBoxView",
      "box_style": "",
      "children": [
       "IPY_MODEL_22777627a25c47dbb45a9481eb02a7c5",
       "IPY_MODEL_0f503286d9cc41fb8d69f0feff879b71",
       "IPY_MODEL_001a2da04ade4408a40f165b512fa3c7"
      ],
      "layout": "IPY_MODEL_2ecb0d01c0c44cd5911179ec0e1e5b31"
     }
    },
    "8da97acfee6b41c7b6f7ab1563267afd": {
     "model_module": "@jupyter-widgets/base",
     "model_module_version": "1.2.0",
     "model_name": "LayoutModel",
     "state": {
      "_model_module": "@jupyter-widgets/base",
      "_model_module_version": "1.2.0",
      "_model_name": "LayoutModel",
      "_view_count": null,
      "_view_module": "@jupyter-widgets/base",
      "_view_module_version": "1.2.0",
      "_view_name": "LayoutView",
      "align_content": null,
      "align_items": null,
      "align_self": null,
      "border": null,
      "bottom": null,
      "display": null,
      "flex": null,
      "flex_flow": null,
      "grid_area": null,
      "grid_auto_columns": null,
      "grid_auto_flow": null,
      "grid_auto_rows": null,
      "grid_column": null,
      "grid_gap": null,
      "grid_row": null,
      "grid_template_areas": null,
      "grid_template_columns": null,
      "grid_template_rows": null,
      "height": null,
      "justify_content": null,
      "justify_items": null,
      "left": null,
      "margin": null,
      "max_height": null,
      "max_width": null,
      "min_height": null,
      "min_width": null,
      "object_fit": null,
      "object_position": null,
      "order": null,
      "overflow": null,
      "overflow_x": null,
      "overflow_y": null,
      "padding": null,
      "right": null,
      "top": null,
      "visibility": null,
      "width": null
     }
    },
    "93fbf704bba64286a0ee5bef2e1a0975": {
     "model_module": "@jupyter-widgets/controls",
     "model_module_version": "1.5.0",
     "model_name": "HTMLModel",
     "state": {
      "_dom_classes": [],
      "_model_module": "@jupyter-widgets/controls",
      "_model_module_version": "1.5.0",
      "_model_name": "HTMLModel",
      "_view_count": null,
      "_view_module": "@jupyter-widgets/controls",
      "_view_module_version": "1.5.0",
      "_view_name": "HTMLView",
      "description": "",
      "description_tooltip": null,
      "layout": "IPY_MODEL_95f7fd535c1944dcb528a511fcd6a7b7",
      "placeholder": "​",
      "style": "IPY_MODEL_2874a39d9636442a905b6de876dcb600",
      "value": "Loading checkpoint shards: 100%"
     }
    },
    "95f7fd535c1944dcb528a511fcd6a7b7": {
     "model_module": "@jupyter-widgets/base",
     "model_module_version": "1.2.0",
     "model_name": "LayoutModel",
     "state": {
      "_model_module": "@jupyter-widgets/base",
      "_model_module_version": "1.2.0",
      "_model_name": "LayoutModel",
      "_view_count": null,
      "_view_module": "@jupyter-widgets/base",
      "_view_module_version": "1.2.0",
      "_view_name": "LayoutView",
      "align_content": null,
      "align_items": null,
      "align_self": null,
      "border": null,
      "bottom": null,
      "display": null,
      "flex": null,
      "flex_flow": null,
      "grid_area": null,
      "grid_auto_columns": null,
      "grid_auto_flow": null,
      "grid_auto_rows": null,
      "grid_column": null,
      "grid_gap": null,
      "grid_row": null,
      "grid_template_areas": null,
      "grid_template_columns": null,
      "grid_template_rows": null,
      "height": null,
      "justify_content": null,
      "justify_items": null,
      "left": null,
      "margin": null,
      "max_height": null,
      "max_width": null,
      "min_height": null,
      "min_width": null,
      "object_fit": null,
      "object_position": null,
      "order": null,
      "overflow": null,
      "overflow_x": null,
      "overflow_y": null,
      "padding": null,
      "right": null,
      "top": null,
      "visibility": null,
      "width": null
     }
    },
    "ab7d3277b5a44b29949bca251b61823d": {
     "model_module": "@jupyter-widgets/controls",
     "model_module_version": "1.5.0",
     "model_name": "HBoxModel",
     "state": {
      "_dom_classes": [],
      "_model_module": "@jupyter-widgets/controls",
      "_model_module_version": "1.5.0",
      "_model_name": "HBoxModel",
      "_view_count": null,
      "_view_module": "@jupyter-widgets/controls",
      "_view_module_version": "1.5.0",
      "_view_name": "HBoxView",
      "box_style": "",
      "children": [
       "IPY_MODEL_f203177925cd47009a47c0f6c5af0e23",
       "IPY_MODEL_e4d5e8af95554b63baf8e164111a4996",
       "IPY_MODEL_358b959cab4f4e21ac138c621df4185a"
      ],
      "layout": "IPY_MODEL_e65a4ac0015641b4a86bd0a16058931b"
     }
    },
    "acbf9a8118284ce8bd62e7e4bb1116e0": {
     "model_module": "@jupyter-widgets/controls",
     "model_module_version": "1.5.0",
     "model_name": "DescriptionStyleModel",
     "state": {
      "_model_module": "@jupyter-widgets/controls",
      "_model_module_version": "1.5.0",
      "_model_name": "DescriptionStyleModel",
      "_view_count": null,
      "_view_module": "@jupyter-widgets/base",
      "_view_module_version": "1.2.0",
      "_view_name": "StyleView",
      "description_width": ""
     }
    },
    "b5910b4a98a745688ca26b4a40d54ffe": {
     "model_module": "@jupyter-widgets/base",
     "model_module_version": "1.2.0",
     "model_name": "LayoutModel",
     "state": {
      "_model_module": "@jupyter-widgets/base",
      "_model_module_version": "1.2.0",
      "_model_name": "LayoutModel",
      "_view_count": null,
      "_view_module": "@jupyter-widgets/base",
      "_view_module_version": "1.2.0",
      "_view_name": "LayoutView",
      "align_content": null,
      "align_items": null,
      "align_self": null,
      "border": null,
      "bottom": null,
      "display": null,
      "flex": null,
      "flex_flow": null,
      "grid_area": null,
      "grid_auto_columns": null,
      "grid_auto_flow": null,
      "grid_auto_rows": null,
      "grid_column": null,
      "grid_gap": null,
      "grid_row": null,
      "grid_template_areas": null,
      "grid_template_columns": null,
      "grid_template_rows": null,
      "height": null,
      "justify_content": null,
      "justify_items": null,
      "left": null,
      "margin": null,
      "max_height": null,
      "max_width": null,
      "min_height": null,
      "min_width": null,
      "object_fit": null,
      "object_position": null,
      "order": null,
      "overflow": null,
      "overflow_x": null,
      "overflow_y": null,
      "padding": null,
      "right": null,
      "top": null,
      "visibility": null,
      "width": null
     }
    },
    "b99d2ac2de12484b89de08b154ba9f04": {
     "model_module": "@jupyter-widgets/controls",
     "model_module_version": "1.5.0",
     "model_name": "DescriptionStyleModel",
     "state": {
      "_model_module": "@jupyter-widgets/controls",
      "_model_module_version": "1.5.0",
      "_model_name": "DescriptionStyleModel",
      "_view_count": null,
      "_view_module": "@jupyter-widgets/base",
      "_view_module_version": "1.2.0",
      "_view_name": "StyleView",
      "description_width": ""
     }
    },
    "c329f91721ed4c049ba018dd798cfde9": {
     "model_module": "@jupyter-widgets/controls",
     "model_module_version": "1.5.0",
     "model_name": "ProgressStyleModel",
     "state": {
      "_model_module": "@jupyter-widgets/controls",
      "_model_module_version": "1.5.0",
      "_model_name": "ProgressStyleModel",
      "_view_count": null,
      "_view_module": "@jupyter-widgets/base",
      "_view_module_version": "1.2.0",
      "_view_name": "StyleView",
      "bar_color": null,
      "description_width": ""
     }
    },
    "c55a898f4bfa419bb73006aa1c78f781": {
     "model_module": "@jupyter-widgets/controls",
     "model_module_version": "1.5.0",
     "model_name": "FloatProgressModel",
     "state": {
      "_dom_classes": [],
      "_model_module": "@jupyter-widgets/controls",
      "_model_module_version": "1.5.0",
      "_model_name": "FloatProgressModel",
      "_view_count": null,
      "_view_module": "@jupyter-widgets/controls",
      "_view_module_version": "1.5.0",
      "_view_name": "ProgressView",
      "bar_style": "",
      "description": "",
      "description_tooltip": null,
      "layout": "IPY_MODEL_6ed6708de5ce40e5991c575c9b16ff13",
      "max": 5,
      "min": 0,
      "orientation": "horizontal",
      "style": "IPY_MODEL_c329f91721ed4c049ba018dd798cfde9",
      "value": 5
     }
    },
    "cfadb6e73063457e9745395737ab4351": {
     "model_module": "@jupyter-widgets/controls",
     "model_module_version": "1.5.0",
     "model_name": "ProgressStyleModel",
     "state": {
      "_model_module": "@jupyter-widgets/controls",
      "_model_module_version": "1.5.0",
      "_model_name": "ProgressStyleModel",
      "_view_count": null,
      "_view_module": "@jupyter-widgets/base",
      "_view_module_version": "1.2.0",
      "_view_name": "StyleView",
      "bar_color": null,
      "description_width": ""
     }
    },
    "d02fbf74f2514fb2ae234b564720456f": {
     "model_module": "@jupyter-widgets/base",
     "model_module_version": "1.2.0",
     "model_name": "LayoutModel",
     "state": {
      "_model_module": "@jupyter-widgets/base",
      "_model_module_version": "1.2.0",
      "_model_name": "LayoutModel",
      "_view_count": null,
      "_view_module": "@jupyter-widgets/base",
      "_view_module_version": "1.2.0",
      "_view_name": "LayoutView",
      "align_content": null,
      "align_items": null,
      "align_self": null,
      "border": null,
      "bottom": null,
      "display": null,
      "flex": null,
      "flex_flow": null,
      "grid_area": null,
      "grid_auto_columns": null,
      "grid_auto_flow": null,
      "grid_auto_rows": null,
      "grid_column": null,
      "grid_gap": null,
      "grid_row": null,
      "grid_template_areas": null,
      "grid_template_columns": null,
      "grid_template_rows": null,
      "height": null,
      "justify_content": null,
      "justify_items": null,
      "left": null,
      "margin": null,
      "max_height": null,
      "max_width": null,
      "min_height": null,
      "min_width": null,
      "object_fit": null,
      "object_position": null,
      "order": null,
      "overflow": null,
      "overflow_x": null,
      "overflow_y": null,
      "padding": null,
      "right": null,
      "top": null,
      "visibility": null,
      "width": null
     }
    },
    "d2ac4047fbe1465cb1b54b799138fdf2": {
     "model_module": "@jupyter-widgets/controls",
     "model_module_version": "1.5.0",
     "model_name": "HBoxModel",
     "state": {
      "_dom_classes": [],
      "_model_module": "@jupyter-widgets/controls",
      "_model_module_version": "1.5.0",
      "_model_name": "HBoxModel",
      "_view_count": null,
      "_view_module": "@jupyter-widgets/controls",
      "_view_module_version": "1.5.0",
      "_view_name": "HBoxView",
      "box_style": "",
      "children": [
       "IPY_MODEL_3dfe22d404a04cad92c1fe71de895670",
       "IPY_MODEL_c55a898f4bfa419bb73006aa1c78f781",
       "IPY_MODEL_e116cb29f33648d8a48713831cf7c2cc"
      ],
      "layout": "IPY_MODEL_f3bb3272e4004801b322bbbf0ba32c66"
     }
    },
    "e116cb29f33648d8a48713831cf7c2cc": {
     "model_module": "@jupyter-widgets/controls",
     "model_module_version": "1.5.0",
     "model_name": "HTMLModel",
     "state": {
      "_dom_classes": [],
      "_model_module": "@jupyter-widgets/controls",
      "_model_module_version": "1.5.0",
      "_model_name": "HTMLModel",
      "_view_count": null,
      "_view_module": "@jupyter-widgets/controls",
      "_view_module_version": "1.5.0",
      "_view_name": "HTMLView",
      "description": "",
      "description_tooltip": null,
      "layout": "IPY_MODEL_8da97acfee6b41c7b6f7ab1563267afd",
      "placeholder": "​",
      "style": "IPY_MODEL_b99d2ac2de12484b89de08b154ba9f04",
      "value": " 5/5 [00:12&lt;00:00,  0.41it/s]"
     }
    },
    "e4d5e8af95554b63baf8e164111a4996": {
     "model_module": "@jupyter-widgets/controls",
     "model_module_version": "1.5.0",
     "model_name": "FloatProgressModel",
     "state": {
      "_dom_classes": [],
      "_model_module": "@jupyter-widgets/controls",
      "_model_module_version": "1.5.0",
      "_model_name": "FloatProgressModel",
      "_view_count": null,
      "_view_module": "@jupyter-widgets/controls",
      "_view_module_version": "1.5.0",
      "_view_name": "ProgressView",
      "bar_style": "success",
      "description": "",
      "description_tooltip": null,
      "layout": "IPY_MODEL_56c2c865785c412bbcd78974b668055a",
      "max": 40,
      "min": 0,
      "orientation": "horizontal",
      "style": "IPY_MODEL_cfadb6e73063457e9745395737ab4351",
      "value": 40
     }
    },
    "e65a4ac0015641b4a86bd0a16058931b": {
     "model_module": "@jupyter-widgets/base",
     "model_module_version": "1.2.0",
     "model_name": "LayoutModel",
     "state": {
      "_model_module": "@jupyter-widgets/base",
      "_model_module_version": "1.2.0",
      "_model_name": "LayoutModel",
      "_view_count": null,
      "_view_module": "@jupyter-widgets/base",
      "_view_module_version": "1.2.0",
      "_view_name": "LayoutView",
      "align_content": null,
      "align_items": null,
      "align_self": null,
      "border": null,
      "bottom": null,
      "display": "inline-flex",
      "flex": null,
      "flex_flow": "row wrap",
      "grid_area": null,
      "grid_auto_columns": null,
      "grid_auto_flow": null,
      "grid_auto_rows": null,
      "grid_column": null,
      "grid_gap": null,
      "grid_row": null,
      "grid_template_areas": null,
      "grid_template_columns": null,
      "grid_template_rows": null,
      "height": null,
      "justify_content": null,
      "justify_items": null,
      "left": null,
      "margin": null,
      "max_height": null,
      "max_width": null,
      "min_height": null,
      "min_width": null,
      "object_fit": null,
      "object_position": null,
      "order": null,
      "overflow": null,
      "overflow_x": null,
      "overflow_y": null,
      "padding": null,
      "right": null,
      "top": null,
      "visibility": null,
      "width": "100%"
     }
    },
    "f203177925cd47009a47c0f6c5af0e23": {
     "model_module": "@jupyter-widgets/controls",
     "model_module_version": "1.5.0",
     "model_name": "HTMLModel",
     "state": {
      "_dom_classes": [],
      "_model_module": "@jupyter-widgets/controls",
      "_model_module_version": "1.5.0",
      "_model_name": "HTMLModel",
      "_view_count": null,
      "_view_module": "@jupyter-widgets/controls",
      "_view_module_version": "1.5.0",
      "_view_name": "HTMLView",
      "description": "",
      "description_tooltip": null,
      "layout": "IPY_MODEL_48aa5d18af03478392d22c9c678958a4",
      "placeholder": "​",
      "style": "IPY_MODEL_fc6d36090ddc4891a87b587c2a2030ab",
      "value": "Epoch 1: 100%"
     }
    },
    "f3bb3272e4004801b322bbbf0ba32c66": {
     "model_module": "@jupyter-widgets/base",
     "model_module_version": "1.2.0",
     "model_name": "LayoutModel",
     "state": {
      "_model_module": "@jupyter-widgets/base",
      "_model_module_version": "1.2.0",
      "_model_name": "LayoutModel",
      "_view_count": null,
      "_view_module": "@jupyter-widgets/base",
      "_view_module_version": "1.2.0",
      "_view_name": "LayoutView",
      "align_content": null,
      "align_items": null,
      "align_self": null,
      "border": null,
      "bottom": null,
      "display": "inline-flex",
      "flex": null,
      "flex_flow": "row wrap",
      "grid_area": null,
      "grid_auto_columns": null,
      "grid_auto_flow": null,
      "grid_auto_rows": null,
      "grid_column": null,
      "grid_gap": null,
      "grid_row": null,
      "grid_template_areas": null,
      "grid_template_columns": null,
      "grid_template_rows": null,
      "height": null,
      "justify_content": null,
      "justify_items": null,
      "left": null,
      "margin": null,
      "max_height": null,
      "max_width": null,
      "min_height": null,
      "min_width": null,
      "object_fit": null,
      "object_position": null,
      "order": null,
      "overflow": null,
      "overflow_x": null,
      "overflow_y": null,
      "padding": null,
      "right": null,
      "top": null,
      "visibility": "hidden",
      "width": "100%"
     }
    },
    "fac26cd54fe244588e0de072ad44544d": {
     "model_module": "@jupyter-widgets/controls",
     "model_module_version": "1.5.0",
     "model_name": "FloatProgressModel",
     "state": {
      "_dom_classes": [],
      "_model_module": "@jupyter-widgets/controls",
      "_model_module_version": "1.5.0",
      "_model_name": "FloatProgressModel",
      "_view_count": null,
      "_view_module": "@jupyter-widgets/controls",
      "_view_module_version": "1.5.0",
      "_view_name": "ProgressView",
      "bar_style": "success",
      "description": "",
      "description_tooltip": null,
      "layout": "IPY_MODEL_68782fd35c474d9ea8c26a3e84cf7974",
      "max": 3,
      "min": 0,
      "orientation": "horizontal",
      "style": "IPY_MODEL_29d08408c5c04ca8acdd43bfd3b33b49",
      "value": 3
     }
    },
    "fc6d36090ddc4891a87b587c2a2030ab": {
     "model_module": "@jupyter-widgets/controls",
     "model_module_version": "1.5.0",
     "model_name": "DescriptionStyleModel",
     "state": {
      "_model_module": "@jupyter-widgets/controls",
      "_model_module_version": "1.5.0",
      "_model_name": "DescriptionStyleModel",
      "_view_count": null,
      "_view_module": "@jupyter-widgets/base",
      "_view_module_version": "1.2.0",
      "_view_name": "StyleView",
      "description_width": ""
     }
    }
   }
  }
 },
 "nbformat": 4,
 "nbformat_minor": 4
}
